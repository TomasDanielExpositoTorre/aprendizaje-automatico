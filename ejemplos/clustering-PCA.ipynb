{
 "cells": [
  {
   "cell_type": "code",
   "execution_count": 1,
   "id": "c500b80a",
   "metadata": {},
   "outputs": [],
   "source": [
    "from sklearn.decomposition import PCA\n",
    "import numpy as np\n",
    "import matplotlib.pyplot as plt"
   ]
  },
  {
   "cell_type": "code",
   "execution_count": 2,
   "id": "bb44df69",
   "metadata": {},
   "outputs": [
    {
     "data": {
      "image/png": "[encoded data removed]",
      "text/plain": [
       "<Figure size 640x480 with 1 Axes>"
      ]
     },
     "metadata": {},
     "output_type": "display_data"
    }
   ],
   "source": [
    "# Creo un dataset artificial\n",
    "\n",
    "x1 = np.random.rand(100)\n",
    "x2 = 3*x1 + 0.1*np.random.randn(100)\n",
    "\n",
    "plt.plot(x1,x2,\".\")\n",
    "plt.xlabel(\"x1\")\n",
    "plt.ylabel(\"x2\");"
   ]
  },
  {
   "cell_type": "code",
   "execution_count": 3,
   "id": "d8b8d9f3",
   "metadata": {},
   "outputs": [],
   "source": [
    "X = np.zeros((100,2))\n",
    "X[:,0] = x1\n",
    "X[:,1] = x2"
   ]
  },
  {
   "cell_type": "code",
   "execution_count": 4,
   "id": "acde07c3",
   "metadata": {},
   "outputs": [
    {
     "name": "stdout",
     "output_type": "stream",
     "text": [
      "(100, 2)\n"
     ]
    },
    {
     "data": {
      "text/plain": [
       "(100, 1)"
      ]
     },
     "execution_count": 4,
     "metadata": {},
     "output_type": "execute_result"
    }
   ],
   "source": [
    "pca = PCA(n_components=1)\n",
    "pca.fit(X)\n",
    "X_pca = pca.transform(X)\n",
    "print(X.shape)\n",
    "X_pca.shape"
   ]
  },
  {
   "cell_type": "code",
   "execution_count": 5,
   "id": "61b0bb9b",
   "metadata": {},
   "outputs": [
    {
     "data": {
      "text/plain": [
       "array([0.58188948, 1.71513469])"
      ]
     },
     "execution_count": 5,
     "metadata": {},
     "output_type": "execute_result"
    }
   ],
   "source": [
    "X[0]"
   ]
  },
  {
   "cell_type": "code",
   "execution_count": 6,
   "id": "130db28e",
   "metadata": {},
   "outputs": [
    {
     "data": {
      "text/plain": [
       "array([-0.16065934])"
      ]
     },
     "execution_count": 6,
     "metadata": {},
     "output_type": "execute_result"
    }
   ],
   "source": [
    "X_pca[0]"
   ]
  },
  {
   "cell_type": "code",
   "execution_count": 7,
   "id": "155ab53a",
   "metadata": {},
   "outputs": [
    {
     "data": {
      "text/plain": [
       "array([0.57289035, 1.71811837])"
      ]
     },
     "execution_count": 7,
     "metadata": {},
     "output_type": "execute_result"
    }
   ],
   "source": [
    "pca.inverse_transform(X_pca[0])"
   ]
  },
  {
   "cell_type": "code",
   "execution_count": null,
   "id": "cb324cbf",
   "metadata": {},
   "outputs": [],
   "source": []
  }
 ],
 "metadata": {
  "kernelspec": {
   "display_name": "Python 3 (ipykernel)",
   "language": "python",
   "name": "python3"
  },
  "language_info": {
   "codemirror_mode": {
    "name": "ipython",
    "version": 3
   },
   "file_extension": ".py",
   "mimetype": "text/x-python",
   "name": "python",
   "nbconvert_exporter": "python",
   "pygments_lexer": "ipython3",
   "version": "3.11.4"
  }
 },
 "nbformat": 4,
 "nbformat_minor": 5
}
