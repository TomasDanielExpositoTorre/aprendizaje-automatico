{
 "cells": [
  {
   "cell_type": "markdown",
   "metadata": {
    "id": "wgF4eMXNzQpX"
   },
   "source": [
    "<font color=\"#CA3532\"><h1 align=\"left\">Clustering</h1></font>\n",
    "<h2 align=\"left\">Clustering jerárquico</h2>"
   ]
  },
  {
   "cell_type": "markdown",
   "metadata": {
    "id": "CQI2avw_zQpb"
   },
   "source": [
    "Primero importamos las librerías que necesitaremos. También activaremos el modo *inline* para los gráficos generados por *matplotlib*. También inicializaremos la semilla del generador de números aleatorios."
   ]
  },
  {
   "cell_type": "code",
   "execution_count": null,
   "metadata": {
    "executionInfo": {
     "elapsed": 1856,
     "status": "ok",
     "timestamp": 1699094676546,
     "user": {
      "displayName": "Manuel Sánchez-Montañés",
      "userId": "17112108692206476645"
     },
     "user_tz": -60
    },
    "id": "1YVVK7cJzQpb"
   },
   "outputs": [],
   "source": [
    "import pandas as pd\n",
    "import numpy as np\n",
    "import matplotlib.pyplot as plt\n",
    "from sklearn import metrics\n",
    "from numpy import linalg\n",
    "from matplotlib.patches import Ellipse\n",
    "from scipy.cluster.hierarchy import dendrogram, linkage, fcluster"
   ]
  },
  {
   "cell_type": "markdown",
   "metadata": {
    "id": "iQjCXAF-zQpc"
   },
   "source": [
    "Ahora crearemos un problema no supervisado sintético. El objetivo es entender los conceptos principales con este prolema, luego analizaremos bases de datos reales. Usaremos la función \"make_blobs\" que genera datos con un número especificado de \"blobs\". Esta función escoge aleatoriamente los centros de los blobs.\n",
    "\n",
    "Los parámetros que cambiaremos se comentan aquí:"
   ]
  },
  {
   "cell_type": "markdown",
   "metadata": {
    "id": "yqlXKYDBzQpd"
   },
   "source": [
    "## Funciones para crear y dibujar los datos en el problema de los clusters elipsoidales"
   ]
  },
  {
   "cell_type": "code",
   "execution_count": null,
   "metadata": {
    "executionInfo": {
     "elapsed": 2,
     "status": "ok",
     "timestamp": 1699094676546,
     "user": {
      "displayName": "Manuel Sánchez-Montañés",
      "userId": "17112108692206476645"
     },
     "user_tz": -60
    },
    "id": "kUju_xg2zQpd"
   },
   "outputs": [],
   "source": [
    "def rota_datos_alrededor_origen(X, angulo):\n",
    "    angle_rad = angulo*2.0*np.pi/360.0\n",
    "\n",
    "    s = np.sin(angle_rad)\n",
    "    c = np.cos(angle_rad)\n",
    "    matriz_rotacion = np.array([[c,-s],[s,c]])\n",
    "    X_rotados = np.dot(matriz_rotacion, X) # se rotan los puntos generados\n",
    "\n",
    "    return X_rotados\n",
    "\n",
    "def genera_puntos_gaussiana2D(Npuntos, media, std1, std2, angulo):\n",
    "    X = np.random.randn(2, Npuntos)\n",
    "    X[0,:] = X[0,:] * std1 # se multiplica cada atributo por la\n",
    "    X[1,:] = X[1,:] * std2 # desviación estándar deseada\n",
    "    X = rota_datos_alrededor_origen(X, angulo)\n",
    "    X[0,:] = media[0] + X[0,:]\n",
    "    X[1,:] = media[1] + X[1,:]\n",
    "\n",
    "    return X.T\n",
    "\n",
    "def genera_puntos_disco2D(Npuntos, media, radio):\n",
    "    radios  = radio*np.sqrt(np.random.rand(Npuntos))\n",
    "    angulos = (2*np.pi)*np.random.rand(Npuntos)\n",
    "    X = np.zeros((Npuntos,2))\n",
    "    X[:,0] = media[0] + radios*np.cos(angulos)\n",
    "    X[:,1] = media[1] + radios*np.sin(angulos)\n",
    "    return X\n",
    "\n",
    "def plot_ellipsoid(mean, cov, color, splot, alpha=0.5):\n",
    "    v, w = linalg.eigh(cov)\n",
    "    u = w[0] / linalg.norm(w[0])\n",
    "    angle = np.arctan(u[1] / u[0])\n",
    "    angle = 180 * angle / np.pi  # convert to degrees\n",
    "    ell = Ellipse(mean, v[0]*2, v[1]*2, 180 + angle, color=color)\n",
    "    ell.set_clip_box(splot.bbox)\n",
    "    ell.set_alpha(alpha)\n",
    "    splot.add_artist(ell)\n",
    "\n",
    "def plot_ellipsoid_from_data(X, color, splot, alpha=0.5):\n",
    "    plot_ellipsoid(np.mean(X.T, axis=1), np.cov(X.T), color, splot, alpha)"
   ]
  },
  {
   "cell_type": "markdown",
   "metadata": {
    "id": "jb8TLx7ozQpe"
   },
   "source": [
    "## A continuación vamos a realizar un clustering aglomerativo"
   ]
  },
  {
   "cell_type": "code",
   "execution_count": null,
   "metadata": {
    "colab": {
     "base_uri": "https://localhost:8080/",
     "height": 545
    },
    "executionInfo": {
     "elapsed": 727,
     "status": "ok",
     "timestamp": 1699094677272,
     "user": {
      "displayName": "Manuel Sánchez-Montañés",
      "userId": "17112108692206476645"
     },
     "user_tz": -60
    },
    "id": "aDAXmYUezQpf",
    "outputId": "404a4a58-b819-4fa7-e35b-82be1ea50d74"
   },
   "outputs": [],
   "source": [
    "from scipy.cluster.hierarchy import dendrogram, linkage, fcluster\n",
    "\n",
    "# Number of samples per component:\n",
    "n_samples = 3\n",
    "\n",
    "# Generate random sample, three components:\n",
    "np.random.seed(0)\n",
    "X1 = genera_puntos_gaussiana2D(n_samples, [0, 0], 1, 1, 45)\n",
    "X2 = genera_puntos_gaussiana2D(n_samples, [10, 0], 1, 1, 45)\n",
    "X3 = genera_puntos_gaussiana2D(n_samples, [5, -10], 1, 1, 0)\n",
    "X  = np.concatenate((X1, X2, X3))\n",
    "\n",
    "X  = np.array([[0,10], [2,12], [1,10], [10,10], [10,12], [11,10], [5,0], [7,2], [5,1]])\n",
    "\n",
    "plt.figure(figsize=(6,6))\n",
    "plt.scatter(X[:,0], X[:,1], color = 'b', s=10)\n",
    "for i,Xi in enumerate(X):\n",
    "    plt.text(Xi[0], Xi[1], str(i), fontsize=16)\n",
    "plt.grid()\n",
    "plt.title('Datos sintéticos (no etiquetados)');"
   ]
  },
  {
   "cell_type": "code",
   "execution_count": null,
   "metadata": {
    "colab": {
     "base_uri": "https://localhost:8080/"
    },
    "executionInfo": {
     "elapsed": 4,
     "status": "ok",
     "timestamp": 1699094677272,
     "user": {
      "displayName": "Manuel Sánchez-Montañés",
      "userId": "17112108692206476645"
     },
     "user_tz": -60
    },
    "id": "5LhHuG7mzQpf",
    "outputId": "e2d7f077-3b2c-4408-e1f1-46d5bfeb9079"
   },
   "outputs": [],
   "source": [
    "np.sqrt(5)"
   ]
  },
  {
   "cell_type": "code",
   "execution_count": null,
   "metadata": {
    "colab": {
     "base_uri": "https://localhost:8080/",
     "height": 449
    },
    "executionInfo": {
     "elapsed": 660,
     "status": "ok",
     "timestamp": 1699094677929,
     "user": {
      "displayName": "Manuel Sánchez-Montañés",
      "userId": "17112108692206476645"
     },
     "user_tz": -60
    },
    "id": "_QGr7QqtzQpg",
    "outputId": "f917280b-5204-4c67-c1e1-b9af65276971"
   },
   "outputs": [],
   "source": [
    "# Hierarchichal clustering, single-linkage:\n",
    "Z = linkage(X, 'complete') # single, complete, average\n",
    "\n",
    "# Plot the dendrogram:\n",
    "plt.figure(figsize=(15, 5))\n",
    "dendrogram(Z, leaf_rotation=0)\n",
    "plt.grid(True)"
   ]
  },
  {
   "cell_type": "code",
   "execution_count": null,
   "metadata": {
    "colab": {
     "base_uri": "https://localhost:8080/"
    },
    "executionInfo": {
     "elapsed": 6,
     "status": "ok",
     "timestamp": 1699094677929,
     "user": {
      "displayName": "Manuel Sánchez-Montañés",
      "userId": "17112108692206476645"
     },
     "user_tz": -60
    },
    "id": "8H5Q-athzQpg",
    "outputId": "5c086e08-413b-4e92-e5d2-7e0c69b5d77b"
   },
   "outputs": [],
   "source": [
    "print(Z) # id cluster 1, id cluster2, distance, num. points"
   ]
  },
  {
   "cell_type": "code",
   "execution_count": null,
   "metadata": {
    "colab": {
     "base_uri": "https://localhost:8080/",
     "height": 453
    },
    "executionInfo": {
     "elapsed": 6,
     "status": "ok",
     "timestamp": 1699094677930,
     "user": {
      "displayName": "Manuel Sánchez-Montañés",
      "userId": "17112108692206476645"
     },
     "user_tz": -60
    },
    "id": "ZpGUTwxLzQpg",
    "outputId": "6bacd9a7-bf2d-45c9-aa67-299112e5e640"
   },
   "outputs": [],
   "source": [
    "# Number of samples per component:\n",
    "n_samples = 100\n",
    "\n",
    "# Generate random sample, three components:\n",
    "np.random.seed(0)\n",
    "X1 = genera_puntos_gaussiana2D(n_samples, [0, 0], 2, 1, 45)\n",
    "X2 = genera_puntos_gaussiana2D(n_samples, [10, 0], 2, 1, 45)\n",
    "X3 = genera_puntos_gaussiana2D(n_samples, [5, -10], 2, 1, 0)\n",
    "X = np.concatenate((X1, X2, X3))\n",
    "\n",
    "plt.scatter(X[:,0], X[:,1], color = 'b', s=10)\n",
    "plt.grid()\n",
    "plt.title('Datos sintéticos (no etiquetados)');"
   ]
  },
  {
   "cell_type": "code",
   "execution_count": null,
   "metadata": {
    "colab": {
     "base_uri": "https://localhost:8080/",
     "height": 843
    },
    "executionInfo": {
     "elapsed": 2419,
     "status": "ok",
     "timestamp": 1699094680344,
     "user": {
      "displayName": "Manuel Sánchez-Montañés",
      "userId": "17112108692206476645"
     },
     "user_tz": -60
    },
    "id": "sGOlnXtWzQph",
    "outputId": "02e92c60-d85b-4931-ea62-dde3aa63c0c6"
   },
   "outputs": [],
   "source": [
    "# Hierarchichal clustering, single-linkage:\n",
    "Z = linkage(X, 'average')\n",
    "\n",
    "# Plot the dendrogram:\n",
    "plt.figure(figsize=(20, 10))\n",
    "#dendrogram(Z, leaf_rotation=0)\n",
    "#dendrogram(Z, leaf_rotation=0, color_threshold=4.0)\n",
    "dendrogram(Z, leaf_rotation=0, truncate_mode='lastp', p=100)\n",
    "plt.grid(True)"
   ]
  },
  {
   "cell_type": "code",
   "execution_count": null,
   "metadata": {
    "colab": {
     "base_uri": "https://localhost:8080/"
    },
    "executionInfo": {
     "elapsed": 4,
     "status": "ok",
     "timestamp": 1699094680344,
     "user": {
      "displayName": "Manuel Sánchez-Montañés",
      "userId": "17112108692206476645"
     },
     "user_tz": -60
    },
    "id": "rvjPMD-pzQph",
    "outputId": "56213cf9-7bd6-4f4a-b7e1-e3266d238ec8"
   },
   "outputs": [],
   "source": [
    "# Get the final clusters:\n",
    "clusters = fcluster(Z, 6.0, # altura donde ponemos el corte: 6.0\n",
    "                    criterion='distance')\n",
    "print('n clusters:', len(np.unique(clusters)))\n",
    "clusters"
   ]
  },
  {
   "cell_type": "code",
   "execution_count": null,
   "metadata": {
    "colab": {
     "base_uri": "https://localhost:8080/"
    },
    "executionInfo": {
     "elapsed": 3,
     "status": "ok",
     "timestamp": 1699094680344,
     "user": {
      "displayName": "Manuel Sánchez-Montañés",
      "userId": "17112108692206476645"
     },
     "user_tz": -60
    },
    "id": "WZWS3fLAzQph",
    "outputId": "7439c2a0-dec3-425a-b330-c27c7b3214d6"
   },
   "outputs": [],
   "source": [
    "# alternative:\n",
    "clusters = fcluster(Z, 3, criterion='maxclust') # \"quiero 3 clusters como máximo\"\n",
    "print('n clusters:', len(np.unique(clusters)))\n",
    "clusters"
   ]
  },
  {
   "cell_type": "code",
   "execution_count": null,
   "metadata": {
    "colab": {
     "base_uri": "https://localhost:8080/",
     "height": 522
    },
    "executionInfo": {
     "elapsed": 535,
     "status": "ok",
     "timestamp": 1699094680877,
     "user": {
      "displayName": "Manuel Sánchez-Montañés",
      "userId": "17112108692206476645"
     },
     "user_tz": -60
    },
    "id": "x4jH-vj3zQpi",
    "outputId": "163a3714-4591-451c-d604-872e79f35401"
   },
   "outputs": [],
   "source": [
    "# Plot the clusters:\n",
    "plt.figure(figsize=(6, 6))\n",
    "plt.scatter(X[:,0], X[:,1], c=clusters, s=30)\n",
    "plt.grid(True)\n",
    "plt.show()"
   ]
  },
  {
   "cell_type": "markdown",
   "metadata": {
    "id": "y8Gd8awrzQpi"
   },
   "source": [
    "### Finding automatically the number of clusters"
   ]
  },
  {
   "cell_type": "code",
   "execution_count": null,
   "metadata": {
    "executionInfo": {
     "elapsed": 284,
     "status": "ok",
     "timestamp": 1699095204085,
     "user": {
      "displayName": "Manuel Sánchez-Montañés",
      "userId": "17112108692206476645"
     },
     "user_tz": -60
    },
    "id": "LsfkCGiEzQpi"
   },
   "outputs": [],
   "source": [
    "#from sklearn.metrics import silhouette_score as qmetric\n",
    "from sklearn.metrics import calinski_harabasz_score as qmetric\n",
    "\n",
    "Nclusters_max = 15\n",
    "\n",
    "qualities = []\n",
    "labels_sets = []\n",
    "for k in range(1,Nclusters_max+1):\n",
    "    labels = fcluster(Z, k, criterion='maxclust')\n",
    "    labels_sets.append(labels)\n",
    "    if k >1:\n",
    "        qualities.append(qmetric(X, labels))\n",
    "    else:\n",
    "        qualities.append(0)"
   ]
  },
  {
   "cell_type": "code",
   "execution_count": null,
   "metadata": {
    "colab": {
     "base_uri": "https://localhost:8080/",
     "height": 333
    },
    "executionInfo": {
     "elapsed": 485,
     "status": "ok",
     "timestamp": 1699095211477,
     "user": {
      "displayName": "Manuel Sánchez-Montañés",
      "userId": "17112108692206476645"
     },
     "user_tz": -60
    },
    "id": "dlrT3x2pzQpi",
    "outputId": "1972b7c3-397e-4f17-c238-964b3e21a1eb"
   },
   "outputs": [],
   "source": [
    "fig = plt.figure(figsize=(14,3))\n",
    "\n",
    "plt.plot(range(1,Nclusters_max+1), qualities, marker='o')\n",
    "plt.xlabel('number of clusters')\n",
    "plt.title('clustering quality')\n",
    "plt.show()\n",
    "\n",
    "best = pd.Series(qualities).idxmax() # get index for the best model\n",
    "labels = labels_sets[best]\n",
    "n_clusters = len(np.unique(labels))"
   ]
  },
  {
   "cell_type": "code",
   "execution_count": null,
   "metadata": {
    "colab": {
     "base_uri": "https://localhost:8080/"
    },
    "executionInfo": {
     "elapsed": 4,
     "status": "ok",
     "timestamp": 1699094681397,
     "user": {
      "displayName": "Manuel Sánchez-Montañés",
      "userId": "17112108692206476645"
     },
     "user_tz": -60
    },
    "id": "A_7IFgSvzQpj",
    "outputId": "1c730482-bdd4-4a7c-b840-1aed039b14ef"
   },
   "outputs": [],
   "source": [
    "n_clusters"
   ]
  },
  {
   "cell_type": "code",
   "execution_count": null,
   "metadata": {
    "executionInfo": {
     "elapsed": 3,
     "status": "ok",
     "timestamp": 1699094681397,
     "user": {
      "displayName": "Manuel Sánchez-Montañés",
      "userId": "17112108692206476645"
     },
     "user_tz": -60
    },
    "id": "1GnV3ykHzQpj"
   },
   "outputs": [],
   "source": []
  }
 ],
 "metadata": {
  "anaconda-cloud": {},
  "colab": {
   "provenance": []
  },
  "kernelspec": {
   "display_name": "Python 3 (ipykernel)",
   "language": "python",
   "name": "python3"
  },
  "language_info": {
   "codemirror_mode": {
    "name": "ipython",
    "version": 3
   },
   "file_extension": ".py",
   "mimetype": "text/x-python",
   "name": "python",
   "nbconvert_exporter": "python",
   "pygments_lexer": "ipython3",
   "version": "3.11.4"
  }
 },
 "nbformat": 4,
 "nbformat_minor": 1
}
