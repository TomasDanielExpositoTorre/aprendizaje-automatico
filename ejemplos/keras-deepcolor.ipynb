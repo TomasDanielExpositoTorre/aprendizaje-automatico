{
 "cells": [
  {
   "cell_type": "markdown",
   "metadata": {
    "id": "UsFozCAx9r4g"
   },
   "source": [
    "# **Ejercicio: clasificar en female / male caras en color**"
   ]
  },
  {
   "cell_type": "markdown",
   "metadata": {
    "id": "YJbLizBOTs6x"
   },
   "source": [
    "La base de datos usada es un subconjunto de la base de datos\n",
    "\"Labeled Faces in the Wild\" (\"LFW\"):\n",
    "\n",
    "  http://vis-www.cs.umass.edu/lfw/lfw-funneled.tgz\n",
    "\n",
    "  http://vis-www.cs.umass.edu/lfw/\n",
    "\n",
    "La separación en carpetas \"female\" / \"male\" se ha realizado usando\n",
    "un código basado en:\n",
    "https://github.com/Pletron/LFWgender"
   ]
  },
  {
   "cell_type": "code",
   "execution_count": 1,
   "metadata": {
    "executionInfo": {
     "elapsed": 3980,
     "status": "ok",
     "timestamp": 1734025086115,
     "user": {
      "displayName": "SMI",
      "userId": "03894129457800149408"
     },
     "user_tz": -60
    },
    "id": "3yjN2rcFTs6q"
   },
   "outputs": [],
   "source": [
    "import numpy as np\n",
    "import pandas as pd\n",
    "import seaborn as sns\n",
    "import matplotlib.pyplot as plt\n",
    "from sklearn.metrics import roc_curve, auc, confusion_matrix\n",
    "import os\n",
    "from PIL import Image"
   ]
  },
  {
   "cell_type": "code",
   "execution_count": 2,
   "metadata": {
    "executionInfo": {
     "elapsed": 5,
     "status": "ok",
     "timestamp": 1734025086115,
     "user": {
      "displayName": "SMI",
      "userId": "03894129457800149408"
     },
     "user_tz": -60
    },
    "id": "K17jfrfMZdYs"
   },
   "outputs": [],
   "source": [
    "COLAB = False"
   ]
  },
  {
   "cell_type": "markdown",
   "metadata": {
    "id": "SeJKZ-SdZfml"
   },
   "source": [
    "Si se desea ejecutar en local:\n",
    "\n",
    "- Descargar el dataset de: https://drive.google.com/file/d/1kD_GKuU2doz3TSNVi45_BbwvDZ2KmEei\n",
    "\n",
    "- Poner variable COLAB a False"
   ]
  },
  {
   "cell_type": "code",
   "execution_count": 3,
   "metadata": {
    "colab": {
     "base_uri": "https://localhost:8080/"
    },
    "executionInfo": {
     "elapsed": 4,
     "status": "ok",
     "timestamp": 1734025086115,
     "user": {
      "displayName": "SMI",
      "userId": "03894129457800149408"
     },
     "user_tz": -60
    },
    "id": "xXc50-rN3IQ2",
    "outputId": "179f3154-d03c-4019-c583-2017e64f0e02"
   },
   "outputs": [
    {
     "name": "stdout",
     "output_type": "stream",
     "text": [
      "total 48456\n",
      "drwxrwxr-x 5 tomas tomas     4096 Dec 23 14:51 .\n",
      "drwxrwxr-x 8 tomas tomas     4096 Dec 23 14:51 ..\n",
      "-rw-rw-r-- 1 tomas tomas    60671 Dec 23 14:45 best_model.keras\n",
      "-rw-r--r-- 1 tomas tomas     3247 Mar 11  2022 caras_aux.py\n",
      "-rw-rw-r-- 1 tomas tomas    37244 Dec 23 14:51 color-base.ipynb\n",
      "-rw-rw-r-- 1 tomas tomas    27897 Dec 23 14:27 color-cnn.ipynb\n",
      "-rw-rw-r-- 1 tomas tomas    28427 Dec 23 14:27 color-cnntl.ipynb\n",
      "-rw-r--r-- 1 tomas tomas     3237 Mar 11  2022 funciones_auxiliares.py\n",
      "drwxr-xr-x 4 tomas tomas     4096 Nov 11  2019 gender\n",
      "-rw-rw-r-- 1 tomas tomas   435551 Dec 23 14:45 gris-base.ipynb\n",
      "drwxrwxr-x 2 tomas tomas     4096 Dec 23 14:50 .ipynb_checkpoints\n",
      "-rw-r--r-- 1 tomas tomas 48988160 Dec 23 14:15 .jupyter_ystore.db\n",
      "drwxrwxr-x 2 tomas tomas     4096 Dec 23 14:43 __pycache__\n"
     ]
    }
   ],
   "source": [
    "!ls -la"
   ]
  },
  {
   "cell_type": "markdown",
   "metadata": {
    "id": "ulBPjhnBBhbm"
   },
   "source": [
    "### Descarga de datos"
   ]
  },
  {
   "cell_type": "code",
   "execution_count": 4,
   "metadata": {
    "colab": {
     "base_uri": "https://localhost:8080/"
    },
    "executionInfo": {
     "elapsed": 6022,
     "status": "ok",
     "timestamp": 1734025092135,
     "user": {
      "displayName": "SMI",
      "userId": "03894129457800149408"
     },
     "user_tz": -60
    },
    "id": "-eKTevppZdbI",
    "outputId": "8bbf3023-d884-4240-ef4a-060bd8a964d7"
   },
   "outputs": [],
   "source": [
    "if COLAB:\n",
    "    aux = \"'https://drive.usercontent.google.com/download?id=1kD_GKuU2doz3TSNVi45_BbwvDZ2KmEei&export=download&confirm=t&uuid=56f4f47a-291b-4ef9-895f-8886caf14b78'\"\n",
    "    !wget $aux -O ./gender.zip\n",
    "    !unzip -qq ./gender.zip"
   ]
  },
  {
   "cell_type": "code",
   "execution_count": 5,
   "metadata": {
    "colab": {
     "base_uri": "https://localhost:8080/"
    },
    "executionInfo": {
     "elapsed": 5251,
     "status": "ok",
     "timestamp": 1734025097384,
     "user": {
      "displayName": "SMI",
      "userId": "03894129457800149408"
     },
     "user_tz": -60
    },
    "id": "nktDNpqu3WvC",
    "outputId": "982e1874-a0bd-4f7a-bae9-73d2642809da"
   },
   "outputs": [],
   "source": [
    "if COLAB:\n",
    "    from google_drive_downloader import GoogleDriveDownloader as gdd\n",
    "    gdd.download_file_from_google_drive(file_id='1jifedd49sgZI2ZA6722h9R-mRh2Ciqzp',\n",
    "                                        dest_path='./caras_aux.py.zip', unzip=True)\n",
    "    gdd.download_file_from_google_drive(file_id='1w6rSNy0mDds1cDNBtbL9U1bkF4PiGCnK',\n",
    "                                        dest_path='./funciones_auxiliares.py.zip', unzip=True)"
   ]
  },
  {
   "cell_type": "markdown",
   "metadata": {
    "id": "288pPq6V_nEv"
   },
   "source": [
    "## **Funciones auxiliares**"
   ]
  },
  {
   "cell_type": "code",
   "execution_count": 6,
   "metadata": {
    "executionInfo": {
     "elapsed": 5521,
     "status": "ok",
     "timestamp": 1734025102904,
     "user": {
      "displayName": "SMI",
      "userId": "03894129457800149408"
     },
     "user_tz": -60
    },
    "id": "yNNx13G5AAvB"
   },
   "outputs": [
    {
     "name": "stderr",
     "output_type": "stream",
     "text": [
      "2024-12-23 14:51:19.064967: I tensorflow/core/util/port.cc:153] oneDNN custom operations are on. You may see slightly different numerical results due to floating-point round-off errors from different computation orders. To turn them off, set the environment variable `TF_ENABLE_ONEDNN_OPTS=0`.\n",
      "2024-12-23 14:51:19.072289: E external/local_xla/xla/stream_executor/cuda/cuda_fft.cc:477] Unable to register cuFFT factory: Attempting to register factory for plugin cuFFT when one has already been registered\n",
      "WARNING: All log messages before absl::InitializeLog() is called are written to STDERR\n",
      "E0000 00:00:1734961879.080171   92650 cuda_dnn.cc:8310] Unable to register cuDNN factory: Attempting to register factory for plugin cuDNN when one has already been registered\n",
      "E0000 00:00:1734961879.082541   92650 cuda_blas.cc:1418] Unable to register cuBLAS factory: Attempting to register factory for plugin cuBLAS when one has already been registered\n",
      "2024-12-23 14:51:19.091535: I tensorflow/core/platform/cpu_feature_guard.cc:210] This TensorFlow binary is optimized to use available CPU instructions in performance-critical operations.\n",
      "To enable the following instructions: AVX2 AVX_VNNI FMA, in other operations, rebuild TensorFlow with the appropriate compiler flags.\n"
     ]
    }
   ],
   "source": [
    "from IPython.display import SVG\n",
    "from keras.utils import model_to_dot\n",
    "\n",
    "def display_model(model):\n",
    "    if COLAB:\n",
    "        display(SVG(model_to_dot(model, show_shapes=True,dpi=72).create(prog='dot', format='svg')))\n",
    "    else:\n",
    "        display(SVG(model_to_dot(model, show_shapes=True).create(prog='dot', format='svg')))"
   ]
  },
  {
   "cell_type": "code",
   "execution_count": 7,
   "metadata": {
    "executionInfo": {
     "elapsed": 3,
     "status": "ok",
     "timestamp": 1734025102905,
     "user": {
      "displayName": "SMI",
      "userId": "03894129457800149408"
     },
     "user_tz": -60
    },
    "id": "Dr7-texQAx0a"
   },
   "outputs": [],
   "source": [
    "from matplotlib.ticker import MaxNLocator\n",
    "\n",
    "def grafica_entrenamiento(tr_acc, val_acc, tr_loss, val_loss, figsize=(10,4)):\n",
    "    best_i = np.argmax(val_acc)\n",
    "    plt.figure(figsize=figsize)\n",
    "    ax = plt.subplot(1,2,1)\n",
    "    plt.plot(1+np.arange(len(tr_acc)),  100*np.array(tr_acc))\n",
    "    plt.plot(1+np.arange(len(val_acc)), 100*np.array(val_acc))\n",
    "    plt.plot(1+best_i, 100*val_acc[best_i], 'or')\n",
    "    plt.title('tasa de acierto del modelo (%)', fontsize=18)\n",
    "    plt.ylabel('tasa de acierto (%)', fontsize=18)\n",
    "    plt.xlabel('época', fontsize=18)\n",
    "    plt.legend(['entrenamiento', 'validación'], loc='upper left')\n",
    "    ax.xaxis.set_major_locator(MaxNLocator(integer=True))\n",
    "\n",
    "    plt.subplot(1,2,2)\n",
    "    plt.plot(1+np.arange(len(tr_acc)), np.array(tr_loss))\n",
    "    plt.plot(1+np.arange(len(val_acc)), np.array(val_loss))\n",
    "    plt.plot(1+best_i, val_loss[best_i], 'or')\n",
    "    plt.title('loss del modelo', fontsize=18)\n",
    "    plt.ylabel('loss', fontsize=18)\n",
    "    plt.xlabel('época', fontsize=18)\n",
    "    plt.legend(['entrenamiento', 'validación'], loc='upper left')\n",
    "    ax.xaxis.set_major_locator(MaxNLocator(integer=True))\n",
    "    plt.show()"
   ]
  },
  {
   "cell_type": "code",
   "execution_count": 8,
   "metadata": {
    "colab": {
     "base_uri": "https://localhost:8080/"
    },
    "executionInfo": {
     "elapsed": 3,
     "status": "ok",
     "timestamp": 1734025102905,
     "user": {
      "displayName": "SMI",
      "userId": "03894129457800149408"
     },
     "user_tz": -60
    },
    "id": "tADEGzcEZmGK",
    "outputId": "856d40a5-5a5f-45f2-c5a9-c67feac59464"
   },
   "outputs": [
    {
     "name": "stdout",
     "output_type": "stream",
     "text": [
      "total 48456\n",
      "drwxrwxr-x 5 tomas tomas     4096 Dec 23 14:51 .\n",
      "drwxrwxr-x 8 tomas tomas     4096 Dec 23 14:51 ..\n",
      "-rw-rw-r-- 1 tomas tomas    60671 Dec 23 14:45 best_model.keras\n",
      "-rw-r--r-- 1 tomas tomas     3247 Mar 11  2022 caras_aux.py\n",
      "-rw-rw-r-- 1 tomas tomas    37244 Dec 23 14:51 color-base.ipynb\n",
      "-rw-rw-r-- 1 tomas tomas    27897 Dec 23 14:27 color-cnn.ipynb\n",
      "-rw-rw-r-- 1 tomas tomas    28427 Dec 23 14:27 color-cnntl.ipynb\n",
      "-rw-r--r-- 1 tomas tomas     3237 Mar 11  2022 funciones_auxiliares.py\n",
      "drwxr-xr-x 4 tomas tomas     4096 Nov 11  2019 gender\n",
      "-rw-rw-r-- 1 tomas tomas   435551 Dec 23 14:45 gris-base.ipynb\n",
      "drwxrwxr-x 2 tomas tomas     4096 Dec 23 14:50 .ipynb_checkpoints\n",
      "-rw-r--r-- 1 tomas tomas 48988160 Dec 23 14:15 .jupyter_ystore.db\n",
      "drwxrwxr-x 2 tomas tomas     4096 Dec 23 14:43 __pycache__\n"
     ]
    }
   ],
   "source": [
    "!ls -la"
   ]
  },
  {
   "cell_type": "markdown",
   "metadata": {
    "id": "YBvFmi-b95yl"
   },
   "source": [
    "## **Exploración de datos**"
   ]
  },
  {
   "cell_type": "code",
   "execution_count": 9,
   "metadata": {
    "executionInfo": {
     "elapsed": 2,
     "status": "ok",
     "timestamp": 1734025102905,
     "user": {
      "displayName": "SMI",
      "userId": "03894129457800149408"
     },
     "user_tz": -60
    },
    "id": "-tOoOYC-IfTR"
   },
   "outputs": [],
   "source": [
    "def loadImages_color(root, factor=1, nimages=False, color=False):\n",
    "    files = os.listdir(root)\n",
    "    if not nimages:\n",
    "        nimages = len(files)\n",
    "    if not color:\n",
    "        X = np.zeros((nimages, int(factor*250)*int(factor*250)))\n",
    "    else:\n",
    "        X = np.zeros((nimages, 3*int(factor*250)*int(factor*250)))\n",
    "    for i in range(nimages):\n",
    "        f = os.path.join(root, files[i])\n",
    "        if not color:\n",
    "            img = Image.open(f).convert('L')\n",
    "        else:\n",
    "            img = Image.open(f)\n",
    "        dims = np.shape(img)\n",
    "        if i==0:\n",
    "            h = int(factor*dims[0])\n",
    "            w = int(factor*dims[1])\n",
    "        img = img.resize((h, w))\n",
    "        X[i,:] = np.ravel(img)\n",
    "    return X, h, w"
   ]
  },
  {
   "cell_type": "code",
   "execution_count": 10,
   "metadata": {
    "colab": {
     "base_uri": "https://localhost:8080/",
     "height": 1000
    },
    "executionInfo": {
     "elapsed": 5565,
     "status": "ok",
     "timestamp": 1734025108469,
     "user": {
      "displayName": "SMI",
      "userId": "03894129457800149408"
     },
     "user_tz": -60
    },
    "id": "Iipgw5m3Ts61",
    "outputId": "2dc84742-7491-4a43-9060-774f97828f21"
   },
   "outputs": [
    {
     "name": "stdout",
     "output_type": "stream",
     "text": [
      "\n",
      "Estadísticas básicas de la base de datos leída:\n",
      "  # clases: 2\n",
      "  # patrones: 2000\n",
      "  # atributos (features): 7500\n",
      "\n",
      "Algunas imágenes de la clase \"female\":\n"
     ]
    },
    {
     "data": {
      "image/png": "[encoded data removed]",
      "text/plain": [
       "<Figure size 720x720 with 12 Axes>"
      ]
     },
     "metadata": {},
     "output_type": "display_data"
    },
    {
     "name": "stdout",
     "output_type": "stream",
     "text": [
      "\n",
      "Algunas imágenes de la clase \"male\":\n"
     ]
    },
    {
     "data": {
      "image/png": "[encoded data removed]",
      "text/plain": [
       "<Figure size 720x720 with 12 Axes>"
      ]
     },
     "metadata": {},
     "output_type": "display_data"
    }
   ],
   "source": [
    "from caras_aux import plot_gallery\n",
    "\n",
    "# cargo las imágenes y preparo los datos que se van a usar\n",
    "factor = 0.2 # factor de reducción de resolución de las imágenes, debe ser\n",
    "             # >0 y <=1 (en cuyo caso la resolución es la original, 250x250)\n",
    "X_clase0, height, width = loadImages_color('./gender/female',\n",
    "                                           factor=factor, nimages=1000,\n",
    "                                           color=True)\n",
    "X_clase1, height, width = loadImages_color('./gender/male',\n",
    "                                           factor=factor, nimages=1000,\n",
    "                                           color=True)\n",
    "X = np.concatenate((X_clase0, X_clase1))\n",
    "n_samples, n_features = X.shape\n",
    "\n",
    "target_names = np.array(['female', 'male'])\n",
    "n_classes = len(target_names)\n",
    "N0 = len(X_clase0); N1 = len(X_clase1)\n",
    "y = N0*[0] + N1*[1]\n",
    "y = np.array(y)\n",
    "\n",
    "print('\\nEstadísticas básicas de la base de datos leída:')\n",
    "print('  # clases: %d' % n_classes)\n",
    "print('  # patrones: %d' % n_samples)\n",
    "print('  # atributos (features): %d' % n_features)\n",
    "\n",
    "cmap = None\n",
    "X_aux0 = X_clase0[:12].reshape((12, height, width, 3)).astype(int)\n",
    "X_aux1 = X_clase1[:12].reshape((12, height, width, 3)).astype(int)\n",
    "\n",
    "print('\\nAlgunas imágenes de la clase \"female\":')\n",
    "plot_gallery(X_aux0, 12*['female'], cmap=cmap)\n",
    "print('\\nAlgunas imágenes de la clase \"male\":')\n",
    "plot_gallery(X_aux1, 12*['male'], cmap=cmap);"
   ]
  },
  {
   "cell_type": "code",
   "execution_count": 11,
   "metadata": {
    "executionInfo": {
     "elapsed": 9,
     "status": "ok",
     "timestamp": 1734025108469,
     "user": {
      "displayName": "SMI",
      "userId": "03894129457800149408"
     },
     "user_tz": -60
    },
    "id": "0byI75kxZJ3f"
   },
   "outputs": [],
   "source": [
    "#np.sqrt(4107/3)"
   ]
  },
  {
   "cell_type": "code",
   "execution_count": 12,
   "metadata": {
    "colab": {
     "base_uri": "https://localhost:8080/"
    },
    "executionInfo": {
     "elapsed": 8,
     "status": "ok",
     "timestamp": 1734025108469,
     "user": {
      "displayName": "SMI",
      "userId": "03894129457800149408"
     },
     "user_tz": -60
    },
    "id": "LxvTBF-uTs63",
    "outputId": "2039cf0e-3234-4f2e-e551-5ab6b5ce3fdd"
   },
   "outputs": [
    {
     "name": "stdout",
     "output_type": "stream",
     "text": [
      "(2000, 7500)\n",
      "(2000,)\n",
      "[[130.  84.  27. ... 175. 146. 137.]\n",
      " [  0.   0.   0. ...   0.   0.   0.]\n",
      " [ 14.   8.   8. ...  10.   1.   2.]\n",
      " ...\n",
      " [ 24.  18.   9. ... 209. 192. 228.]\n",
      " [  0.   0.   0. ...   0.   0.   0.]\n",
      " [  0.   0.   0. ...  70.  74.  57.]]\n"
     ]
    }
   ],
   "source": [
    "print(np.shape(X)); print(np.shape(y)); print(X)"
   ]
  },
  {
   "cell_type": "code",
   "execution_count": 13,
   "metadata": {
    "colab": {
     "base_uri": "https://localhost:8080/"
    },
    "executionInfo": {
     "elapsed": 8,
     "status": "ok",
     "timestamp": 1734025108469,
     "user": {
      "displayName": "SMI",
      "userId": "03894129457800149408"
     },
     "user_tz": -60
    },
    "id": "CruEpDAQTs66",
    "outputId": "1cb0b60d-7b66-4629-e96b-2b3c998d3ed6"
   },
   "outputs": [
    {
     "data": {
      "text/plain": [
       "(np.float64(0.0), np.float64(255.0))"
      ]
     },
     "execution_count": 13,
     "metadata": {},
     "output_type": "execute_result"
    }
   ],
   "source": [
    "X.min(), X.max()"
   ]
  },
  {
   "cell_type": "markdown",
   "metadata": {
    "id": "z7itkI3O-C_7"
   },
   "source": [
    "### Normalización de datos"
   ]
  },
  {
   "cell_type": "code",
   "execution_count": 14,
   "metadata": {
    "executionInfo": {
     "elapsed": 7,
     "status": "ok",
     "timestamp": 1734025108469,
     "user": {
      "displayName": "SMI",
      "userId": "03894129457800149408"
     },
     "user_tz": -60
    },
    "id": "iwSI3OIOTs66"
   },
   "outputs": [],
   "source": [
    "X /= 255 #  equivalente a: X = X / 255"
   ]
  },
  {
   "cell_type": "code",
   "execution_count": 15,
   "metadata": {
    "colab": {
     "base_uri": "https://localhost:8080/"
    },
    "executionInfo": {
     "elapsed": 7,
     "status": "ok",
     "timestamp": 1734025108469,
     "user": {
      "displayName": "SMI",
      "userId": "03894129457800149408"
     },
     "user_tz": -60
    },
    "id": "pFYI1cLK9zsD",
    "outputId": "c327f17c-f301-4afb-ee06-1c364bd2703e"
   },
   "outputs": [
    {
     "data": {
      "text/plain": [
       "(np.float64(0.0), np.float64(1.0))"
      ]
     },
     "execution_count": 15,
     "metadata": {},
     "output_type": "execute_result"
    }
   ],
   "source": [
    "X.min(), X.max()"
   ]
  },
  {
   "cell_type": "markdown",
   "metadata": {
    "id": "ajmFLEwt-JJC"
   },
   "source": [
    "Ahora seguimos entendiendo la estructura de los datos:"
   ]
  },
  {
   "cell_type": "code",
   "execution_count": 16,
   "metadata": {
    "colab": {
     "base_uri": "https://localhost:8080/"
    },
    "executionInfo": {
     "elapsed": 7,
     "status": "ok",
     "timestamp": 1734025108469,
     "user": {
      "displayName": "SMI",
      "userId": "03894129457800149408"
     },
     "user_tz": -60
    },
    "id": "pg66I6o6Ts69",
    "outputId": "6e450e4b-3ad3-4182-a893-70ea67f131e6"
   },
   "outputs": [
    {
     "data": {
      "text/plain": [
       "(2000,)"
      ]
     },
     "execution_count": 16,
     "metadata": {},
     "output_type": "execute_result"
    }
   ],
   "source": [
    "y.shape"
   ]
  },
  {
   "cell_type": "code",
   "execution_count": 17,
   "metadata": {
    "colab": {
     "base_uri": "https://localhost:8080/"
    },
    "executionInfo": {
     "elapsed": 6,
     "status": "ok",
     "timestamp": 1734025108469,
     "user": {
      "displayName": "SMI",
      "userId": "03894129457800149408"
     },
     "user_tz": -60
    },
    "id": "7tK2y7d2Ts67",
    "outputId": "b76c684f-8666-422d-81e3-2910d7102209"
   },
   "outputs": [
    {
     "data": {
      "text/plain": [
       "array([0, 1])"
      ]
     },
     "execution_count": 17,
     "metadata": {},
     "output_type": "execute_result"
    }
   ],
   "source": [
    "np.unique(y)"
   ]
  },
  {
   "cell_type": "code",
   "execution_count": 18,
   "metadata": {
    "colab": {
     "base_uri": "https://localhost:8080/"
    },
    "executionInfo": {
     "elapsed": 6,
     "status": "ok",
     "timestamp": 1734025108469,
     "user": {
      "displayName": "SMI",
      "userId": "03894129457800149408"
     },
     "user_tz": -60
    },
    "id": "KaiqubBgTs68",
    "outputId": "b58e71fb-c664-4341-9213-4b26f1cc857c"
   },
   "outputs": [
    {
     "data": {
      "text/plain": [
       "(2000, 7500)"
      ]
     },
     "execution_count": 18,
     "metadata": {},
     "output_type": "execute_result"
    }
   ],
   "source": [
    "X.shape"
   ]
  },
  {
   "cell_type": "code",
   "execution_count": 19,
   "metadata": {
    "colab": {
     "base_uri": "https://localhost:8080/"
    },
    "executionInfo": {
     "elapsed": 5,
     "status": "ok",
     "timestamp": 1734025108469,
     "user": {
      "displayName": "SMI",
      "userId": "03894129457800149408"
     },
     "user_tz": -60
    },
    "id": "TsuJoGo-JYo8",
    "outputId": "a1fef3ed-e65c-460b-ec4b-90cac004c919"
   },
   "outputs": [
    {
     "data": {
      "text/plain": [
       "2500.0"
      ]
     },
     "execution_count": 19,
     "metadata": {},
     "output_type": "execute_result"
    }
   ],
   "source": [
    "X.shape[1] / 3 # ahora por cada píxel tenemos 3 valores: R, G, B (la imagen es a color)"
   ]
  },
  {
   "cell_type": "code",
   "execution_count": 20,
   "metadata": {
    "colab": {
     "base_uri": "https://localhost:8080/"
    },
    "executionInfo": {
     "elapsed": 5,
     "status": "ok",
     "timestamp": 1734025108469,
     "user": {
      "displayName": "SMI",
      "userId": "03894129457800149408"
     },
     "user_tz": -60
    },
    "id": "XtoKeicZ9_No",
    "outputId": "181df83f-7d9f-4df3-b110-3bc6307650fa"
   },
   "outputs": [
    {
     "data": {
      "text/plain": [
       "np.float64(50.0)"
      ]
     },
     "execution_count": 20,
     "metadata": {},
     "output_type": "execute_result"
    }
   ],
   "source": [
    "np.sqrt(X.shape[1] / 3) # lado de la imagen"
   ]
  },
  {
   "cell_type": "markdown",
   "metadata": {
    "id": "WX1W4FSX-W7f"
   },
   "source": [
    "### **Partición training-test**"
   ]
  },
  {
   "cell_type": "code",
   "execution_count": 21,
   "metadata": {
    "executionInfo": {
     "elapsed": 4,
     "status": "ok",
     "timestamp": 1734025108469,
     "user": {
      "displayName": "SMI",
      "userId": "03894129457800149408"
     },
     "user_tz": -60
    },
    "id": "fRbnuKbCTs7B"
   },
   "outputs": [],
   "source": [
    "from sklearn.model_selection import train_test_split\n",
    "\n",
    "# divido en conjuntos de training y test\n",
    "X_train, X_test, y_train, y_test = train_test_split(X, y,\n",
    "                                                    test_size=200,\n",
    "                                                    random_state=42,\n",
    "                                                    stratify=y)"
   ]
  },
  {
   "cell_type": "markdown",
   "metadata": {
    "id": "V7x7lmPu_13b"
   },
   "source": [
    "Parto el conjunto de training en tr (training final) y validación:"
   ]
  },
  {
   "cell_type": "code",
   "execution_count": 22,
   "metadata": {
    "executionInfo": {
     "elapsed": 4,
     "status": "ok",
     "timestamp": 1734025108469,
     "user": {
      "displayName": "SMI",
      "userId": "03894129457800149408"
     },
     "user_tz": -60
    },
    "id": "IAkZ9C98AAyN"
   },
   "outputs": [],
   "source": [
    "X_tr, X_val, y_tr, y_val = train_test_split(X_train, y_train,\n",
    "                                            test_size=0.3,\n",
    "                                            random_state=1,\n",
    "                                            stratify=y_train)"
   ]
  },
  {
   "cell_type": "markdown",
   "metadata": {
    "id": "EriTLVRF_9en"
   },
   "source": [
    "Finalmente tengo los siguientes conjuntos:\n",
    "\n",
    "- **X_tr:** conjunto con el que entreno la red\n",
    "- **X_val:** conjunto con el que monitorizo la red mientras se entrena\n",
    "- **X_test:** conjunto de test final"
   ]
  },
  {
   "cell_type": "markdown",
   "metadata": {
    "id": "x1yEDmkBALut"
   },
   "source": [
    " Chequeo de las dimensiones de estos conjuntos:"
   ]
  },
  {
   "cell_type": "code",
   "execution_count": 23,
   "metadata": {
    "colab": {
     "base_uri": "https://localhost:8080/"
    },
    "executionInfo": {
     "elapsed": 4,
     "status": "ok",
     "timestamp": 1734025108469,
     "user": {
      "displayName": "SMI",
      "userId": "03894129457800149408"
     },
     "user_tz": -60
    },
    "id": "RclS47GDAxwp",
    "outputId": "a2d64f16-e455-4751-d143-1ff923d07a59"
   },
   "outputs": [
    {
     "data": {
      "text/plain": [
       "((1260, 7500), (1260,), (540, 7500), (540,), (200, 7500), (200,))"
      ]
     },
     "execution_count": 23,
     "metadata": {},
     "output_type": "execute_result"
    }
   ],
   "source": [
    "X_tr.shape, y_tr.shape, X_val.shape, y_val.shape, X_test.shape, y_test.shape"
   ]
  },
  {
   "cell_type": "markdown",
   "metadata": {
    "id": "Pv3HIx1zAPED"
   },
   "source": [
    "Parece que están bien:\n",
    "\n",
    "- La primera dimensión de X_tr e y_tr es igual\n",
    "- La primera de X_val e y_val también\n",
    "- La primera de X_test e y_test también\n",
    "- La segunda dimensión de X_tr, X_val, X_test es 5625 (número total de píxels)"
   ]
  },
  {
   "cell_type": "markdown",
   "metadata": {
    "id": "Gwly3Tbo-Zpb"
   },
   "source": [
    "### **Estadísticas de las clases**"
   ]
  },
  {
   "cell_type": "code",
   "execution_count": 24,
   "metadata": {
    "colab": {
     "base_uri": "https://localhost:8080/",
     "height": 455
    },
    "executionInfo": {
     "elapsed": 4,
     "status": "ok",
     "timestamp": 1734025108469,
     "user": {
      "displayName": "SMI",
      "userId": "03894129457800149408"
     },
     "user_tz": -60
    },
    "id": "C1FmoRuvTs7C",
    "outputId": "1ef0d110-0808-490e-dc5d-5cce6653bc57"
   },
   "outputs": [
    {
     "data": {
      "image/png": "[encoded data removed]",
      "text/plain": [
       "<Figure size 1200x300 with 3 Axes>"
      ]
     },
     "metadata": {},
     "output_type": "display_data"
    },
    {
     "name": "stdout",
     "output_type": "stream",
     "text": [
      "- Priori de la clase 0 en training: 0.500\n",
      "- Priori de la clase 1 en training: 0.500\n",
      "- Clase mayoritaria en training: 0\n",
      "\n",
      "- Priori de la clase 0 en test: 0.500\n",
      "- Priori de la clase 1 en test: 0.500\n",
      "- Score de la clasificacion por mayoria en test: 0.500\n"
     ]
    }
   ],
   "source": [
    "from caras_aux import report_base_error\n",
    "\n",
    "plt.figure(figsize=(12,3))\n",
    "ax = plt.subplot(1,3,1)\n",
    "clases, counts = np.unique(y_tr, return_counts=True)\n",
    "plt.bar(clases, 100*counts/len(y_tr), color=[\"blue\", \"orange\"])\n",
    "plt.title('Training'); plt.xlabel('Clase'); plt.ylabel('Frequency (%)'); ax.set_xticks(clases)\n",
    "\n",
    "ax = plt.subplot(1,3,2)\n",
    "clases, counts = np.unique(y_val, return_counts=True)\n",
    "plt.bar(clases, 100*counts/len(y_val), color=[\"blue\", \"orange\"])\n",
    "plt.title('Validación'); plt.xlabel('Clase'); plt.ylabel('Frequency (%)'); ax.set_xticks(clases)\n",
    "\n",
    "ax = plt.subplot(1,3,3)\n",
    "none, counts = np.unique(y_test, return_counts=True)\n",
    "plt.bar(clases, 100*counts/len(y_test), color=[\"blue\", \"orange\"])\n",
    "plt.title('Test'); plt.xlabel('Clase'); ax.set_xticks(clases); plt.show()\n",
    "\n",
    "report_base_error(X_tr, y_tr, X_test, y_test)"
   ]
  },
  {
   "cell_type": "markdown",
   "metadata": {
    "id": "Ccyg4MnzBLaL"
   },
   "source": [
    "## **Modelo de referencia**"
   ]
  },
  {
   "cell_type": "code",
   "execution_count": 25,
   "metadata": {
    "colab": {
     "base_uri": "https://localhost:8080/",
     "height": 80
    },
    "executionInfo": {
     "elapsed": 832,
     "status": "ok",
     "timestamp": 1734025109298,
     "user": {
      "displayName": "SMI",
      "userId": "03894129457800149408"
     },
     "user_tz": -60
    },
    "id": "bQkVCU5QXBzg",
    "outputId": "8f83a4cd-5fc6-4603-d829-1eb7820a1567"
   },
   "outputs": [
    {
     "data": {
      "text/html": [
       "<style>#sk-container-id-1 {\n",
       "  /* Definition of color scheme common for light and dark mode */\n",
       "  --sklearn-color-text: black;\n",
       "  --sklearn-color-line: gray;\n",
       "  /* Definition of color scheme for unfitted estimators */\n",
       "  --sklearn-color-unfitted-level-0: #fff5e6;\n",
       "  --sklearn-color-unfitted-level-1: #f6e4d2;\n",
       "  --sklearn-color-unfitted-level-2: #ffe0b3;\n",
       "  --sklearn-color-unfitted-level-3: chocolate;\n",
       "  /* Definition of color scheme for fitted estimators */\n",
       "  --sklearn-color-fitted-level-0: #f0f8ff;\n",
       "  --sklearn-color-fitted-level-1: #d4ebff;\n",
       "  --sklearn-color-fitted-level-2: #b3dbfd;\n",
       "  --sklearn-color-fitted-level-3: cornflowerblue;\n",
       "\n",
       "  /* Specific color for light theme */\n",
       "  --sklearn-color-text-on-default-background: var(--sg-text-color, var(--theme-code-foreground, var(--jp-content-font-color1, black)));\n",
       "  --sklearn-color-background: var(--sg-background-color, var(--theme-background, var(--jp-layout-color0, white)));\n",
       "  --sklearn-color-border-box: var(--sg-text-color, var(--theme-code-foreground, var(--jp-content-font-color1, black)));\n",
       "  --sklearn-color-icon: #696969;\n",
       "\n",
       "  @media (prefers-color-scheme: dark) {\n",
       "    /* Redefinition of color scheme for dark theme */\n",
       "    --sklearn-color-text-on-default-background: var(--sg-text-color, var(--theme-code-foreground, var(--jp-content-font-color1, white)));\n",
       "    --sklearn-color-background: var(--sg-background-color, var(--theme-background, var(--jp-layout-color0, #111)));\n",
       "    --sklearn-color-border-box: var(--sg-text-color, var(--theme-code-foreground, var(--jp-content-font-color1, white)));\n",
       "    --sklearn-color-icon: #878787;\n",
       "  }\n",
       "}\n",
       "\n",
       "#sk-container-id-1 {\n",
       "  color: var(--sklearn-color-text);\n",
       "}\n",
       "\n",
       "#sk-container-id-1 pre {\n",
       "  padding: 0;\n",
       "}\n",
       "\n",
       "#sk-container-id-1 input.sk-hidden--visually {\n",
       "  border: 0;\n",
       "  clip: rect(1px 1px 1px 1px);\n",
       "  clip: rect(1px, 1px, 1px, 1px);\n",
       "  height: 1px;\n",
       "  margin: -1px;\n",
       "  overflow: hidden;\n",
       "  padding: 0;\n",
       "  position: absolute;\n",
       "  width: 1px;\n",
       "}\n",
       "\n",
       "#sk-container-id-1 div.sk-dashed-wrapped {\n",
       "  border: 1px dashed var(--sklearn-color-line);\n",
       "  margin: 0 0.4em 0.5em 0.4em;\n",
       "  box-sizing: border-box;\n",
       "  padding-bottom: 0.4em;\n",
       "  background-color: var(--sklearn-color-background);\n",
       "}\n",
       "\n",
       "#sk-container-id-1 div.sk-container {\n",
       "  /* jupyter's `normalize.less` sets `[hidden] { display: none; }`\n",
       "     but bootstrap.min.css set `[hidden] { display: none !important; }`\n",
       "     so we also need the `!important` here to be able to override the\n",
       "     default hidden behavior on the sphinx rendered scikit-learn.org.\n",
       "     See: https://github.com/scikit-learn/scikit-learn/issues/21755 */\n",
       "  display: inline-block !important;\n",
       "  position: relative;\n",
       "}\n",
       "\n",
       "#sk-container-id-1 div.sk-text-repr-fallback {\n",
       "  display: none;\n",
       "}\n",
       "\n",
       "div.sk-parallel-item,\n",
       "div.sk-serial,\n",
       "div.sk-item {\n",
       "  /* draw centered vertical line to link estimators */\n",
       "  background-image: linear-gradient(var(--sklearn-color-text-on-default-background), var(--sklearn-color-text-on-default-background));\n",
       "  background-size: 2px 100%;\n",
       "  background-repeat: no-repeat;\n",
       "  background-position: center center;\n",
       "}\n",
       "\n",
       "/* Parallel-specific style estimator block */\n",
       "\n",
       "#sk-container-id-1 div.sk-parallel-item::after {\n",
       "  content: \"\";\n",
       "  width: 100%;\n",
       "  border-bottom: 2px solid var(--sklearn-color-text-on-default-background);\n",
       "  flex-grow: 1;\n",
       "}\n",
       "\n",
       "#sk-container-id-1 div.sk-parallel {\n",
       "  display: flex;\n",
       "  align-items: stretch;\n",
       "  justify-content: center;\n",
       "  background-color: var(--sklearn-color-background);\n",
       "  position: relative;\n",
       "}\n",
       "\n",
       "#sk-container-id-1 div.sk-parallel-item {\n",
       "  display: flex;\n",
       "  flex-direction: column;\n",
       "}\n",
       "\n",
       "#sk-container-id-1 div.sk-parallel-item:first-child::after {\n",
       "  align-self: flex-end;\n",
       "  width: 50%;\n",
       "}\n",
       "\n",
       "#sk-container-id-1 div.sk-parallel-item:last-child::after {\n",
       "  align-self: flex-start;\n",
       "  width: 50%;\n",
       "}\n",
       "\n",
       "#sk-container-id-1 div.sk-parallel-item:only-child::after {\n",
       "  width: 0;\n",
       "}\n",
       "\n",
       "/* Serial-specific style estimator block */\n",
       "\n",
       "#sk-container-id-1 div.sk-serial {\n",
       "  display: flex;\n",
       "  flex-direction: column;\n",
       "  align-items: center;\n",
       "  background-color: var(--sklearn-color-background);\n",
       "  padding-right: 1em;\n",
       "  padding-left: 1em;\n",
       "}\n",
       "\n",
       "\n",
       "/* Toggleable style: style used for estimator/Pipeline/ColumnTransformer box that is\n",
       "clickable and can be expanded/collapsed.\n",
       "- Pipeline and ColumnTransformer use this feature and define the default style\n",
       "- Estimators will overwrite some part of the style using the `sk-estimator` class\n",
       "*/\n",
       "\n",
       "/* Pipeline and ColumnTransformer style (default) */\n",
       "\n",
       "#sk-container-id-1 div.sk-toggleable {\n",
       "  /* Default theme specific background. It is overwritten whether we have a\n",
       "  specific estimator or a Pipeline/ColumnTransformer */\n",
       "  background-color: var(--sklearn-color-background);\n",
       "}\n",
       "\n",
       "/* Toggleable label */\n",
       "#sk-container-id-1 label.sk-toggleable__label {\n",
       "  cursor: pointer;\n",
       "  display: block;\n",
       "  width: 100%;\n",
       "  margin-bottom: 0;\n",
       "  padding: 0.5em;\n",
       "  box-sizing: border-box;\n",
       "  text-align: center;\n",
       "}\n",
       "\n",
       "#sk-container-id-1 label.sk-toggleable__label-arrow:before {\n",
       "  /* Arrow on the left of the label */\n",
       "  content: \"▸\";\n",
       "  float: left;\n",
       "  margin-right: 0.25em;\n",
       "  color: var(--sklearn-color-icon);\n",
       "}\n",
       "\n",
       "#sk-container-id-1 label.sk-toggleable__label-arrow:hover:before {\n",
       "  color: var(--sklearn-color-text);\n",
       "}\n",
       "\n",
       "/* Toggleable content - dropdown */\n",
       "\n",
       "#sk-container-id-1 div.sk-toggleable__content {\n",
       "  max-height: 0;\n",
       "  max-width: 0;\n",
       "  overflow: hidden;\n",
       "  text-align: left;\n",
       "  /* unfitted */\n",
       "  background-color: var(--sklearn-color-unfitted-level-0);\n",
       "}\n",
       "\n",
       "#sk-container-id-1 div.sk-toggleable__content.fitted {\n",
       "  /* fitted */\n",
       "  background-color: var(--sklearn-color-fitted-level-0);\n",
       "}\n",
       "\n",
       "#sk-container-id-1 div.sk-toggleable__content pre {\n",
       "  margin: 0.2em;\n",
       "  border-radius: 0.25em;\n",
       "  color: var(--sklearn-color-text);\n",
       "  /* unfitted */\n",
       "  background-color: var(--sklearn-color-unfitted-level-0);\n",
       "}\n",
       "\n",
       "#sk-container-id-1 div.sk-toggleable__content.fitted pre {\n",
       "  /* unfitted */\n",
       "  background-color: var(--sklearn-color-fitted-level-0);\n",
       "}\n",
       "\n",
       "#sk-container-id-1 input.sk-toggleable__control:checked~div.sk-toggleable__content {\n",
       "  /* Expand drop-down */\n",
       "  max-height: 200px;\n",
       "  max-width: 100%;\n",
       "  overflow: auto;\n",
       "}\n",
       "\n",
       "#sk-container-id-1 input.sk-toggleable__control:checked~label.sk-toggleable__label-arrow:before {\n",
       "  content: \"▾\";\n",
       "}\n",
       "\n",
       "/* Pipeline/ColumnTransformer-specific style */\n",
       "\n",
       "#sk-container-id-1 div.sk-label input.sk-toggleable__control:checked~label.sk-toggleable__label {\n",
       "  color: var(--sklearn-color-text);\n",
       "  background-color: var(--sklearn-color-unfitted-level-2);\n",
       "}\n",
       "\n",
       "#sk-container-id-1 div.sk-label.fitted input.sk-toggleable__control:checked~label.sk-toggleable__label {\n",
       "  background-color: var(--sklearn-color-fitted-level-2);\n",
       "}\n",
       "\n",
       "/* Estimator-specific style */\n",
       "\n",
       "/* Colorize estimator box */\n",
       "#sk-container-id-1 div.sk-estimator input.sk-toggleable__control:checked~label.sk-toggleable__label {\n",
       "  /* unfitted */\n",
       "  background-color: var(--sklearn-color-unfitted-level-2);\n",
       "}\n",
       "\n",
       "#sk-container-id-1 div.sk-estimator.fitted input.sk-toggleable__control:checked~label.sk-toggleable__label {\n",
       "  /* fitted */\n",
       "  background-color: var(--sklearn-color-fitted-level-2);\n",
       "}\n",
       "\n",
       "#sk-container-id-1 div.sk-label label.sk-toggleable__label,\n",
       "#sk-container-id-1 div.sk-label label {\n",
       "  /* The background is the default theme color */\n",
       "  color: var(--sklearn-color-text-on-default-background);\n",
       "}\n",
       "\n",
       "/* On hover, darken the color of the background */\n",
       "#sk-container-id-1 div.sk-label:hover label.sk-toggleable__label {\n",
       "  color: var(--sklearn-color-text);\n",
       "  background-color: var(--sklearn-color-unfitted-level-2);\n",
       "}\n",
       "\n",
       "/* Label box, darken color on hover, fitted */\n",
       "#sk-container-id-1 div.sk-label.fitted:hover label.sk-toggleable__label.fitted {\n",
       "  color: var(--sklearn-color-text);\n",
       "  background-color: var(--sklearn-color-fitted-level-2);\n",
       "}\n",
       "\n",
       "/* Estimator label */\n",
       "\n",
       "#sk-container-id-1 div.sk-label label {\n",
       "  font-family: monospace;\n",
       "  font-weight: bold;\n",
       "  display: inline-block;\n",
       "  line-height: 1.2em;\n",
       "}\n",
       "\n",
       "#sk-container-id-1 div.sk-label-container {\n",
       "  text-align: center;\n",
       "}\n",
       "\n",
       "/* Estimator-specific */\n",
       "#sk-container-id-1 div.sk-estimator {\n",
       "  font-family: monospace;\n",
       "  border: 1px dotted var(--sklearn-color-border-box);\n",
       "  border-radius: 0.25em;\n",
       "  box-sizing: border-box;\n",
       "  margin-bottom: 0.5em;\n",
       "  /* unfitted */\n",
       "  background-color: var(--sklearn-color-unfitted-level-0);\n",
       "}\n",
       "\n",
       "#sk-container-id-1 div.sk-estimator.fitted {\n",
       "  /* fitted */\n",
       "  background-color: var(--sklearn-color-fitted-level-0);\n",
       "}\n",
       "\n",
       "/* on hover */\n",
       "#sk-container-id-1 div.sk-estimator:hover {\n",
       "  /* unfitted */\n",
       "  background-color: var(--sklearn-color-unfitted-level-2);\n",
       "}\n",
       "\n",
       "#sk-container-id-1 div.sk-estimator.fitted:hover {\n",
       "  /* fitted */\n",
       "  background-color: var(--sklearn-color-fitted-level-2);\n",
       "}\n",
       "\n",
       "/* Specification for estimator info (e.g. \"i\" and \"?\") */\n",
       "\n",
       "/* Common style for \"i\" and \"?\" */\n",
       "\n",
       ".sk-estimator-doc-link,\n",
       "a:link.sk-estimator-doc-link,\n",
       "a:visited.sk-estimator-doc-link {\n",
       "  float: right;\n",
       "  font-size: smaller;\n",
       "  line-height: 1em;\n",
       "  font-family: monospace;\n",
       "  background-color: var(--sklearn-color-background);\n",
       "  border-radius: 1em;\n",
       "  height: 1em;\n",
       "  width: 1em;\n",
       "  text-decoration: none !important;\n",
       "  margin-left: 1ex;\n",
       "  /* unfitted */\n",
       "  border: var(--sklearn-color-unfitted-level-1) 1pt solid;\n",
       "  color: var(--sklearn-color-unfitted-level-1);\n",
       "}\n",
       "\n",
       ".sk-estimator-doc-link.fitted,\n",
       "a:link.sk-estimator-doc-link.fitted,\n",
       "a:visited.sk-estimator-doc-link.fitted {\n",
       "  /* fitted */\n",
       "  border: var(--sklearn-color-fitted-level-1) 1pt solid;\n",
       "  color: var(--sklearn-color-fitted-level-1);\n",
       "}\n",
       "\n",
       "/* On hover */\n",
       "div.sk-estimator:hover .sk-estimator-doc-link:hover,\n",
       ".sk-estimator-doc-link:hover,\n",
       "div.sk-label-container:hover .sk-estimator-doc-link:hover,\n",
       ".sk-estimator-doc-link:hover {\n",
       "  /* unfitted */\n",
       "  background-color: var(--sklearn-color-unfitted-level-3);\n",
       "  color: var(--sklearn-color-background);\n",
       "  text-decoration: none;\n",
       "}\n",
       "\n",
       "div.sk-estimator.fitted:hover .sk-estimator-doc-link.fitted:hover,\n",
       ".sk-estimator-doc-link.fitted:hover,\n",
       "div.sk-label-container:hover .sk-estimator-doc-link.fitted:hover,\n",
       ".sk-estimator-doc-link.fitted:hover {\n",
       "  /* fitted */\n",
       "  background-color: var(--sklearn-color-fitted-level-3);\n",
       "  color: var(--sklearn-color-background);\n",
       "  text-decoration: none;\n",
       "}\n",
       "\n",
       "/* Span, style for the box shown on hovering the info icon */\n",
       ".sk-estimator-doc-link span {\n",
       "  display: none;\n",
       "  z-index: 9999;\n",
       "  position: relative;\n",
       "  font-weight: normal;\n",
       "  right: .2ex;\n",
       "  padding: .5ex;\n",
       "  margin: .5ex;\n",
       "  width: min-content;\n",
       "  min-width: 20ex;\n",
       "  max-width: 50ex;\n",
       "  color: var(--sklearn-color-text);\n",
       "  box-shadow: 2pt 2pt 4pt #999;\n",
       "  /* unfitted */\n",
       "  background: var(--sklearn-color-unfitted-level-0);\n",
       "  border: .5pt solid var(--sklearn-color-unfitted-level-3);\n",
       "}\n",
       "\n",
       ".sk-estimator-doc-link.fitted span {\n",
       "  /* fitted */\n",
       "  background: var(--sklearn-color-fitted-level-0);\n",
       "  border: var(--sklearn-color-fitted-level-3);\n",
       "}\n",
       "\n",
       ".sk-estimator-doc-link:hover span {\n",
       "  display: block;\n",
       "}\n",
       "\n",
       "/* \"?\"-specific style due to the `<a>` HTML tag */\n",
       "\n",
       "#sk-container-id-1 a.estimator_doc_link {\n",
       "  float: right;\n",
       "  font-size: 1rem;\n",
       "  line-height: 1em;\n",
       "  font-family: monospace;\n",
       "  background-color: var(--sklearn-color-background);\n",
       "  border-radius: 1rem;\n",
       "  height: 1rem;\n",
       "  width: 1rem;\n",
       "  text-decoration: none;\n",
       "  /* unfitted */\n",
       "  color: var(--sklearn-color-unfitted-level-1);\n",
       "  border: var(--sklearn-color-unfitted-level-1) 1pt solid;\n",
       "}\n",
       "\n",
       "#sk-container-id-1 a.estimator_doc_link.fitted {\n",
       "  /* fitted */\n",
       "  border: var(--sklearn-color-fitted-level-1) 1pt solid;\n",
       "  color: var(--sklearn-color-fitted-level-1);\n",
       "}\n",
       "\n",
       "/* On hover */\n",
       "#sk-container-id-1 a.estimator_doc_link:hover {\n",
       "  /* unfitted */\n",
       "  background-color: var(--sklearn-color-unfitted-level-3);\n",
       "  color: var(--sklearn-color-background);\n",
       "  text-decoration: none;\n",
       "}\n",
       "\n",
       "#sk-container-id-1 a.estimator_doc_link.fitted:hover {\n",
       "  /* fitted */\n",
       "  background-color: var(--sklearn-color-fitted-level-3);\n",
       "}\n",
       "</style><div id=\"sk-container-id-1\" class=\"sk-top-container\"><div class=\"sk-text-repr-fallback\"><pre>LogisticRegression(C=0.01, max_iter=1000)</pre><b>In a Jupyter environment, please rerun this cell to show the HTML representation or trust the notebook. <br />On GitHub, the HTML representation is unable to render, please try loading this page with nbviewer.org.</b></div><div class=\"sk-container\" hidden><div class=\"sk-item\"><div class=\"sk-estimator fitted sk-toggleable\"><input class=\"sk-toggleable__control sk-hidden--visually\" id=\"sk-estimator-id-1\" type=\"checkbox\" checked><label for=\"sk-estimator-id-1\" class=\"sk-toggleable__label fitted sk-toggleable__label-arrow fitted\">&nbsp;&nbsp;LogisticRegression<a class=\"sk-estimator-doc-link fitted\" rel=\"noreferrer\" target=\"_blank\" href=\"https://scikit-learn.org/1.5/modules/generated/sklearn.linear_model.LogisticRegression.html\">?<span>Documentation for LogisticRegression</span></a><span class=\"sk-estimator-doc-link fitted\">i<span>Fitted</span></span></label><div class=\"sk-toggleable__content fitted\"><pre>LogisticRegression(C=0.01, max_iter=1000)</pre></div> </div></div></div></div>"
      ],
      "text/plain": [
       "LogisticRegression(C=0.01, max_iter=1000)"
      ]
     },
     "execution_count": 25,
     "metadata": {},
     "output_type": "execute_result"
    }
   ],
   "source": [
    "# Regresión logística:\n",
    "\n",
    "from sklearn.linear_model import LogisticRegression\n",
    "model0 = LogisticRegression(max_iter=1000, C=0.01) # C: factor de regularización. Cuanto más bajo, más \"poda\" (al revés que en Keras)\n",
    "model0.fit(X_tr, y_tr)"
   ]
  },
  {
   "cell_type": "markdown",
   "metadata": {
    "id": "0aXhGojOGiSk"
   },
   "source": [
    "Scores en training, validación y test:"
   ]
  },
  {
   "cell_type": "code",
   "execution_count": 26,
   "metadata": {
    "colab": {
     "base_uri": "https://localhost:8080/"
    },
    "executionInfo": {
     "elapsed": 7,
     "status": "ok",
     "timestamp": 1734025109298,
     "user": {
      "displayName": "SMI",
      "userId": "03894129457800149408"
     },
     "user_tz": -60
    },
    "id": "EdiUCuZiGlFb",
    "outputId": "36d55e15-8177-4c9e-f413-5abe64d6b38e"
   },
   "outputs": [
    {
     "data": {
      "text/plain": [
       "(0.8873015873015873, 0.7685185185185185, 0.78)"
      ]
     },
     "execution_count": 26,
     "metadata": {},
     "output_type": "execute_result"
    }
   ],
   "source": [
    "model0.score(X_tr, y_tr), model0.score(X_val, y_val), model0.score(X_test, y_test)"
   ]
  },
  {
   "cell_type": "code",
   "execution_count": 27,
   "metadata": {
    "colab": {
     "base_uri": "https://localhost:8080/"
    },
    "executionInfo": {
     "elapsed": 7,
     "status": "ok",
     "timestamp": 1734025109298,
     "user": {
      "displayName": "SMI",
      "userId": "03894129457800149408"
     },
     "user_tz": -60
    },
    "id": "9U_BCkVKFcOr",
    "outputId": "ed356bd9-9e1e-4614-8dfc-91ba083192b1"
   },
   "outputs": [
    {
     "data": {
      "text/plain": [
       "array([[0.87205958, 0.12794042],\n",
       "       [0.66805899, 0.33194101],\n",
       "       [0.18501203, 0.81498797],\n",
       "       [0.53416201, 0.46583799],\n",
       "       [0.33458555, 0.66541445]])"
      ]
     },
     "execution_count": 27,
     "metadata": {},
     "output_type": "execute_result"
    }
   ],
   "source": [
    "probs_test = model0.predict_proba(X_test)\n",
    "probs_test[:5]"
   ]
  },
  {
   "cell_type": "code",
   "execution_count": 28,
   "metadata": {
    "executionInfo": {
     "elapsed": 6,
     "status": "ok",
     "timestamp": 1734025109298,
     "user": {
      "displayName": "SMI",
      "userId": "03894129457800149408"
     },
     "user_tz": -60
    },
    "id": "2pXYZAh0FjUm"
   },
   "outputs": [],
   "source": [
    "probs_test_male = probs_test[:,1] # segunda columna"
   ]
  },
  {
   "cell_type": "code",
   "execution_count": 29,
   "metadata": {
    "executionInfo": {
     "elapsed": 6,
     "status": "ok",
     "timestamp": 1734025109298,
     "user": {
      "displayName": "SMI",
      "userId": "03894129457800149408"
     },
     "user_tz": -60
    },
    "id": "MAhHIBk2Ts7I"
   },
   "outputs": [],
   "source": [
    "from funciones_auxiliares import analisis_roc, plot_confusion_matrix"
   ]
  },
  {
   "cell_type": "code",
   "execution_count": 30,
   "metadata": {
    "colab": {
     "base_uri": "https://localhost:8080/",
     "height": 480
    },
    "executionInfo": {
     "elapsed": 6,
     "status": "ok",
     "timestamp": 1734025109298,
     "user": {
      "displayName": "SMI",
      "userId": "03894129457800149408"
     },
     "user_tz": -60
    },
    "id": "MEtBFncUFVHt",
    "outputId": "da91e783-5aa8-435a-afc5-ada3477705e9"
   },
   "outputs": [
    {
     "data": {
      "image/png": "[encoded data removed]",
      "text/plain": [
       "<Figure size 640x480 with 1 Axes>"
      ]
     },
     "metadata": {},
     "output_type": "display_data"
    }
   ],
   "source": [
    "analisis_roc(y=y_test, positive_class_scores=probs_test_male, POSITIVE_CLASS=1)"
   ]
  },
  {
   "cell_type": "code",
   "execution_count": 31,
   "metadata": {
    "colab": {
     "base_uri": "https://localhost:8080/"
    },
    "executionInfo": {
     "elapsed": 5,
     "status": "ok",
     "timestamp": 1734025109298,
     "user": {
      "displayName": "SMI",
      "userId": "03894129457800149408"
     },
     "user_tz": -60
    },
    "id": "HhlYJR_7kLLf",
    "outputId": "1341577c-0296-4946-df9e-19d00739cff4"
   },
   "outputs": [
    {
     "data": {
      "text/plain": [
       "(np.float64(0.65), np.float64(0.09))"
      ]
     },
     "execution_count": 31,
     "metadata": {},
     "output_type": "execute_result"
    }
   ],
   "source": [
    "TPR = sum(y_test[probs_test_male > 0.6]) / sum(y_test) # famosos detectados / famosos totales\n",
    "FPR = sum(y_test[probs_test_male > 0.6]!=1) / sum(y_test!=1)\n",
    "TPR, FPR"
   ]
  },
  {
   "cell_type": "code",
   "execution_count": 32,
   "metadata": {
    "colab": {
     "base_uri": "https://localhost:8080/"
    },
    "executionInfo": {
     "elapsed": 5,
     "status": "ok",
     "timestamp": 1734025109298,
     "user": {
      "displayName": "SMI",
      "userId": "03894129457800149408"
     },
     "user_tz": -60
    },
    "id": "AmKnQ_tYeau0",
    "outputId": "bd3b211f-27ad-4f5b-aadf-b220a88cde44"
   },
   "outputs": [
    {
     "data": {
      "text/plain": [
       "array([0, 1, 1, 1, 1, 0, 1, 1, 1, 1, 1, 1, 0, 0, 1, 0, 1, 1, 0, 0, 0, 0,\n",
       "       0, 1, 1, 1, 0, 1, 0, 0, 1, 1, 1, 1, 1, 1, 0, 1, 1, 0, 0, 1, 0, 0,\n",
       "       1, 0, 1, 0, 1, 0, 1, 0, 0, 0, 1, 0, 1, 0, 0, 1, 0, 0, 0, 0, 0, 0,\n",
       "       1, 1, 0, 1, 1, 1, 1, 1, 0, 0, 1, 1, 0, 0, 1, 1, 1, 1, 1, 0, 0, 1,\n",
       "       0, 1, 1, 1, 0, 1, 0, 1, 1, 0, 0, 1, 1, 1, 0, 0, 1, 0, 1, 1, 0, 1,\n",
       "       0, 1, 1, 0, 0, 1, 0, 1, 0, 0, 0, 1, 0, 0, 0, 0, 0, 0, 0, 1, 0, 0,\n",
       "       0, 1, 1, 0, 0, 1, 1, 0, 1, 1, 0, 0, 0, 0, 0, 1, 0, 0, 1, 1, 0, 0,\n",
       "       1, 1, 1, 0, 0, 0, 0, 1, 1, 0, 0, 1, 1, 1, 1, 0, 0, 1, 1, 0, 1, 0,\n",
       "       1, 1, 1, 1, 0, 0, 0, 0, 1, 0, 1, 1, 1, 0, 0, 0, 1, 0, 0, 1, 0, 0,\n",
       "       1, 1])"
      ]
     },
     "execution_count": 32,
     "metadata": {},
     "output_type": "execute_result"
    }
   ],
   "source": [
    "alarmas = probs_test_male > 0\n",
    "y_test[alarmas]"
   ]
  },
  {
   "cell_type": "code",
   "execution_count": 33,
   "metadata": {
    "colab": {
     "base_uri": "https://localhost:8080/"
    },
    "executionInfo": {
     "elapsed": 4,
     "status": "ok",
     "timestamp": 1734025109298,
     "user": {
      "displayName": "SMI",
      "userId": "03894129457800149408"
     },
     "user_tz": -60
    },
    "id": "gnRU0mtaFxM0",
    "outputId": "f46fb819-bc2c-4cdc-e45d-6644346db929"
   },
   "outputs": [
    {
     "data": {
      "text/plain": [
       "array([0, 0, 1, 0, 1])"
      ]
     },
     "execution_count": 33,
     "metadata": {},
     "output_type": "execute_result"
    }
   ],
   "source": [
    "# clases predichas en test:\n",
    "\n",
    "predicciones_test = model0.predict(X_test)\n",
    "predicciones_test[:5]"
   ]
  },
  {
   "cell_type": "code",
   "execution_count": 34,
   "metadata": {
    "colab": {
     "base_uri": "https://localhost:8080/",
     "height": 539
    },
    "executionInfo": {
     "elapsed": 390,
     "status": "ok",
     "timestamp": 1734025109684,
     "user": {
      "displayName": "SMI",
      "userId": "03894129457800149408"
     },
     "user_tz": -60
    },
    "id": "71tJS5ARFt4U",
    "outputId": "29d48dfc-063f-4a05-fdaa-4284953b7d56"
   },
   "outputs": [
    {
     "name": "stdout",
     "output_type": "stream",
     "text": [
      "Confusion matrix, without normalization\n",
      "[[79 21]\n",
      " [23 77]]\n"
     ]
    },
    {
     "data": {
      "image/png": "[encoded data removed]",
      "text/plain": [
       "<Figure size 640x480 with 2 Axes>"
      ]
     },
     "metadata": {},
     "output_type": "display_data"
    }
   ],
   "source": [
    "plot_confusion_matrix(y=y_test, y_pred=predicciones_test)"
   ]
  },
  {
   "cell_type": "markdown",
   "metadata": {
    "id": "5DEL9nkdMh1r"
   },
   "source": [
    "## **Implementación en Keras de un modelo que clasifique una cara en color en female / male**"
   ]
  },
  {
   "cell_type": "code",
   "execution_count": 35,
   "metadata": {
    "colab": {
     "base_uri": "https://localhost:8080/"
    },
    "executionInfo": {
     "elapsed": 3,
     "status": "ok",
     "timestamp": 1734025109684,
     "user": {
      "displayName": "SMI",
      "userId": "03894129457800149408"
     },
     "user_tz": -60
    },
    "id": "77XP4HfF_fEF",
    "outputId": "66ff8389-5c4c-486e-d1fc-b729c6dcc548"
   },
   "outputs": [
    {
     "data": {
      "text/plain": [
       "(2000, 7500)"
      ]
     },
     "execution_count": 35,
     "metadata": {},
     "output_type": "execute_result"
    }
   ],
   "source": [
    "X.shape"
   ]
  },
  {
   "cell_type": "code",
   "execution_count": 36,
   "metadata": {
    "executionInfo": {
     "elapsed": 3,
     "status": "ok",
     "timestamp": 1734025109684,
     "user": {
      "displayName": "SMI",
      "userId": "03894129457800149408"
     },
     "user_tz": -60
    },
    "id": "o53hQSf-Ts7e"
   },
   "outputs": [
    {
     "name": "stderr",
     "output_type": "stream",
     "text": [
      "I0000 00:00:1734961882.542919   92650 gpu_device.cc:2022] Created device /job:localhost/replica:0/task:0/device:GPU:0 with 1172 MB memory:  -> device: 0, name: NVIDIA GeForce RTX 4070 Laptop GPU, pci bus id: 0000:01:00.0, compute capability: 8.9\n"
     ]
    }
   ],
   "source": [
    "from keras.models import Sequential\n",
    "from keras.layers import Dense, Dropout\n",
    "from keras.regularizers import L1, L2, L1L2\n",
    "from keras import optimizers\n",
    "\n",
    "model = Sequential()\n",
    "\n",
    "\n",
    "model.compile(loss=\"binary_crossentropy\",\n",
    "              #optimizer=optimizers.RMSprop(0.0001),\n",
    "              metrics=[\"accuracy\"])"
   ]
  },
  {
   "cell_type": "code",
   "execution_count": 37,
   "metadata": {
    "colab": {
     "base_uri": "https://localhost:8080/",
     "height": 148
    },
    "executionInfo": {
     "elapsed": 2,
     "status": "ok",
     "timestamp": 1734025109684,
     "user": {
      "displayName": "SMI",
      "userId": "03894129457800149408"
     },
     "user_tz": -60
    },
    "id": "h3FsJbdRAAsJ",
    "outputId": "49ff284a-b4c8-4ef2-d91b-552c33e09c8d"
   },
   "outputs": [
    {
     "data": {
      "text/html": [
       "<pre style=\"white-space:pre;overflow-x:auto;line-height:normal;font-family:Menlo,'DejaVu Sans Mono',consolas,'Courier New',monospace\"><span style=\"font-weight: bold\">Model: \"sequential\"</span>\n",
       "</pre>\n"
      ],
      "text/plain": [
       "\u001b[1mModel: \"sequential\"\u001b[0m\n"
      ]
     },
     "metadata": {},
     "output_type": "display_data"
    },
    {
     "data": {
      "text/html": [
       "<pre style=\"white-space:pre;overflow-x:auto;line-height:normal;font-family:Menlo,'DejaVu Sans Mono',consolas,'Courier New',monospace\">┏━━━━━━━━━━━━━━━━━━━━━━━━━━━━━━━━━┳━━━━━━━━━━━━━━━━━━━━━━━━┳━━━━━━━━━━━━━━━┓\n",
       "┃<span style=\"font-weight: bold\"> Layer (type)                    </span>┃<span style=\"font-weight: bold\"> Output Shape           </span>┃<span style=\"font-weight: bold\">       Param # </span>┃\n",
       "┡━━━━━━━━━━━━━━━━━━━━━━━━━━━━━━━━━╇━━━━━━━━━━━━━━━━━━━━━━━━╇━━━━━━━━━━━━━━━┩\n",
       "└─────────────────────────────────┴────────────────────────┴───────────────┘\n",
       "</pre>\n"
      ],
      "text/plain": [
       "┏━━━━━━━━━━━━━━━━━━━━━━━━━━━━━━━━━┳━━━━━━━━━━━━━━━━━━━━━━━━┳━━━━━━━━━━━━━━━┓\n",
       "┃\u001b[1m \u001b[0m\u001b[1mLayer (type)                   \u001b[0m\u001b[1m \u001b[0m┃\u001b[1m \u001b[0m\u001b[1mOutput Shape          \u001b[0m\u001b[1m \u001b[0m┃\u001b[1m \u001b[0m\u001b[1m      Param #\u001b[0m\u001b[1m \u001b[0m┃\n",
       "┡━━━━━━━━━━━━━━━━━━━━━━━━━━━━━━━━━╇━━━━━━━━━━━━━━━━━━━━━━━━╇━━━━━━━━━━━━━━━┩\n",
       "└─────────────────────────────────┴────────────────────────┴───────────────┘\n"
      ]
     },
     "metadata": {},
     "output_type": "display_data"
    },
    {
     "data": {
      "text/html": [
       "<pre style=\"white-space:pre;overflow-x:auto;line-height:normal;font-family:Menlo,'DejaVu Sans Mono',consolas,'Courier New',monospace\"><span style=\"font-weight: bold\"> Total params: </span><span style=\"color: #00af00; text-decoration-color: #00af00\">0</span> (0.00 B)\n",
       "</pre>\n"
      ],
      "text/plain": [
       "\u001b[1m Total params: \u001b[0m\u001b[38;5;34m0\u001b[0m (0.00 B)\n"
      ]
     },
     "metadata": {},
     "output_type": "display_data"
    },
    {
     "data": {
      "text/html": [
       "<pre style=\"white-space:pre;overflow-x:auto;line-height:normal;font-family:Menlo,'DejaVu Sans Mono',consolas,'Courier New',monospace\"><span style=\"font-weight: bold\"> Trainable params: </span><span style=\"color: #00af00; text-decoration-color: #00af00\">0</span> (0.00 B)\n",
       "</pre>\n"
      ],
      "text/plain": [
       "\u001b[1m Trainable params: \u001b[0m\u001b[38;5;34m0\u001b[0m (0.00 B)\n"
      ]
     },
     "metadata": {},
     "output_type": "display_data"
    },
    {
     "data": {
      "text/html": [
       "<pre style=\"white-space:pre;overflow-x:auto;line-height:normal;font-family:Menlo,'DejaVu Sans Mono',consolas,'Courier New',monospace\"><span style=\"font-weight: bold\"> Non-trainable params: </span><span style=\"color: #00af00; text-decoration-color: #00af00\">0</span> (0.00 B)\n",
       "</pre>\n"
      ],
      "text/plain": [
       "\u001b[1m Non-trainable params: \u001b[0m\u001b[38;5;34m0\u001b[0m (0.00 B)\n"
      ]
     },
     "metadata": {},
     "output_type": "display_data"
    }
   ],
   "source": [
    "model.summary()"
   ]
  },
  {
   "cell_type": "code",
   "execution_count": 38,
   "metadata": {
    "colab": {
     "base_uri": "https://localhost:8080/",
     "height": 321
    },
    "executionInfo": {
     "elapsed": 372,
     "status": "error",
     "timestamp": 1734025110054,
     "user": {
      "displayName": "SMI",
      "userId": "03894129457800149408"
     },
     "user_tz": -60
    },
    "id": "jUWwkr5Q_fcB",
    "outputId": "e331b6fe-92e3-4afe-f256-3b3f998dc2f2"
   },
   "outputs": [
    {
     "ename": "ValueError",
     "evalue": "This model has not yet been built. Build the model first by calling `build()` or by calling the model on a batch of data.",
     "output_type": "error",
     "traceback": [
      "\u001b[0;31m---------------------------------------------------------------------------\u001b[0m",
      "\u001b[0;31mValueError\u001b[0m                                Traceback (most recent call last)",
      "Cell \u001b[0;32mIn[38], line 1\u001b[0m\n\u001b[0;32m----> 1\u001b[0m \u001b[43mdisplay_model\u001b[49m\u001b[43m(\u001b[49m\u001b[43mmodel\u001b[49m\u001b[43m)\u001b[49m\n",
      "Cell \u001b[0;32mIn[6], line 8\u001b[0m, in \u001b[0;36mdisplay_model\u001b[0;34m(model)\u001b[0m\n\u001b[1;32m      6\u001b[0m     display(SVG(model_to_dot(model, show_shapes\u001b[38;5;241m=\u001b[39m\u001b[38;5;28;01mTrue\u001b[39;00m,dpi\u001b[38;5;241m=\u001b[39m\u001b[38;5;241m72\u001b[39m)\u001b[38;5;241m.\u001b[39mcreate(prog\u001b[38;5;241m=\u001b[39m\u001b[38;5;124m'\u001b[39m\u001b[38;5;124mdot\u001b[39m\u001b[38;5;124m'\u001b[39m, \u001b[38;5;28mformat\u001b[39m\u001b[38;5;241m=\u001b[39m\u001b[38;5;124m'\u001b[39m\u001b[38;5;124msvg\u001b[39m\u001b[38;5;124m'\u001b[39m)))\n\u001b[1;32m      7\u001b[0m \u001b[38;5;28;01melse\u001b[39;00m:\n\u001b[0;32m----> 8\u001b[0m     display(SVG(\u001b[43mmodel_to_dot\u001b[49m\u001b[43m(\u001b[49m\u001b[43mmodel\u001b[49m\u001b[43m,\u001b[49m\u001b[43m \u001b[49m\u001b[43mshow_shapes\u001b[49m\u001b[38;5;241;43m=\u001b[39;49m\u001b[38;5;28;43;01mTrue\u001b[39;49;00m\u001b[43m)\u001b[49m\u001b[38;5;241m.\u001b[39mcreate(prog\u001b[38;5;241m=\u001b[39m\u001b[38;5;124m'\u001b[39m\u001b[38;5;124mdot\u001b[39m\u001b[38;5;124m'\u001b[39m, \u001b[38;5;28mformat\u001b[39m\u001b[38;5;241m=\u001b[39m\u001b[38;5;124m'\u001b[39m\u001b[38;5;124msvg\u001b[39m\u001b[38;5;124m'\u001b[39m)))\n",
      "File \u001b[0;32m~/venv/lib/python3.12/site-packages/keras/src/utils/model_visualization.py:241\u001b[0m, in \u001b[0;36mmodel_to_dot\u001b[0;34m(model, show_shapes, show_dtype, show_layer_names, rankdir, expand_nested, dpi, subgraph, show_layer_activations, show_trainable, **kwargs)\u001b[0m\n\u001b[1;32m    238\u001b[0m \u001b[38;5;28;01mfrom\u001b[39;00m \u001b[38;5;21;01mkeras\u001b[39;00m\u001b[38;5;21;01m.\u001b[39;00m\u001b[38;5;21;01msrc\u001b[39;00m\u001b[38;5;21;01m.\u001b[39;00m\u001b[38;5;21;01mops\u001b[39;00m\u001b[38;5;21;01m.\u001b[39;00m\u001b[38;5;21;01mfunction\u001b[39;00m \u001b[38;5;28;01mimport\u001b[39;00m make_node_key\n\u001b[1;32m    240\u001b[0m \u001b[38;5;28;01mif\u001b[39;00m \u001b[38;5;129;01mnot\u001b[39;00m model\u001b[38;5;241m.\u001b[39mbuilt:\n\u001b[0;32m--> 241\u001b[0m     \u001b[38;5;28;01mraise\u001b[39;00m \u001b[38;5;167;01mValueError\u001b[39;00m(\n\u001b[1;32m    242\u001b[0m         \u001b[38;5;124m\"\u001b[39m\u001b[38;5;124mThis model has not yet been built. \u001b[39m\u001b[38;5;124m\"\u001b[39m\n\u001b[1;32m    243\u001b[0m         \u001b[38;5;124m\"\u001b[39m\u001b[38;5;124mBuild the model first by calling `build()` or by calling \u001b[39m\u001b[38;5;124m\"\u001b[39m\n\u001b[1;32m    244\u001b[0m         \u001b[38;5;124m\"\u001b[39m\u001b[38;5;124mthe model on a batch of data.\u001b[39m\u001b[38;5;124m\"\u001b[39m\n\u001b[1;32m    245\u001b[0m     )\n\u001b[1;32m    247\u001b[0m \u001b[38;5;28;01mfrom\u001b[39;00m \u001b[38;5;21;01mkeras\u001b[39;00m\u001b[38;5;21;01m.\u001b[39;00m\u001b[38;5;21;01msrc\u001b[39;00m\u001b[38;5;21;01m.\u001b[39;00m\u001b[38;5;21;01mmodels\u001b[39;00m \u001b[38;5;28;01mimport\u001b[39;00m functional\n\u001b[1;32m    248\u001b[0m \u001b[38;5;28;01mfrom\u001b[39;00m \u001b[38;5;21;01mkeras\u001b[39;00m\u001b[38;5;21;01m.\u001b[39;00m\u001b[38;5;21;01msrc\u001b[39;00m\u001b[38;5;21;01m.\u001b[39;00m\u001b[38;5;21;01mmodels\u001b[39;00m \u001b[38;5;28;01mimport\u001b[39;00m sequential\n",
      "\u001b[0;31mValueError\u001b[0m: This model has not yet been built. Build the model first by calling `build()` or by calling the model on a batch of data."
     ]
    }
   ],
   "source": [
    "display_model(model)"
   ]
  },
  {
   "cell_type": "markdown",
   "metadata": {
    "id": "MFUy_3-lAwU9"
   },
   "source": [
    "## **Entrenamiento del modelo**"
   ]
  },
  {
   "cell_type": "code",
   "execution_count": 39,
   "metadata": {
    "executionInfo": {
     "elapsed": 7,
     "status": "aborted",
     "timestamp": 1734025110055,
     "user": {
      "displayName": "SMI",
      "userId": "03894129457800149408"
     },
     "user_tz": -60
    },
    "id": "1nn0EvVaAx13"
   },
   "outputs": [],
   "source": [
    "from keras.callbacks import ModelCheckpoint\n",
    "\n",
    "serie_tr_acc = []\n",
    "serie_val_acc = []\n",
    "serie_tr_loss  = []\n",
    "serie_val_loss = []\n",
    "\n",
    "epochs = 500\n",
    "\n",
    "modelpath=\"best_model.keras\"\n",
    "\n",
    "checkpoint = ModelCheckpoint(modelpath, monitor='val_accuracy', verbose=1,\n",
    "                             save_best_only=True,\n",
    "                             mode='max') # graba sólo los que mejoran en validación\n",
    "callbacks_list = [checkpoint]"
   ]
  },
  {
   "cell_type": "code",
   "execution_count": 40,
   "metadata": {
    "executionInfo": {
     "elapsed": 7,
     "status": "aborted",
     "timestamp": 1734025110055,
     "user": {
      "displayName": "SMI",
      "userId": "03894129457800149408"
     },
     "user_tz": -60
    },
    "id": "7XLDZSDIAx6C"
   },
   "outputs": [],
   "source": [
    "from IPython.display import clear_output"
   ]
  },
  {
   "cell_type": "code",
   "execution_count": 41,
   "metadata": {
    "executionInfo": {
     "elapsed": 7,
     "status": "aborted",
     "timestamp": 1734025110055,
     "user": {
      "displayName": "SMI",
      "userId": "03894129457800149408"
     },
     "user_tz": -60
    },
    "id": "sQGhpc2WAyDM"
   },
   "outputs": [
    {
     "ename": "ValueError",
     "evalue": "Sequential model sequential cannot be built because it has no layers. Call `model.add(layer)`.",
     "output_type": "error",
     "traceback": [
      "\u001b[0;31m---------------------------------------------------------------------------\u001b[0m",
      "\u001b[0;31mValueError\u001b[0m                                Traceback (most recent call last)",
      "Cell \u001b[0;32mIn[41], line 2\u001b[0m\n\u001b[1;32m      1\u001b[0m \u001b[38;5;28;01mfor\u001b[39;00m e \u001b[38;5;129;01min\u001b[39;00m \u001b[38;5;28mrange\u001b[39m(epochs):\n\u001b[0;32m----> 2\u001b[0m     history \u001b[38;5;241m=\u001b[39m \u001b[43mmodel\u001b[49m\u001b[38;5;241;43m.\u001b[39;49m\u001b[43mfit\u001b[49m\u001b[43m(\u001b[49m\u001b[43mX_tr\u001b[49m\u001b[43m,\u001b[49m\u001b[43m \u001b[49m\u001b[43my_tr\u001b[49m\u001b[43m,\u001b[49m\u001b[43m \u001b[49m\u001b[43mepochs\u001b[49m\u001b[38;5;241;43m=\u001b[39;49m\u001b[38;5;241;43m1\u001b[39;49m\u001b[43m,\u001b[49m\u001b[43m \u001b[49m\u001b[43mbatch_size\u001b[49m\u001b[38;5;241;43m=\u001b[39;49m\u001b[38;5;241;43m32\u001b[39;49m\u001b[43m,\u001b[49m\u001b[43m \u001b[49m\u001b[43mcallbacks\u001b[49m\u001b[38;5;241;43m=\u001b[39;49m\u001b[43mcallbacks_list\u001b[49m\u001b[43m,\u001b[49m\n\u001b[1;32m      3\u001b[0m \u001b[43m                        \u001b[49m\u001b[43mverbose\u001b[49m\u001b[38;5;241;43m=\u001b[39;49m\u001b[38;5;241;43m10\u001b[39;49m\u001b[43m,\u001b[49m\u001b[43m \u001b[49m\u001b[43mvalidation_data\u001b[49m\u001b[38;5;241;43m=\u001b[39;49m\u001b[43m(\u001b[49m\u001b[43mX_val\u001b[49m\u001b[43m,\u001b[49m\u001b[43my_val\u001b[49m\u001b[43m)\u001b[49m\u001b[43m)\u001b[49m\n\u001b[1;32m      5\u001b[0m     serie_tr_acc\u001b[38;5;241m.\u001b[39mappend(history\u001b[38;5;241m.\u001b[39mhistory[\u001b[38;5;124m'\u001b[39m\u001b[38;5;124maccuracy\u001b[39m\u001b[38;5;124m'\u001b[39m][\u001b[38;5;241m0\u001b[39m])\n\u001b[1;32m      6\u001b[0m     serie_val_acc\u001b[38;5;241m.\u001b[39mappend(history\u001b[38;5;241m.\u001b[39mhistory[\u001b[38;5;124m'\u001b[39m\u001b[38;5;124mval_accuracy\u001b[39m\u001b[38;5;124m'\u001b[39m][\u001b[38;5;241m0\u001b[39m])\n",
      "File \u001b[0;32m~/venv/lib/python3.12/site-packages/keras/src/utils/traceback_utils.py:122\u001b[0m, in \u001b[0;36mfilter_traceback.<locals>.error_handler\u001b[0;34m(*args, **kwargs)\u001b[0m\n\u001b[1;32m    119\u001b[0m     filtered_tb \u001b[38;5;241m=\u001b[39m _process_traceback_frames(e\u001b[38;5;241m.\u001b[39m__traceback__)\n\u001b[1;32m    120\u001b[0m     \u001b[38;5;66;03m# To get the full stack trace, call:\u001b[39;00m\n\u001b[1;32m    121\u001b[0m     \u001b[38;5;66;03m# `keras.config.disable_traceback_filtering()`\u001b[39;00m\n\u001b[0;32m--> 122\u001b[0m     \u001b[38;5;28;01mraise\u001b[39;00m e\u001b[38;5;241m.\u001b[39mwith_traceback(filtered_tb) \u001b[38;5;28;01mfrom\u001b[39;00m \u001b[38;5;28;01mNone\u001b[39;00m\n\u001b[1;32m    123\u001b[0m \u001b[38;5;28;01mfinally\u001b[39;00m:\n\u001b[1;32m    124\u001b[0m     \u001b[38;5;28;01mdel\u001b[39;00m filtered_tb\n",
      "File \u001b[0;32m~/venv/lib/python3.12/site-packages/keras/src/models/sequential.py:164\u001b[0m, in \u001b[0;36mSequential.build\u001b[0;34m(self, input_shape)\u001b[0m\n\u001b[1;32m    162\u001b[0m     \u001b[38;5;28;01mreturn\u001b[39;00m\n\u001b[1;32m    163\u001b[0m \u001b[38;5;28;01mif\u001b[39;00m \u001b[38;5;129;01mnot\u001b[39;00m \u001b[38;5;28mself\u001b[39m\u001b[38;5;241m.\u001b[39m_layers:\n\u001b[0;32m--> 164\u001b[0m     \u001b[38;5;28;01mraise\u001b[39;00m \u001b[38;5;167;01mValueError\u001b[39;00m(\n\u001b[1;32m    165\u001b[0m         \u001b[38;5;124mf\u001b[39m\u001b[38;5;124m\"\u001b[39m\u001b[38;5;124mSequential model \u001b[39m\u001b[38;5;132;01m{\u001b[39;00m\u001b[38;5;28mself\u001b[39m\u001b[38;5;241m.\u001b[39mname\u001b[38;5;132;01m}\u001b[39;00m\u001b[38;5;124m cannot be built because it has \u001b[39m\u001b[38;5;124m\"\u001b[39m\n\u001b[1;32m    166\u001b[0m         \u001b[38;5;124m\"\u001b[39m\u001b[38;5;124mno layers. Call `model.add(layer)`.\u001b[39m\u001b[38;5;124m\"\u001b[39m\n\u001b[1;32m    167\u001b[0m     )\n\u001b[1;32m    168\u001b[0m \u001b[38;5;28;01mif\u001b[39;00m \u001b[38;5;28misinstance\u001b[39m(\u001b[38;5;28mself\u001b[39m\u001b[38;5;241m.\u001b[39m_layers[\u001b[38;5;241m0\u001b[39m], InputLayer):\n\u001b[1;32m    169\u001b[0m     \u001b[38;5;28;01mif\u001b[39;00m \u001b[38;5;28mself\u001b[39m\u001b[38;5;241m.\u001b[39m_layers[\u001b[38;5;241m0\u001b[39m]\u001b[38;5;241m.\u001b[39mbatch_shape \u001b[38;5;241m!=\u001b[39m input_shape:\n",
      "\u001b[0;31mValueError\u001b[0m: Sequential model sequential cannot be built because it has no layers. Call `model.add(layer)`."
     ]
    }
   ],
   "source": [
    "for e in range(epochs):\n",
    "    history = model.fit(X_tr, y_tr, epochs=1, batch_size=32, callbacks=callbacks_list,\n",
    "                        verbose=10, validation_data=(X_val,y_val))\n",
    "\n",
    "    serie_tr_acc.append(history.history['accuracy'][0])\n",
    "    serie_val_acc.append(history.history['val_accuracy'][0])\n",
    "    serie_tr_loss.append(history.history['loss'][0])\n",
    "    serie_val_loss.append(history.history['val_loss'][0])\n",
    "\n",
    "    if len(serie_tr_acc) % 2 == 0:\n",
    "        clear_output()\n",
    "    grafica_entrenamiento(serie_tr_acc, serie_val_acc, serie_tr_loss, serie_val_loss)"
   ]
  },
  {
   "cell_type": "markdown",
   "metadata": {
    "id": "ROW4nkrbA0bF"
   },
   "source": [
    "Recupero el mejor modelo (punto rojo), que está grabado en el fichero dado por la variable modelpath:"
   ]
  },
  {
   "cell_type": "code",
   "execution_count": null,
   "metadata": {
    "executionInfo": {
     "elapsed": 6,
     "status": "aborted",
     "timestamp": 1734025110055,
     "user": {
      "displayName": "SMI",
      "userId": "03894129457800149408"
     },
     "user_tz": -60
    },
    "id": "oedaHIYpA-tf"
   },
   "outputs": [],
   "source": [
    "modelpath"
   ]
  },
  {
   "cell_type": "code",
   "execution_count": null,
   "metadata": {
    "executionInfo": {
     "elapsed": 6,
     "status": "aborted",
     "timestamp": 1734025110055,
     "user": {
      "displayName": "SMI",
      "userId": "03894129457800149408"
     },
     "user_tz": -60
    },
    "id": "ZiJkL1mIAyGh"
   },
   "outputs": [],
   "source": [
    "from keras.models import load_model\n",
    "\n",
    "model = load_model(modelpath)"
   ]
  },
  {
   "cell_type": "markdown",
   "metadata": {
    "id": "jh_MIdQQBDbb"
   },
   "source": [
    "## **Análisis de los resultados del modelo**"
   ]
  },
  {
   "cell_type": "code",
   "execution_count": null,
   "metadata": {
    "executionInfo": {
     "elapsed": 6,
     "status": "aborted",
     "timestamp": 1734025110055,
     "user": {
      "displayName": "SMI",
      "userId": "03894129457800149408"
     },
     "user_tz": -60
    },
    "id": "yt5LDI7zAyL-"
   },
   "outputs": [],
   "source": [
    "probs_predicciones_test = model.predict(X_test).flatten()\n",
    "probs_predicciones_test[:5]"
   ]
  },
  {
   "cell_type": "markdown",
   "metadata": {
    "id": "Khjr1htMENz_"
   },
   "source": [
    "**Score (tasa de acierto, \"accuracy\") en test:**"
   ]
  },
  {
   "cell_type": "code",
   "execution_count": null,
   "metadata": {
    "executionInfo": {
     "elapsed": 6,
     "status": "aborted",
     "timestamp": 1734025110055,
     "user": {
      "displayName": "SMI",
      "userId": "03894129457800149408"
     },
     "user_tz": -60
    },
    "id": "o3nVyzXHAyUI"
   },
   "outputs": [],
   "source": [
    "predicciones_test = np.round(probs_predicciones_test)\n",
    "\n",
    "np.mean(y_test == predicciones_test)"
   ]
  },
  {
   "cell_type": "markdown",
   "metadata": {
    "id": "sRBmQy3VETvu"
   },
   "source": [
    "Score en training:"
   ]
  },
  {
   "cell_type": "code",
   "execution_count": null,
   "metadata": {
    "executionInfo": {
     "elapsed": 6,
     "status": "aborted",
     "timestamp": 1734025110055,
     "user": {
      "displayName": "SMI",
      "userId": "03894129457800149408"
     },
     "user_tz": -60
    },
    "id": "MsIR7nmOLn1k"
   },
   "outputs": [],
   "source": [
    "np.mean(y_tr == np.round(model.predict(X_tr).flatten()))"
   ]
  },
  {
   "cell_type": "markdown",
   "metadata": {
    "id": "iEABDh3FEXRS"
   },
   "source": [
    "Score en validación:"
   ]
  },
  {
   "cell_type": "code",
   "execution_count": null,
   "metadata": {
    "executionInfo": {
     "elapsed": 6,
     "status": "aborted",
     "timestamp": 1734025110055,
     "user": {
      "displayName": "SMI",
      "userId": "03894129457800149408"
     },
     "user_tz": -60
    },
    "id": "eOCoaIcQLn5e"
   },
   "outputs": [],
   "source": [
    "np.mean(y_val == np.round(model.predict(X_val).flatten()))"
   ]
  },
  {
   "cell_type": "code",
   "execution_count": null,
   "metadata": {
    "executionInfo": {
     "elapsed": 6,
     "status": "aborted",
     "timestamp": 1734025110055,
     "user": {
      "displayName": "SMI",
      "userId": "03894129457800149408"
     },
     "user_tz": -60
    },
    "id": "XAG8UeqCEkSp"
   },
   "outputs": [],
   "source": [
    "analisis_roc(y=y_test, positive_class_scores=probs_predicciones_test, POSITIVE_CLASS=1)"
   ]
  },
  {
   "cell_type": "code",
   "execution_count": null,
   "metadata": {
    "executionInfo": {
     "elapsed": 6,
     "status": "aborted",
     "timestamp": 1734025110055,
     "user": {
      "displayName": "SMI",
      "userId": "03894129457800149408"
     },
     "user_tz": -60
    },
    "id": "O5l5c-8dEtU-"
   },
   "outputs": [],
   "source": [
    "plot_confusion_matrix(y=y_test, y_pred=predicciones_test)"
   ]
  },
  {
   "cell_type": "code",
   "execution_count": null,
   "metadata": {
    "executionInfo": {
     "elapsed": 6,
     "status": "aborted",
     "timestamp": 1734025110055,
     "user": {
      "displayName": "SMI",
      "userId": "03894129457800149408"
     },
     "user_tz": -60
    },
    "id": "1wQ4Yxz1FI1I"
   },
   "outputs": [],
   "source": []
  }
 ],
 "metadata": {
  "colab": {
   "provenance": []
  },
  "kernelspec": {
   "display_name": "Python 3 (ipykernel)",
   "language": "python",
   "name": "python3"
  },
  "language_info": {
   "codemirror_mode": {
    "name": "ipython",
    "version": 3
   },
   "file_extension": ".py",
   "mimetype": "text/x-python",
   "name": "python",
   "nbconvert_exporter": "python",
   "pygments_lexer": "ipython3",
   "version": "3.12.3"
  }
 },
 "nbformat": 4,
 "nbformat_minor": 0
}
