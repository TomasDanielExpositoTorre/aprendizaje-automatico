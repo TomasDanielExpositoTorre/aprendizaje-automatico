{
 "cells": [
  {
   "cell_type": "markdown",
   "metadata": {
    "id": "kHKTC75u2co-"
   },
   "source": [
    "<font color=\"#CA3532\"><h1 align=\"left\">Clustering</h1></font>\n",
    "<h2 align=\"left\">Clustering jerárquico en dataset de vinos</h2>"
   ]
  },
  {
   "cell_type": "code",
   "execution_count": null,
   "metadata": {
    "executionInfo": {
     "elapsed": 2435,
     "status": "ok",
     "timestamp": 1699095284168,
     "user": {
      "displayName": "Manuel Sánchez-Montañés",
      "userId": "17112108692206476645"
     },
     "user_tz": -60
    },
    "id": "DfMxeE7t2cpC"
   },
   "outputs": [],
   "source": [
    "import pandas as pd\n",
    "import numpy as np\n",
    "import matplotlib.pyplot as plt\n",
    "from sklearn.datasets import make_blobs\n",
    "from sklearn.cluster import KMeans\n",
    "from sklearn import metrics"
   ]
  },
  {
   "cell_type": "markdown",
   "metadata": {
    "id": "jLyvYDRm2cpD"
   },
   "source": [
    "Now we will use clustering in a wine database. The goal is to check if the clustering discovers the different real wine types.\n",
    "\n",
    "The database describes the parameters of different wine instances. There are 3 types of wine and 13 wine features with the levels of the most important indicators:\n",
    "- Alcohol\n",
    "- Malic acid\n",
    "- Ash\n",
    "- Ash alcalinity\n",
    "- Magnesium\n",
    "- Total phenols\n",
    "- Flavanoids\n",
    "- Nonflavanoid phenols\n",
    "- Proanthocyanins\n",
    "- Color intensity\n",
    "- Hue\n",
    "- OD280_OD315\n",
    "- Proline\n",
    "\n",
    "Now we load this database:\n"
   ]
  },
  {
   "cell_type": "code",
   "execution_count": null,
   "metadata": {
    "colab": {
     "base_uri": "https://localhost:8080/",
     "height": 637
    },
    "executionInfo": {
     "elapsed": 1020,
     "status": "ok",
     "timestamp": 1699095285185,
     "user": {
      "displayName": "Manuel Sánchez-Montañés",
      "userId": "17112108692206476645"
     },
     "user_tz": -60
    },
    "id": "bEge_6Gg2cpE",
    "outputId": "89e9874b-84e3-4752-d85f-aa4538c4d4b1",
    "scrolled": true
   },
   "outputs": [],
   "source": [
    "data = pd.read_csv('./wine_dataset.csv', delimiter=';', header=0)\n",
    "\n",
    "print('Wine Database\\n')\n",
    "print('Number of real classes (wine types):', np.unique(data['Type']).shape[0])\n",
    "print('Unique class labels:', np.unique(data['Type']))\n",
    "print('\\nFirst instances:')\n",
    "data.head()"
   ]
  },
  {
   "cell_type": "code",
   "execution_count": null,
   "metadata": {
    "colab": {
     "base_uri": "https://localhost:8080/",
     "height": 457
    },
    "executionInfo": {
     "elapsed": 6,
     "status": "ok",
     "timestamp": 1699095285185,
     "user": {
      "displayName": "Manuel Sánchez-Montañés",
      "userId": "17112108692206476645"
     },
     "user_tz": -60
    },
    "id": "vogqCJxe3EvW",
    "outputId": "6a311912-4dc3-442e-fb43-3a3c7ee7f802"
   },
   "outputs": [],
   "source": [
    "data.describe().T[[\"count\", \"min\", \"max\", \"mean\", \"std\"]]"
   ]
  },
  {
   "cell_type": "markdown",
   "metadata": {
    "id": "J7_UsE5e2cpF"
   },
   "source": [
    "After loading the database we need to do some basic preprocessing: standarization and PCA:"
   ]
  },
  {
   "cell_type": "code",
   "execution_count": null,
   "metadata": {
    "colab": {
     "base_uri": "https://localhost:8080/"
    },
    "executionInfo": {
     "elapsed": 5,
     "status": "ok",
     "timestamp": 1699095285185,
     "user": {
      "displayName": "Manuel Sánchez-Montañés",
      "userId": "17112108692206476645"
     },
     "user_tz": -60
    },
    "id": "S4-CpfRA2cpF",
    "outputId": "7cbebcf0-3575-41f1-ac4a-bba87373541f"
   },
   "outputs": [],
   "source": [
    "X = data.drop(\"Type\", axis=1)\n",
    "y = data[\"Type\"]\n",
    "\n",
    "classes_names = data['Type'].unique()\n",
    "print(classes_names)\n",
    "attribute_names = X.columns\n",
    "print(attribute_names)"
   ]
  },
  {
   "cell_type": "markdown",
   "metadata": {
    "id": "GtrT38lD2cpG"
   },
   "source": [
    "Now we will perform clustering using a hierarchical strategy:\n"
   ]
  },
  {
   "cell_type": "code",
   "execution_count": null,
   "metadata": {
    "executionInfo": {
     "elapsed": 4,
     "status": "ok",
     "timestamp": 1699095285185,
     "user": {
      "displayName": "Manuel Sánchez-Montañés",
      "userId": "17112108692206476645"
     },
     "user_tz": -60
    },
    "id": "UNjxSaii2cpG"
   },
   "outputs": [],
   "source": [
    "from sklearn.preprocessing import StandardScaler\n",
    "from sklearn.decomposition import PCA\n",
    "\n",
    "# Now we will analyze the wine dataset with hierarchical clustering\n",
    "\n",
    "X_std = StandardScaler().fit_transform(X)\n",
    "pca = PCA(n_components=5)\n",
    "pca.fit(X_std)\n",
    "X_pca = pca.transform(X_std)\n",
    "#X_clust = X_std\n",
    "X_clust = X_pca\n",
    "\n",
    "#from sklearn.metrics.pairwise import cosine_similarity\n",
    "from sklearn.metrics.pairwise import pairwise_distances\n",
    "\n",
    "#dists = 1 - cosine_similarity(infoMat_analysis)\n",
    "from scipy.spatial.distance import pdist\n",
    "dists = pairwise_distances(X_clust, metric='euclidean')\n",
    "dists = pdist(X_clust, metric='euclidean')\n",
    "\n",
    "from scipy.cluster.hierarchy import ward, dendrogram\n",
    "\n",
    "linkage_matrix = ward(dists)"
   ]
  },
  {
   "cell_type": "code",
   "execution_count": null,
   "metadata": {
    "colab": {
     "base_uri": "https://localhost:8080/",
     "height": 1000
    },
    "executionInfo": {
     "elapsed": 3727,
     "status": "ok",
     "timestamp": 1699095288909,
     "user": {
      "displayName": "Manuel Sánchez-Montañés",
      "userId": "17112108692206476645"
     },
     "user_tz": -60
    },
    "id": "Cs1Ai_bp2cpH",
    "outputId": "749fb708-2943-4c00-c91e-aae9dc3e7008"
   },
   "outputs": [],
   "source": [
    "fig, ax = plt.subplots(figsize=(15,20))\n",
    "#dendr = dendrogram(linkage_matrix, orientation=\"left\", labels=names)\n",
    "dendr = dendrogram(linkage_matrix, orientation=\"left\")\n",
    "\n",
    "inds_leaves = dendr['leaves']\n",
    "\n",
    "plt.tick_params(\\\n",
    "               axis = 'x',\n",
    "                which = 'both',\n",
    "                bottom = 'off',\n",
    "                top = 'off',\n",
    "                labelbottom = 'off')\n",
    "plt.tight_layout()\n",
    "plt.title('Wine database, hierarchical clustering', fontsize = 20)\n",
    "plt.show()\n",
    "\n",
    "from scipy.cluster.hierarchy import fcluster\n",
    "\n",
    "nselected_clusters = 3\n",
    "ids_clusters = fcluster(linkage_matrix, nselected_clusters, criterion='maxclust')-1\n",
    "\n",
    "unique_y = np.unique(y)\n",
    "for c in np.unique(ids_clusters):\n",
    "    inds = (np.where(np.array(ids_clusters) == c))[0]\n",
    "    print('- Cluster %d' % c)\n",
    "    for real_class in unique_y:\n",
    "        print('  Number of patterns with real class %c: %d' % (real_class, (list(y[inds])).count(real_class)))\n",
    "    print()"
   ]
  },
  {
   "cell_type": "code",
   "execution_count": null,
   "metadata": {
    "colab": {
     "base_uri": "https://localhost:8080/",
     "height": 1000
    },
    "executionInfo": {
     "elapsed": 2695,
     "status": "ok",
     "timestamp": 1699095291600,
     "user": {
      "displayName": "Manuel Sánchez-Montañés",
      "userId": "17112108692206476645"
     },
     "user_tz": -60
    },
    "id": "sx8tkP6M2cpI",
    "outputId": "26938344-4d7d-42da-e6a8-dce6e5a7ed03"
   },
   "outputs": [],
   "source": [
    "from scipy.cluster.hierarchy import dendrogram, linkage, fcluster\n",
    "\n",
    "# ward, complete\n",
    "Z = linkage(X_clust, 'ward', optimal_ordering=True) # single, complete, average\n",
    "\n",
    "# Plot the dendrogram:\n",
    "plt.figure(figsize=(15, 20))\n",
    "dendrogram(Z, leaf_rotation=0, orientation='left')\n",
    "plt.grid(True)"
   ]
  },
  {
   "cell_type": "code",
   "execution_count": null,
   "metadata": {
    "colab": {
     "base_uri": "https://localhost:8080/",
     "height": 437
    },
    "executionInfo": {
     "elapsed": 7295,
     "status": "ok",
     "timestamp": 1699095298892,
     "user": {
      "displayName": "Manuel Sánchez-Montañés",
      "userId": "17112108692206476645"
     },
     "user_tz": -60
    },
    "id": "9tC050ux2cpI",
    "outputId": "050bf079-ae9f-45e5-c4f4-d9a92d2eae5a"
   },
   "outputs": [],
   "source": [
    "from scipy.cluster.hierarchy import dendrogram, linkage, fcluster\n",
    "\n",
    "Z = linkage(X_clust, 'ward') # ward, single, complete, average\n",
    "\n",
    "# Plot the dendrogram:\n",
    "plt.figure(figsize=(15, 5))\n",
    "dendrogram(Z, leaf_rotation=0)\n",
    "plt.grid(True)"
   ]
  },
  {
   "cell_type": "code",
   "execution_count": null,
   "metadata": {
    "colab": {
     "base_uri": "https://localhost:8080/"
    },
    "executionInfo": {
     "elapsed": 4,
     "status": "ok",
     "timestamp": 1699095298892,
     "user": {
      "displayName": "Manuel Sánchez-Montañés",
      "userId": "17112108692206476645"
     },
     "user_tz": -60
    },
    "id": "6LJBZiL02cpJ",
    "outputId": "bba06ba2-1d9c-4b5a-8eba-6850d5981643"
   },
   "outputs": [],
   "source": [
    "nselected_clusters = 3\n",
    "ids_clusters = fcluster(Z, nselected_clusters, criterion='maxclust')-1\n",
    "\n",
    "unique_y = np.unique(y)\n",
    "for c in np.unique(ids_clusters):\n",
    "    inds = (np.where(np.array(ids_clusters) == c))[0]\n",
    "    print('- Cluster %d' % c)\n",
    "    for real_class in unique_y:\n",
    "        print('  Number of patterns with real class %c: %d' % (real_class, (list(y[inds])).count(real_class)))\n",
    "    print()"
   ]
  },
  {
   "cell_type": "code",
   "execution_count": null,
   "metadata": {
    "colab": {
     "base_uri": "https://localhost:8080/",
     "height": 648
    },
    "executionInfo": {
     "elapsed": 1032,
     "status": "ok",
     "timestamp": 1699095299921,
     "user": {
      "displayName": "Manuel Sánchez-Montañés",
      "userId": "17112108692206476645"
     },
     "user_tz": -60
    },
    "id": "MunNS8vx2cpJ",
    "outputId": "27f47fa5-c130-403a-9d2e-bacdcf1eb01c"
   },
   "outputs": [],
   "source": [
    "pcx = 0\n",
    "pcy = 1\n",
    "\n",
    "fig = plt.figure(figsize=(6,6))\n",
    "colors = ['lightgreen', 'lightblue', 'yellow', 'orange', 'magenta']\n",
    "markers = ['s', 'v', 'o', 'd', 's']\n",
    "\n",
    "for c in range(nselected_clusters):\n",
    "    inds = np.where(ids_clusters == c)[0]\n",
    "    plt.scatter(X_pca[inds, 0],\n",
    "                X_pca[inds, 1],\n",
    "                s = 60,\n",
    "                c = colors[c], marker = markers[c],\n",
    "                label = 'cluster %d' % (c))\n",
    "\n",
    "plt.legend()\n",
    "plt.grid()\n",
    "plt.tight_layout()\n",
    "plt.title('Wine database, optimal clustering')\n",
    "plt.xlabel('Principal component '+str(pcx+1))\n",
    "plt.ylabel('Principal component '+str(pcy+1))\n",
    "plt.show()"
   ]
  },
  {
   "cell_type": "markdown",
   "metadata": {
    "id": "iOydBoT32cpK"
   },
   "source": [
    "### Finding automatically the number of clusters"
   ]
  },
  {
   "cell_type": "code",
   "execution_count": null,
   "metadata": {
    "executionInfo": {
     "elapsed": 3,
     "status": "ok",
     "timestamp": 1699095299921,
     "user": {
      "displayName": "Manuel Sánchez-Montañés",
      "userId": "17112108692206476645"
     },
     "user_tz": -60
    },
    "id": "uNqmeKqu2cpK"
   },
   "outputs": [],
   "source": [
    "#from sklearn.metrics import silhouette_score as qmetric\n",
    "from sklearn.metrics import calinski_harabasz_score as qmetric\n",
    "\n",
    "Nclusters_max = 15\n",
    "\n",
    "qualities = []\n",
    "labels_sets = []\n",
    "for k in range(1,Nclusters_max+1):\n",
    "    labels = fcluster(Z, k, criterion='maxclust')\n",
    "    labels_sets.append(labels)\n",
    "    if k >1:\n",
    "        qualities.append(qmetric(X_clust, labels))\n",
    "    else:\n",
    "        qualities.append(0)"
   ]
  },
  {
   "cell_type": "code",
   "execution_count": null,
   "metadata": {
    "colab": {
     "base_uri": "https://localhost:8080/",
     "height": 333
    },
    "executionInfo": {
     "elapsed": 555,
     "status": "ok",
     "timestamp": 1699095300474,
     "user": {
      "displayName": "Manuel Sánchez-Montañés",
      "userId": "17112108692206476645"
     },
     "user_tz": -60
    },
    "id": "dTpsf--K2cpK",
    "outputId": "d571eef2-e645-4c3e-dc0a-57259637523e"
   },
   "outputs": [],
   "source": [
    "fig = plt.figure(figsize=(14,3))\n",
    "\n",
    "plt.plot(range(1,Nclusters_max+1), qualities, marker='o')\n",
    "plt.xlabel('number of clusters')\n",
    "plt.title('clustering quality')\n",
    "plt.show()\n",
    "\n",
    "best = pd.Series(qualities).idxmax() # get index for the best model\n",
    "labels = labels_sets[best]\n",
    "n_clusters = len(np.unique(labels))"
   ]
  },
  {
   "cell_type": "code",
   "execution_count": null,
   "metadata": {
    "executionInfo": {
     "elapsed": 2,
     "status": "ok",
     "timestamp": 1699095300474,
     "user": {
      "displayName": "Manuel Sánchez-Montañés",
      "userId": "17112108692206476645"
     },
     "user_tz": -60
    },
    "id": "5LXhycxM2cpK"
   },
   "outputs": [],
   "source": []
  }
 ],
 "metadata": {
  "anaconda-cloud": {},
  "colab": {
   "provenance": []
  },
  "kernelspec": {
   "display_name": "Python 3 (ipykernel)",
   "language": "python",
   "name": "python3"
  },
  "language_info": {
   "codemirror_mode": {
    "name": "ipython",
    "version": 3
   },
   "file_extension": ".py",
   "mimetype": "text/x-python",
   "name": "python",
   "nbconvert_exporter": "python",
   "pygments_lexer": "ipython3",
   "version": "3.11.4"
  }
 },
 "nbformat": 4,
 "nbformat_minor": 1
}
