{
 "cells": [
  {
   "cell_type": "code",
   "execution_count": 1,
   "metadata": {},
   "outputs": [],
   "source": [
    "import p1\n",
    "\n",
    "data = p1.DataTable()"
   ]
  },
  {
   "cell_type": "code",
   "execution_count": 2,
   "metadata": {},
   "outputs": [
    {
     "name": "stdout",
     "output_type": "stream",
     "text": [
      "FECHA TRANSACCION         31 valores distintos\n",
      "HORA TRANSACCION          32336 valores distintos\n",
      "CLIENTE ID                7216 valores distintos\n",
      "PERFIL CLIENTE            24 valores distintos\n",
      "SEGMENTO                  1 valores distintos\n",
      "IP                        5813 valores distintos\n",
      "MODO ACCESO               2 valores distintos\n",
      "ID SESION                 29310 valores distintos\n",
      "IMPORTE                   4296 valores distintos\n",
      "TIPO MENSAJE              2 valores distintos\n",
      "CANAL                     2 valores distintos\n",
      "FECHA SESION              31 valores distintos\n",
      "HORA SESION               32337 valores distintos\n",
      "MEDIO AUTENTIFICACION     7 valores distintos\n",
      "TIPO TRANSACCION          32 valores distintos\n",
      "ENTIDAD                   2 valores distintos\n",
      "OFICINA ORIGEN            4180 valores distintos\n",
      "CUENTA ORIGEN             6879 valores distintos\n",
      "ENTIDAD DESTINO           251 valores distintos\n",
      "OFICINA DESTINO           1945 valores distintos\n",
      "CUENTA DESTINO            19121 valores distintos\n",
      "TIPO FIRMA                6 valores distintos\n",
      "TIPO CUENTA ORIGEN        7 valores distintos\n",
      "PAIS DESTINO              102 valores distintos\n",
      "FECHA ALTA CANAL          2092 valores distintos\n",
      "FECHA ACTIVACION CANAL    1326 valores distintos\n",
      "FECHA NAC TITU CTA CARGO  2092 valores distintos\n",
      "FECHA ALTA CTA CARGO      1326 valores distintos\n",
      "PAIS IP                   24 valores distintos\n",
      "LATITUD                   796 valores distintos\n",
      "LONGITUD                  817 valores distintos\n",
      "BROWSER                   1 valores distintos\n",
      "BROWSER VERSION           1 valores distintos\n",
      "OS                        1 valores distintos\n",
      "OS VERSION                1 valores distintos\n",
      "PROFESION CLIENTE         1 valores distintos\n",
      "SECTOR CLIENTE            4 valores distintos\n",
      "SEGMENTO CLIENTE          8 valores distintos\n",
      "INDICADOR FRAUDE          2 valores distintos\n"
     ]
    }
   ],
   "source": [
    "# TODO mover a la clase como método\n",
    "# TODO reemplazar campos vacios por np.NaN\n",
    "# TODO transformar algún dato? (fechas, horas...) (preguntar al profesor)\n",
    "for col in data.table.columns:\n",
    "    print(\"{0:25} {1} valores distintos\".format(col, len(data.table.value_counts(col))))"
   ]
  }
 ],
 "metadata": {
  "kernelspec": {
   "display_name": "Python 3",
   "language": "python",
   "name": "python3"
  },
  "language_info": {
   "codemirror_mode": {
    "name": "ipython",
    "version": 3
   },
   "file_extension": ".py",
   "mimetype": "text/x-python",
   "name": "python",
   "nbconvert_exporter": "python",
   "pygments_lexer": "ipython3",
   "version": "3.12.3"
  }
 },
 "nbformat": 4,
 "nbformat_minor": 2
}
