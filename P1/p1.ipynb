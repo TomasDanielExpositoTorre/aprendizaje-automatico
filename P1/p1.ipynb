{
 "cells": [
  {
   "cell_type": "code",
   "execution_count": 8,
   "metadata": {},
   "outputs": [],
   "source": [
    "import pandas as pd\n",
    "\n",
    "data = pd.read_csv('datos_practica.txt', sep=\"|\", header=None)\n",
    "data.columns = [\"FECHA TRANSACCION\", \"HORA TRANSACCION\",\"CLIENTE ID\", \"PERFIL CLIENTE\", \"SEGMENTO\",\"IP\",\"MODO ACCESO\",\"ID SESION\",\"IMPORTE\", \"TIPO MENSAJE\", \"CANAL\", \"FECHA SESION\",\"HORA SESION\",\n",
    "\"MEDIO AUTENTIFICACION\",\"TIPO TRANSACCION\",\"ENTIDAD\",\"OFICINA ORIGEN\",\"CUENTA ORIGEN\",\"ENTIDAD DESTINO\",\"OFICINA DESTINO\",\"CUENTA DESTINO\",\"TIPO FIRMA\",\"TIPO CUENTA ORIGEN\",\"PAIS DESTINO\",\"FECHA ALTA CANAL\",\"FECHA ACTIVACION CANAL\",\"FECHA NAC TITU CTA CARGO\",\"FECHA ALTA CTA CARGO\",\"PAIS IP\",\"LATITUD\",\"LONGITUD\"\n",
    ",\"BROWSER\",\"BROWSER VERSION\",\"OS\",\"OS VERSION\",\"PROFESION CLIENTE\",\"SECTOR CLIENTE\",\"SEGMENTO CLIENTE\",\"INDICADOR FRAUDE\"]"
   ]
  },
  {
   "cell_type": "code",
   "execution_count": 12,
   "metadata": {},
   "outputs": [
    {
     "name": "stdout",
     "output_type": "stream",
     "text": [
      "0        20170529\n",
      "1        20170529\n",
      "2        20170529\n",
      "3        20170530\n",
      "4        20170530\n",
      "           ...   \n",
      "50171    20170525\n",
      "50172    20170530\n",
      "50173    20170531\n",
      "50174    20170501\n",
      "50175    20170502\n",
      "Name: FECHA TRANSACCION, Length: 50176, dtype: int64\n"
     ]
    }
   ],
   "source": [
    "print(data['FECHA TRANSACCION'])"
   ]
  },
  {
   "cell_type": "code",
   "execution_count": null,
   "metadata": {},
   "outputs": [],
   "source": []
  }
 ],
 "metadata": {
  "kernelspec": {
   "display_name": "Python 3",
   "language": "python",
   "name": "python3"
  },
  "language_info": {
   "codemirror_mode": {
    "name": "ipython",
    "version": 3
   },
   "file_extension": ".py",
   "mimetype": "text/x-python",
   "name": "python",
   "nbconvert_exporter": "python",
   "pygments_lexer": "ipython3",
   "version": "3.12.3"
  }
 },
 "nbformat": 4,
 "nbformat_minor": 2
}
