{
 "cells": [
  {
   "cell_type": "markdown",
   "metadata": {
    "id": "UsFozCAx9r4g"
   },
   "source": [
    "# **Ejercicio: clasificar en female / male caras en gris**"
   ]
  },
  {
   "cell_type": "markdown",
   "metadata": {
    "id": "YJbLizBOTs6x"
   },
   "source": [
    "La base de datos usada es un subconjunto de la base de datos\n",
    "\"Labeled Faces in the Wild\" (\"LFW\"):\n",
    "\n",
    "  http://vis-www.cs.umass.edu/lfw/lfw-funneled.tgz\n",
    "\n",
    "  http://vis-www.cs.umass.edu/lfw/\n",
    "\n",
    "La separación en carpetas \"female\" / \"male\" se ha realizado usando\n",
    "un código basado en:\n",
    "https://github.com/Pletron/LFWgender"
   ]
  },
  {
   "cell_type": "code",
   "execution_count": 1,
   "metadata": {
    "id": "3yjN2rcFTs6q"
   },
   "outputs": [],
   "source": [
    "import numpy as np\n",
    "import pandas as pd\n",
    "import seaborn as sns\n",
    "import matplotlib.pyplot as plt\n",
    "from sklearn.metrics import roc_curve, auc, confusion_matrix\n",
    "import os\n",
    "from PIL import Image"
   ]
  },
  {
   "cell_type": "code",
   "execution_count": 2,
   "metadata": {
    "id": "K17jfrfMZdYs"
   },
   "outputs": [],
   "source": [
    "COLAB = False"
   ]
  },
  {
   "cell_type": "markdown",
   "metadata": {
    "id": "SeJKZ-SdZfml"
   },
   "source": [
    "Si se desea ejecutar en local:\n",
    "\n",
    "- Descargar el dataset de: https://drive.google.com/file/d/1kD_GKuU2doz3TSNVi45_BbwvDZ2KmEei\n",
    "\n",
    "- Poner variable COLAB a False"
   ]
  },
  {
   "cell_type": "code",
   "execution_count": 3,
   "metadata": {
    "colab": {
     "base_uri": "https://localhost:8080/"
    },
    "executionInfo": {
     "elapsed": 10,
     "status": "ok",
     "timestamp": 1734023643535,
     "user": {
      "displayName": "SMI",
      "userId": "03894129457800149408"
     },
     "user_tz": -60
    },
    "id": "xXc50-rN3IQ2",
    "outputId": "0923e989-1e38-41cd-be27-3469eaaacfbd"
   },
   "outputs": [
    {
     "name": "stdout",
     "output_type": "stream",
     "text": [
      "total 822512\n",
      "drwxrwxr-x  6 tomas tomas      4096 Jan 11 13:44 .\n",
      "drwxrwxr-x 10 tomas tomas      4096 Jan 11 12:57 ..\n",
      "-rw-rw-r--  1 tomas tomas    100057 Jan 11 13:22 best_model.keras\n",
      "-rw-r--r--  1 tomas tomas      3247 Jan 11 13:18 caras_aux.py\n",
      "-rw-rw-r--  1 tomas tomas      1859 Jan 11 13:18 caras_aux.py.zip\n",
      "-rw-rw-r--  1 tomas tomas    463258 Dec 23 14:52 color-base.ipynb\n",
      "-rw-rw-r--  1 tomas tomas   4625014 Jan 10 13:39 color-cnn.ipynb\n",
      "-rw-rw-r--  1 tomas tomas     34272 Jan 10 01:21 color-cnntl.ipynb\n",
      "-rw-r--r--  1 tomas tomas      3237 Jan 11 13:18 funciones_auxiliares.py\n",
      "-rw-rw-r--  1 tomas tomas      1788 Jan 11 13:18 funciones_auxiliares.py.zip\n",
      "drwxr-xr-x  4 tomas tomas      4096 Nov 11  2019 gender_color\n",
      "-rw-rw-r--  1 tomas tomas  41914348 Mar 11  2022 gender_color.zip\n",
      "-rw-rw-r--  1 tomas tomas    435643 Jan 11 13:44 gris-base.ipynb\n",
      "drwxrwxr-x  2 tomas tomas      4096 Jan 11 12:45 .ipynb_checkpoints\n",
      "-rw-r--r--  1 tomas tomas 768229376 Jan 11 13:44 .jupyter_ystore.db\n",
      "drwxrwxr-x  3 tomas tomas      4096 Jan 11 13:18 __MACOSX\n",
      "-rw-rw-r--  1 tomas tomas    449775 Jan 10 00:27 N1E08_color.keras\n",
      "-rw-rw-r--  1 tomas tomas    449775 Jan 10 00:26 N1E08_gray.keras\n",
      "-rw-rw-r--  1 tomas tomas    462578 Jan 11 13:41 N1E08.ipynb\n",
      "-rw-rw-r--  1 tomas tomas  12381468 Jan 11 00:51 N2E08.ipynb\n",
      "-rw-rw-r--  1 tomas tomas    100057 Jan 10 22:49 N2E08.keras\n",
      "-rw-rw-r--  1 tomas tomas  12394916 Jan 11 13:33 N3E08.ipynb\n",
      "-rw-rw-r--  1 tomas tomas     99761 Jan 11 13:32 N3E08.keras\n",
      "-rw-rw-r--  1 tomas tomas     37768 Dec 23 14:57 p4.pdf\n",
      "drwxrwxr-x  2 tomas tomas      4096 Jan 11 13:18 __pycache__\n"
     ]
    }
   ],
   "source": [
    "!ls -la"
   ]
  },
  {
   "cell_type": "markdown",
   "metadata": {
    "id": "ulBPjhnBBhbm"
   },
   "source": [
    "### Descarga de datos"
   ]
  },
  {
   "cell_type": "code",
   "execution_count": 4,
   "metadata": {
    "colab": {
     "base_uri": "https://localhost:8080/"
    },
    "executionInfo": {
     "elapsed": 5275,
     "status": "ok",
     "timestamp": 1734023648805,
     "user": {
      "displayName": "SMI",
      "userId": "03894129457800149408"
     },
     "user_tz": -60
    },
    "id": "-eKTevppZdbI",
    "outputId": "f6052fc7-54ef-4aef-bf44-cee95bc67f1c"
   },
   "outputs": [],
   "source": [
    "if COLAB:\n",
    "    aux = \"'https://drive.usercontent.google.com/download?id=1kD_GKuU2doz3TSNVi45_BbwvDZ2KmEei&export=download&confirm=t&uuid=56f4f47a-291b-4ef9-895f-8886caf14b78'\"\n",
    "    !wget $aux -O ./gender.zip\n",
    "    !unzip -qq ./gender.zip"
   ]
  },
  {
   "cell_type": "code",
   "execution_count": 5,
   "metadata": {
    "colab": {
     "base_uri": "https://localhost:8080/"
    },
    "executionInfo": {
     "elapsed": 5078,
     "status": "ok",
     "timestamp": 1734023653881,
     "user": {
      "displayName": "SMI",
      "userId": "03894129457800149408"
     },
     "user_tz": -60
    },
    "id": "nktDNpqu3WvC",
    "outputId": "53e461cc-c30a-4465-d2d8-95e02b02b680"
   },
   "outputs": [],
   "source": [
    "if COLAB:\n",
    "    from google_drive_downloader import GoogleDriveDownloader as gdd\n",
    "    gdd.download_file_from_google_drive(file_id='1jifedd49sgZI2ZA6722h9R-mRh2Ciqzp',\n",
    "                                        dest_path='./caras_aux.py.zip', unzip=True)\n",
    "    gdd.download_file_from_google_drive(file_id='1w6rSNy0mDds1cDNBtbL9U1bkF4PiGCnK',\n",
    "                                        dest_path='./funciones_auxiliares.py.zip', unzip=True)"
   ]
  },
  {
   "cell_type": "markdown",
   "metadata": {
    "id": "288pPq6V_nEv"
   },
   "source": [
    "## **Funciones auxiliares**"
   ]
  },
  {
   "cell_type": "code",
   "execution_count": 4,
   "metadata": {
    "id": "yNNx13G5AAvB"
   },
   "outputs": [
    {
     "name": "stderr",
     "output_type": "stream",
     "text": [
      "2025-01-11 13:44:48.647879: I tensorflow/core/util/port.cc:153] oneDNN custom operations are on. You may see slightly different numerical results due to floating-point round-off errors from different computation orders. To turn them off, set the environment variable `TF_ENABLE_ONEDNN_OPTS=0`.\n",
      "2025-01-11 13:44:48.655403: E external/local_xla/xla/stream_executor/cuda/cuda_fft.cc:477] Unable to register cuFFT factory: Attempting to register factory for plugin cuFFT when one has already been registered\n",
      "WARNING: All log messages before absl::InitializeLog() is called are written to STDERR\n",
      "E0000 00:00:1736599488.663374   24656 cuda_dnn.cc:8310] Unable to register cuDNN factory: Attempting to register factory for plugin cuDNN when one has already been registered\n",
      "E0000 00:00:1736599488.665756   24656 cuda_blas.cc:1418] Unable to register cuBLAS factory: Attempting to register factory for plugin cuBLAS when one has already been registered\n",
      "2025-01-11 13:44:48.674418: I tensorflow/core/platform/cpu_feature_guard.cc:210] This TensorFlow binary is optimized to use available CPU instructions in performance-critical operations.\n",
      "To enable the following instructions: AVX2 AVX_VNNI FMA, in other operations, rebuild TensorFlow with the appropriate compiler flags.\n"
     ]
    }
   ],
   "source": [
    "from IPython.display import SVG\n",
    "from keras.utils import model_to_dot\n",
    "\n",
    "def display_model(model):\n",
    "    if COLAB:\n",
    "        display(SVG(model_to_dot(model, show_shapes=True,dpi=72).create(prog='dot', format='svg')))\n",
    "    else:\n",
    "        display(SVG(model_to_dot(model, show_shapes=True).create(prog='dot', format='svg')))"
   ]
  },
  {
   "cell_type": "code",
   "execution_count": 5,
   "metadata": {
    "id": "Dr7-texQAx0a"
   },
   "outputs": [],
   "source": [
    "from matplotlib.ticker import MaxNLocator\n",
    "\n",
    "def grafica_entrenamiento(tr_acc, val_acc, tr_loss, val_loss,\n",
    "                          figsize=(10,4)):\n",
    "    best_i = np.argmax(val_acc)\n",
    "    plt.figure(figsize=figsize)\n",
    "    ax = plt.subplot(1,2,1)\n",
    "    plt.plot(1+np.arange(len(tr_acc)),  100*np.array(tr_acc))\n",
    "    plt.plot(1+np.arange(len(val_acc)), 100*np.array(val_acc))\n",
    "    plt.plot(1+best_i, 100*val_acc[best_i], 'or')\n",
    "    plt.title('tasa de acierto del modelo (%)', fontsize=18)\n",
    "    plt.ylabel('tasa de acierto (%)', fontsize=18)\n",
    "    plt.xlabel('época', fontsize=18)\n",
    "    plt.legend(['entrenamiento', 'validación'], loc='upper left')\n",
    "    ax.xaxis.set_major_locator(MaxNLocator(integer=True))\n",
    "\n",
    "    plt.subplot(1,2,2)\n",
    "    plt.plot(1+np.arange(len(tr_acc)), np.array(tr_loss))\n",
    "    plt.plot(1+np.arange(len(val_acc)), np.array(val_loss))\n",
    "    plt.plot(1+best_i, val_loss[best_i], 'or')\n",
    "    plt.title('loss del modelo', fontsize=18)\n",
    "    plt.ylabel('loss', fontsize=18)\n",
    "    plt.xlabel('época', fontsize=18)\n",
    "    plt.legend(['entrenamiento', 'validación'], loc='upper left')\n",
    "    ax.xaxis.set_major_locator(MaxNLocator(integer=True))\n",
    "    plt.show()"
   ]
  },
  {
   "cell_type": "code",
   "execution_count": 6,
   "metadata": {
    "colab": {
     "base_uri": "https://localhost:8080/"
    },
    "executionInfo": {
     "elapsed": 3,
     "status": "ok",
     "timestamp": 1734023662752,
     "user": {
      "displayName": "SMI",
      "userId": "03894129457800149408"
     },
     "user_tz": -60
    },
    "id": "tADEGzcEZmGK",
    "outputId": "7f5fc4ec-b2b6-485f-8a07-70145eb61635"
   },
   "outputs": [
    {
     "name": "stdout",
     "output_type": "stream",
     "text": [
      "total 822520\n",
      "drwxrwxr-x  6 tomas tomas      4096 Jan 11 13:44 .\n",
      "drwxrwxr-x 10 tomas tomas      4096 Jan 11 12:57 ..\n",
      "-rw-rw-r--  1 tomas tomas    100057 Jan 11 13:22 best_model.keras\n",
      "-rw-r--r--  1 tomas tomas      3247 Jan 11 13:18 caras_aux.py\n",
      "-rw-rw-r--  1 tomas tomas      1859 Jan 11 13:18 caras_aux.py.zip\n",
      "-rw-rw-r--  1 tomas tomas    463258 Dec 23 14:52 color-base.ipynb\n",
      "-rw-rw-r--  1 tomas tomas   4625014 Jan 10 13:39 color-cnn.ipynb\n",
      "-rw-rw-r--  1 tomas tomas     34272 Jan 10 01:21 color-cnntl.ipynb\n",
      "-rw-r--r--  1 tomas tomas      3237 Jan 11 13:18 funciones_auxiliares.py\n",
      "-rw-rw-r--  1 tomas tomas      1788 Jan 11 13:18 funciones_auxiliares.py.zip\n",
      "drwxr-xr-x  4 tomas tomas      4096 Nov 11  2019 gender_color\n",
      "-rw-rw-r--  1 tomas tomas  41914348 Mar 11  2022 gender_color.zip\n",
      "-rw-rw-r--  1 tomas tomas    436644 Jan 11 13:44 gris-base.ipynb\n",
      "drwxrwxr-x  2 tomas tomas      4096 Jan 11 12:45 .ipynb_checkpoints\n",
      "-rw-r--r--  1 tomas tomas 768237568 Jan 11 13:44 .jupyter_ystore.db\n",
      "drwxrwxr-x  3 tomas tomas      4096 Jan 11 13:18 __MACOSX\n",
      "-rw-rw-r--  1 tomas tomas    449775 Jan 10 00:27 N1E08_color.keras\n",
      "-rw-rw-r--  1 tomas tomas    449775 Jan 10 00:26 N1E08_gray.keras\n",
      "-rw-rw-r--  1 tomas tomas    462578 Jan 11 13:41 N1E08.ipynb\n",
      "-rw-rw-r--  1 tomas tomas  12381468 Jan 11 00:51 N2E08.ipynb\n",
      "-rw-rw-r--  1 tomas tomas    100057 Jan 10 22:49 N2E08.keras\n",
      "-rw-rw-r--  1 tomas tomas  12394916 Jan 11 13:33 N3E08.ipynb\n",
      "-rw-rw-r--  1 tomas tomas     99761 Jan 11 13:32 N3E08.keras\n",
      "-rw-rw-r--  1 tomas tomas     37768 Dec 23 14:57 p4.pdf\n",
      "drwxrwxr-x  2 tomas tomas      4096 Jan 11 13:18 __pycache__\n"
     ]
    }
   ],
   "source": [
    "!ls -la"
   ]
  },
  {
   "cell_type": "markdown",
   "metadata": {
    "id": "YBvFmi-b95yl"
   },
   "source": [
    "## **Exploración de datos**"
   ]
  },
  {
   "cell_type": "code",
   "execution_count": 9,
   "metadata": {
    "colab": {
     "base_uri": "https://localhost:8080/",
     "height": 1000
    },
    "executionInfo": {
     "elapsed": 6008,
     "status": "ok",
     "timestamp": 1734024356794,
     "user": {
      "displayName": "SMI",
      "userId": "03894129457800149408"
     },
     "user_tz": -60
    },
    "id": "Iipgw5m3Ts61",
    "outputId": "ae710c35-4501-434d-9ea0-26f8ab8fd075"
   },
   "outputs": [
    {
     "name": "stdout",
     "output_type": "stream",
     "text": [
      "\n",
      "Estadísticas básicas de la base de datos leída:\n",
      "  # clases: 2\n",
      "  # patrones: 2000\n",
      "  # atributos (features): 625\n",
      "\n",
      "Algunas imágenes de la clase \"female\":\n"
     ]
    },
    {
     "data": {
      "image/png": "[encoded data removed]",
      "text/plain": [
       "<Figure size 720x720 with 12 Axes>"
      ]
     },
     "metadata": {},
     "output_type": "display_data"
    },
    {
     "name": "stdout",
     "output_type": "stream",
     "text": [
      "\n",
      "Algunas imágenes de la clase \"male\":\n"
     ]
    },
    {
     "data": {
      "image/png": "[encoded data removed]",
      "text/plain": [
       "<Figure size 720x720 with 12 Axes>"
      ]
     },
     "metadata": {},
     "output_type": "display_data"
    },
    {
     "data": {
      "text/plain": [
       "(3, 4)"
      ]
     },
     "execution_count": 9,
     "metadata": {},
     "output_type": "execute_result"
    }
   ],
   "source": [
    "from caras_aux import loadImages, plot_gallery\n",
    "\n",
    "# cargo las imágenes y preparo los datos que se van a usar\n",
    "factor = 0.1 # factor de resolución de las imágenes, debe ser\n",
    "           # >0 y <=1 (en cuyo caso la resolución es la original, 250x250)\n",
    "X_clase0, height, width = loadImages('./gender/female',\n",
    "                                     factor=factor, nimages=1000)\n",
    "X_clase1, height, width = loadImages('./gender/male',\n",
    "                                     factor=factor, nimages=1000)\n",
    "X = np.concatenate((X_clase0, X_clase1))\n",
    "n_samples, n_features = X.shape\n",
    "\n",
    "target_names = np.array(['female', 'male'])\n",
    "n_classes = len(target_names)\n",
    "N0 = len(X_clase0); N1 = len(X_clase1)\n",
    "y = N0*[0] + N1*[1]\n",
    "y = np.array(y)\n",
    "\n",
    "print('\\nEstadísticas básicas de la base de datos leída:')\n",
    "print('  # clases: %d' % n_classes)\n",
    "print('  # patrones: %d' % n_samples)\n",
    "print('  # atributos (features): %d' % n_features)\n",
    "\n",
    "print('\\nAlgunas imágenes de la clase \"female\":')\n",
    "plot_gallery(X_clase0[:12].reshape((12, height, width)),\n",
    "             12*['female'], cmap=plt.cm.gray)\n",
    "print('\\nAlgunas imágenes de la clase \"male\":')\n",
    "plot_gallery(X_clase1[:12].reshape((12, height, width)),\n",
    "             12*['male'], cmap=plt.cm.gray)"
   ]
  },
  {
   "cell_type": "code",
   "execution_count": 10,
   "metadata": {
    "colab": {
     "base_uri": "https://localhost:8080/"
    },
    "executionInfo": {
     "elapsed": 18,
     "status": "ok",
     "timestamp": 1734024356795,
     "user": {
      "displayName": "SMI",
      "userId": "03894129457800149408"
     },
     "user_tz": -60
    },
    "id": "LxvTBF-uTs63",
    "outputId": "8326d506-95b9-4ffa-e0dc-f3918ef5d6ec"
   },
   "outputs": [
    {
     "name": "stdout",
     "output_type": "stream",
     "text": [
      "(2000, 625)\n",
      "(2000,)\n",
      "[[ 94. 110. 127. ...  95. 163. 162.]\n",
      " [  0.   0.   0. ...  51.  29.   0.]\n",
      " [ 10.   9.  10. ...   3.   5.   4.]\n",
      " ...\n",
      " [ 18.  21.  18. ...  22.  65. 176.]\n",
      " [  0.   0.   0. ...  37.  23.  14.]\n",
      " [  2.  20.  24. ... 142. 150. 113.]]\n"
     ]
    }
   ],
   "source": [
    "print(np.shape(X)); print(np.shape(y)); print(X)"
   ]
  },
  {
   "cell_type": "code",
   "execution_count": 11,
   "metadata": {
    "colab": {
     "base_uri": "https://localhost:8080/"
    },
    "executionInfo": {
     "elapsed": 14,
     "status": "ok",
     "timestamp": 1734024356795,
     "user": {
      "displayName": "SMI",
      "userId": "03894129457800149408"
     },
     "user_tz": -60
    },
    "id": "CruEpDAQTs66",
    "outputId": "56d47757-be03-416e-e852-56e7eca21f89"
   },
   "outputs": [
    {
     "data": {
      "text/plain": [
       "(np.float64(0.0), np.float64(255.0))"
      ]
     },
     "execution_count": 11,
     "metadata": {},
     "output_type": "execute_result"
    }
   ],
   "source": [
    "X.min(), X.max()"
   ]
  },
  {
   "cell_type": "markdown",
   "metadata": {
    "id": "z7itkI3O-C_7"
   },
   "source": [
    "### Normalización de datos"
   ]
  },
  {
   "cell_type": "code",
   "execution_count": 12,
   "metadata": {
    "executionInfo": {
     "elapsed": 12,
     "status": "ok",
     "timestamp": 1734024356795,
     "user": {
      "displayName": "SMI",
      "userId": "03894129457800149408"
     },
     "user_tz": -60
    },
    "id": "iwSI3OIOTs66"
   },
   "outputs": [],
   "source": [
    "X /= 255 #  equivalente a: X = X / 255"
   ]
  },
  {
   "cell_type": "code",
   "execution_count": 13,
   "metadata": {
    "colab": {
     "base_uri": "https://localhost:8080/"
    },
    "executionInfo": {
     "elapsed": 12,
     "status": "ok",
     "timestamp": 1734024356795,
     "user": {
      "displayName": "SMI",
      "userId": "03894129457800149408"
     },
     "user_tz": -60
    },
    "id": "pFYI1cLK9zsD",
    "outputId": "f9f7d29d-1e0f-43ed-9caf-fe1e105e3969"
   },
   "outputs": [
    {
     "data": {
      "text/plain": [
       "(np.float64(0.0), np.float64(1.0))"
      ]
     },
     "execution_count": 13,
     "metadata": {},
     "output_type": "execute_result"
    }
   ],
   "source": [
    "X.min(), X.max()"
   ]
  },
  {
   "cell_type": "markdown",
   "metadata": {
    "id": "ajmFLEwt-JJC"
   },
   "source": [
    "Ahora seguimos entendiendo la estructura de los datos:"
   ]
  },
  {
   "cell_type": "code",
   "execution_count": 14,
   "metadata": {
    "colab": {
     "base_uri": "https://localhost:8080/"
    },
    "executionInfo": {
     "elapsed": 11,
     "status": "ok",
     "timestamp": 1734024356795,
     "user": {
      "displayName": "SMI",
      "userId": "03894129457800149408"
     },
     "user_tz": -60
    },
    "id": "pg66I6o6Ts69",
    "outputId": "5525a1fc-5c26-42ac-c9eb-7a5081112d2f"
   },
   "outputs": [
    {
     "data": {
      "text/plain": [
       "(2000,)"
      ]
     },
     "execution_count": 14,
     "metadata": {},
     "output_type": "execute_result"
    }
   ],
   "source": [
    "y.shape"
   ]
  },
  {
   "cell_type": "code",
   "execution_count": 15,
   "metadata": {
    "colab": {
     "base_uri": "https://localhost:8080/"
    },
    "executionInfo": {
     "elapsed": 10,
     "status": "ok",
     "timestamp": 1734024356795,
     "user": {
      "displayName": "SMI",
      "userId": "03894129457800149408"
     },
     "user_tz": -60
    },
    "id": "7tK2y7d2Ts67",
    "outputId": "2c1f7656-cc7c-4251-f30e-010d5e2fcd0f"
   },
   "outputs": [
    {
     "data": {
      "text/plain": [
       "array([0, 1])"
      ]
     },
     "execution_count": 15,
     "metadata": {},
     "output_type": "execute_result"
    }
   ],
   "source": [
    "np.unique(y)"
   ]
  },
  {
   "cell_type": "code",
   "execution_count": 16,
   "metadata": {
    "colab": {
     "base_uri": "https://localhost:8080/"
    },
    "executionInfo": {
     "elapsed": 9,
     "status": "ok",
     "timestamp": 1734024356795,
     "user": {
      "displayName": "SMI",
      "userId": "03894129457800149408"
     },
     "user_tz": -60
    },
    "id": "KaiqubBgTs68",
    "outputId": "05ecc9ab-d64c-4a9f-abc0-5ffe3c3d2c84"
   },
   "outputs": [
    {
     "data": {
      "text/plain": [
       "(2000, 625)"
      ]
     },
     "execution_count": 16,
     "metadata": {},
     "output_type": "execute_result"
    }
   ],
   "source": [
    "X.shape"
   ]
  },
  {
   "cell_type": "code",
   "execution_count": 17,
   "metadata": {
    "colab": {
     "base_uri": "https://localhost:8080/"
    },
    "executionInfo": {
     "elapsed": 8,
     "status": "ok",
     "timestamp": 1734024356795,
     "user": {
      "displayName": "SMI",
      "userId": "03894129457800149408"
     },
     "user_tz": -60
    },
    "id": "XtoKeicZ9_No",
    "outputId": "b31429c0-1334-43ca-b167-ed03210176c3"
   },
   "outputs": [
    {
     "data": {
      "text/plain": [
       "np.float64(25.0)"
      ]
     },
     "execution_count": 17,
     "metadata": {},
     "output_type": "execute_result"
    }
   ],
   "source": [
    "np.sqrt(X.shape[1]) # lado de la imagen"
   ]
  },
  {
   "cell_type": "markdown",
   "metadata": {
    "id": "WX1W4FSX-W7f"
   },
   "source": [
    "### **Partición training-test**"
   ]
  },
  {
   "cell_type": "code",
   "execution_count": 18,
   "metadata": {
    "executionInfo": {
     "elapsed": 8,
     "status": "ok",
     "timestamp": 1734024356795,
     "user": {
      "displayName": "SMI",
      "userId": "03894129457800149408"
     },
     "user_tz": -60
    },
    "id": "fRbnuKbCTs7B"
   },
   "outputs": [],
   "source": [
    "from sklearn.model_selection import train_test_split\n",
    "\n",
    "# divido en conjuntos de training y test\n",
    "X_train, X_test, y_train, y_test = train_test_split(X, y,\n",
    "                                                    test_size=200,\n",
    "                                                    random_state=42,\n",
    "                                                    stratify=y)\n",
    "\n",
    "# Stratify lo que hace es:\n",
    "# 1. Separa los conjuntos por clase (conjunto 0: clase 0, conjunto 1: clase 1)\n",
    "# 3. Separa cada uno de esos conjuntos en training y test:\n",
    "#    - Conjunto0_train\n",
    "#    - Conjunto0_test\n",
    "#    - Conjunto1_train\n",
    "#    - Conjunto1_test\n",
    "#\n",
    "# 4. Los fusiona:\n",
    "#    - training = Conjunto0_train + Conjunto1_train\n",
    "#    - test     = Conjunto0_test  + Conjunto1_test"
   ]
  },
  {
   "cell_type": "code",
   "execution_count": 19,
   "metadata": {
    "colab": {
     "base_uri": "https://localhost:8080/"
    },
    "executionInfo": {
     "elapsed": 7,
     "status": "ok",
     "timestamp": 1734024356795,
     "user": {
      "displayName": "SMI",
      "userId": "03894129457800149408"
     },
     "user_tz": -60
    },
    "id": "wzxEYhvyIuKb",
    "outputId": "12d269c5-90b2-442f-b2d3-f05afad446f1"
   },
   "outputs": [
    {
     "data": {
      "text/plain": [
       "np.float64(0.5)"
      ]
     },
     "execution_count": 19,
     "metadata": {},
     "output_type": "execute_result"
    }
   ],
   "source": [
    "# probabilidad de clase \"male\" en dataset total:\n",
    "(y==1).mean()"
   ]
  },
  {
   "cell_type": "code",
   "execution_count": 20,
   "metadata": {
    "colab": {
     "base_uri": "https://localhost:8080/"
    },
    "executionInfo": {
     "elapsed": 6,
     "status": "ok",
     "timestamp": 1734024356795,
     "user": {
      "displayName": "SMI",
      "userId": "03894129457800149408"
     },
     "user_tz": -60
    },
    "id": "0wiHIagvI1-Z",
    "outputId": "25a2060c-5798-4fa7-9644-8501ef55c30c"
   },
   "outputs": [
    {
     "name": "stdout",
     "output_type": "stream",
     "text": [
      "0.5 0.5\n"
     ]
    }
   ],
   "source": [
    "# probabilidad de clase \"male\" en training y en test:\n",
    "print((y_train==1).mean(), (y_test==1).mean())"
   ]
  },
  {
   "cell_type": "markdown",
   "metadata": {
    "id": "V7x7lmPu_13b"
   },
   "source": [
    "Parto el conjunto de training en tr (training final) y validación:"
   ]
  },
  {
   "cell_type": "code",
   "execution_count": 21,
   "metadata": {
    "executionInfo": {
     "elapsed": 6,
     "status": "ok",
     "timestamp": 1734024356795,
     "user": {
      "displayName": "SMI",
      "userId": "03894129457800149408"
     },
     "user_tz": -60
    },
    "id": "IAkZ9C98AAyN"
   },
   "outputs": [],
   "source": [
    "X_tr, X_val, y_tr, y_val = train_test_split(X_train, y_train,\n",
    "                                            test_size=0.3,\n",
    "                                            random_state=1,\n",
    "                                            stratify=y_train)"
   ]
  },
  {
   "cell_type": "markdown",
   "metadata": {
    "id": "EriTLVRF_9en"
   },
   "source": [
    "Finalmente tengo los siguientes conjuntos:\n",
    "\n",
    "- **X_tr:** conjunto con el que entreno la red\n",
    "- **X_val:** conjunto con el que monitorizo la red mientras se entrena\n",
    "- **X_test:** conjunto de test final"
   ]
  },
  {
   "cell_type": "markdown",
   "metadata": {
    "id": "x1yEDmkBALut"
   },
   "source": [
    " Chequeo de las dimensiones de estos conjuntos:"
   ]
  },
  {
   "cell_type": "code",
   "execution_count": 22,
   "metadata": {
    "colab": {
     "base_uri": "https://localhost:8080/"
    },
    "executionInfo": {
     "elapsed": 5,
     "status": "ok",
     "timestamp": 1734024356795,
     "user": {
      "displayName": "SMI",
      "userId": "03894129457800149408"
     },
     "user_tz": -60
    },
    "id": "RclS47GDAxwp",
    "outputId": "c6ce4cf4-cb8d-49c5-fa35-a9e839572c1a"
   },
   "outputs": [
    {
     "data": {
      "text/plain": [
       "((1260, 625), (1260,), (540, 625), (540,), (200, 625), (200,))"
      ]
     },
     "execution_count": 22,
     "metadata": {},
     "output_type": "execute_result"
    }
   ],
   "source": [
    "X_tr.shape, y_tr.shape, X_val.shape, y_val.shape, X_test.shape, y_test.shape"
   ]
  },
  {
   "cell_type": "markdown",
   "metadata": {
    "id": "Pv3HIx1zAPED"
   },
   "source": [
    "Parece que están bien:\n",
    "\n",
    "- La primera dimensión de X_tr e y_tr es igual\n",
    "- La primera de X_val e y_val también\n",
    "- La primera de X_test e y_test también\n",
    "- La segunda dimensión de X_tr, X_val, X_test es 5625 (número total de píxels)"
   ]
  },
  {
   "cell_type": "markdown",
   "metadata": {
    "id": "Gwly3Tbo-Zpb"
   },
   "source": [
    "### **Estadísticas de las clases**"
   ]
  },
  {
   "cell_type": "code",
   "execution_count": 23,
   "metadata": {
    "colab": {
     "base_uri": "https://localhost:8080/",
     "height": 454
    },
    "executionInfo": {
     "elapsed": 804,
     "status": "ok",
     "timestamp": 1734024357594,
     "user": {
      "displayName": "SMI",
      "userId": "03894129457800149408"
     },
     "user_tz": -60
    },
    "id": "C1FmoRuvTs7C",
    "outputId": "90ad754c-d75e-4872-f364-1ad6bf232d5d"
   },
   "outputs": [
    {
     "data": {
      "image/png": "[encoded data removed]",
      "text/plain": [
       "<Figure size 1200x300 with 3 Axes>"
      ]
     },
     "metadata": {},
     "output_type": "display_data"
    },
    {
     "name": "stdout",
     "output_type": "stream",
     "text": [
      "- Priori de la clase 0 en training: 0.500\n",
      "- Priori de la clase 1 en training: 0.500\n",
      "- Clase mayoritaria en training: 0\n",
      "\n",
      "- Priori de la clase 0 en test: 0.500\n",
      "- Priori de la clase 1 en test: 0.500\n",
      "- Score de la clasificacion por mayoria en test: 0.500\n"
     ]
    }
   ],
   "source": [
    "from caras_aux import report_base_error\n",
    "\n",
    "plt.figure(figsize=(12,3))\n",
    "ax = plt.subplot(1,3,1)\n",
    "clases, counts = np.unique(y_tr, return_counts=True)\n",
    "plt.bar(clases, 100*counts/len(y_tr), color=[\"blue\", \"orange\"])\n",
    "plt.title('Training'); plt.xlabel('Clase'); plt.ylabel('Frequency (%)'); ax.set_xticks(clases)\n",
    "\n",
    "ax = plt.subplot(1,3,2)\n",
    "clases, counts = np.unique(y_val, return_counts=True)\n",
    "plt.bar(clases, 100*counts/len(y_val), color=[\"blue\", \"orange\"])\n",
    "plt.title('Validación'); plt.xlabel('Clase'); plt.ylabel('Frequency (%)'); ax.set_xticks(clases)\n",
    "\n",
    "ax = plt.subplot(1,3,3)\n",
    "none, counts = np.unique(y_test, return_counts=True)\n",
    "plt.bar(clases, 100*counts/len(y_test), color=[\"blue\", \"orange\"])\n",
    "plt.title('Test'); plt.xlabel('Clase'); ax.set_xticks(clases); plt.show()\n",
    "\n",
    "report_base_error(X_tr, y_tr, X_test, y_test)"
   ]
  },
  {
   "cell_type": "markdown",
   "metadata": {
    "id": "Ccyg4MnzBLaL"
   },
   "source": [
    "## **Modelo de referencia**"
   ]
  },
  {
   "cell_type": "code",
   "execution_count": 24,
   "metadata": {
    "colab": {
     "base_uri": "https://localhost:8080/",
     "height": 80
    },
    "executionInfo": {
     "elapsed": 11,
     "status": "ok",
     "timestamp": 1734024357594,
     "user": {
      "displayName": "SMI",
      "userId": "03894129457800149408"
     },
     "user_tz": -60
    },
    "id": "bQkVCU5QXBzg",
    "outputId": "4204232f-92df-4674-cb9e-4609d0211751"
   },
   "outputs": [
    {
     "data": {
      "text/html": [
       "<style>#sk-container-id-1 {\n",
       "  /* Definition of color scheme common for light and dark mode */\n",
       "  --sklearn-color-text: black;\n",
       "  --sklearn-color-line: gray;\n",
       "  /* Definition of color scheme for unfitted estimators */\n",
       "  --sklearn-color-unfitted-level-0: #fff5e6;\n",
       "  --sklearn-color-unfitted-level-1: #f6e4d2;\n",
       "  --sklearn-color-unfitted-level-2: #ffe0b3;\n",
       "  --sklearn-color-unfitted-level-3: chocolate;\n",
       "  /* Definition of color scheme for fitted estimators */\n",
       "  --sklearn-color-fitted-level-0: #f0f8ff;\n",
       "  --sklearn-color-fitted-level-1: #d4ebff;\n",
       "  --sklearn-color-fitted-level-2: #b3dbfd;\n",
       "  --sklearn-color-fitted-level-3: cornflowerblue;\n",
       "\n",
       "  /* Specific color for light theme */\n",
       "  --sklearn-color-text-on-default-background: var(--sg-text-color, var(--theme-code-foreground, var(--jp-content-font-color1, black)));\n",
       "  --sklearn-color-background: var(--sg-background-color, var(--theme-background, var(--jp-layout-color0, white)));\n",
       "  --sklearn-color-border-box: var(--sg-text-color, var(--theme-code-foreground, var(--jp-content-font-color1, black)));\n",
       "  --sklearn-color-icon: #696969;\n",
       "\n",
       "  @media (prefers-color-scheme: dark) {\n",
       "    /* Redefinition of color scheme for dark theme */\n",
       "    --sklearn-color-text-on-default-background: var(--sg-text-color, var(--theme-code-foreground, var(--jp-content-font-color1, white)));\n",
       "    --sklearn-color-background: var(--sg-background-color, var(--theme-background, var(--jp-layout-color0, #111)));\n",
       "    --sklearn-color-border-box: var(--sg-text-color, var(--theme-code-foreground, var(--jp-content-font-color1, white)));\n",
       "    --sklearn-color-icon: #878787;\n",
       "  }\n",
       "}\n",
       "\n",
       "#sk-container-id-1 {\n",
       "  color: var(--sklearn-color-text);\n",
       "}\n",
       "\n",
       "#sk-container-id-1 pre {\n",
       "  padding: 0;\n",
       "}\n",
       "\n",
       "#sk-container-id-1 input.sk-hidden--visually {\n",
       "  border: 0;\n",
       "  clip: rect(1px 1px 1px 1px);\n",
       "  clip: rect(1px, 1px, 1px, 1px);\n",
       "  height: 1px;\n",
       "  margin: -1px;\n",
       "  overflow: hidden;\n",
       "  padding: 0;\n",
       "  position: absolute;\n",
       "  width: 1px;\n",
       "}\n",
       "\n",
       "#sk-container-id-1 div.sk-dashed-wrapped {\n",
       "  border: 1px dashed var(--sklearn-color-line);\n",
       "  margin: 0 0.4em 0.5em 0.4em;\n",
       "  box-sizing: border-box;\n",
       "  padding-bottom: 0.4em;\n",
       "  background-color: var(--sklearn-color-background);\n",
       "}\n",
       "\n",
       "#sk-container-id-1 div.sk-container {\n",
       "  /* jupyter's `normalize.less` sets `[hidden] { display: none; }`\n",
       "     but bootstrap.min.css set `[hidden] { display: none !important; }`\n",
       "     so we also need the `!important` here to be able to override the\n",
       "     default hidden behavior on the sphinx rendered scikit-learn.org.\n",
       "     See: https://github.com/scikit-learn/scikit-learn/issues/21755 */\n",
       "  display: inline-block !important;\n",
       "  position: relative;\n",
       "}\n",
       "\n",
       "#sk-container-id-1 div.sk-text-repr-fallback {\n",
       "  display: none;\n",
       "}\n",
       "\n",
       "div.sk-parallel-item,\n",
       "div.sk-serial,\n",
       "div.sk-item {\n",
       "  /* draw centered vertical line to link estimators */\n",
       "  background-image: linear-gradient(var(--sklearn-color-text-on-default-background), var(--sklearn-color-text-on-default-background));\n",
       "  background-size: 2px 100%;\n",
       "  background-repeat: no-repeat;\n",
       "  background-position: center center;\n",
       "}\n",
       "\n",
       "/* Parallel-specific style estimator block */\n",
       "\n",
       "#sk-container-id-1 div.sk-parallel-item::after {\n",
       "  content: \"\";\n",
       "  width: 100%;\n",
       "  border-bottom: 2px solid var(--sklearn-color-text-on-default-background);\n",
       "  flex-grow: 1;\n",
       "}\n",
       "\n",
       "#sk-container-id-1 div.sk-parallel {\n",
       "  display: flex;\n",
       "  align-items: stretch;\n",
       "  justify-content: center;\n",
       "  background-color: var(--sklearn-color-background);\n",
       "  position: relative;\n",
       "}\n",
       "\n",
       "#sk-container-id-1 div.sk-parallel-item {\n",
       "  display: flex;\n",
       "  flex-direction: column;\n",
       "}\n",
       "\n",
       "#sk-container-id-1 div.sk-parallel-item:first-child::after {\n",
       "  align-self: flex-end;\n",
       "  width: 50%;\n",
       "}\n",
       "\n",
       "#sk-container-id-1 div.sk-parallel-item:last-child::after {\n",
       "  align-self: flex-start;\n",
       "  width: 50%;\n",
       "}\n",
       "\n",
       "#sk-container-id-1 div.sk-parallel-item:only-child::after {\n",
       "  width: 0;\n",
       "}\n",
       "\n",
       "/* Serial-specific style estimator block */\n",
       "\n",
       "#sk-container-id-1 div.sk-serial {\n",
       "  display: flex;\n",
       "  flex-direction: column;\n",
       "  align-items: center;\n",
       "  background-color: var(--sklearn-color-background);\n",
       "  padding-right: 1em;\n",
       "  padding-left: 1em;\n",
       "}\n",
       "\n",
       "\n",
       "/* Toggleable style: style used for estimator/Pipeline/ColumnTransformer box that is\n",
       "clickable and can be expanded/collapsed.\n",
       "- Pipeline and ColumnTransformer use this feature and define the default style\n",
       "- Estimators will overwrite some part of the style using the `sk-estimator` class\n",
       "*/\n",
       "\n",
       "/* Pipeline and ColumnTransformer style (default) */\n",
       "\n",
       "#sk-container-id-1 div.sk-toggleable {\n",
       "  /* Default theme specific background. It is overwritten whether we have a\n",
       "  specific estimator or a Pipeline/ColumnTransformer */\n",
       "  background-color: var(--sklearn-color-background);\n",
       "}\n",
       "\n",
       "/* Toggleable label */\n",
       "#sk-container-id-1 label.sk-toggleable__label {\n",
       "  cursor: pointer;\n",
       "  display: block;\n",
       "  width: 100%;\n",
       "  margin-bottom: 0;\n",
       "  padding: 0.5em;\n",
       "  box-sizing: border-box;\n",
       "  text-align: center;\n",
       "}\n",
       "\n",
       "#sk-container-id-1 label.sk-toggleable__label-arrow:before {\n",
       "  /* Arrow on the left of the label */\n",
       "  content: \"▸\";\n",
       "  float: left;\n",
       "  margin-right: 0.25em;\n",
       "  color: var(--sklearn-color-icon);\n",
       "}\n",
       "\n",
       "#sk-container-id-1 label.sk-toggleable__label-arrow:hover:before {\n",
       "  color: var(--sklearn-color-text);\n",
       "}\n",
       "\n",
       "/* Toggleable content - dropdown */\n",
       "\n",
       "#sk-container-id-1 div.sk-toggleable__content {\n",
       "  max-height: 0;\n",
       "  max-width: 0;\n",
       "  overflow: hidden;\n",
       "  text-align: left;\n",
       "  /* unfitted */\n",
       "  background-color: var(--sklearn-color-unfitted-level-0);\n",
       "}\n",
       "\n",
       "#sk-container-id-1 div.sk-toggleable__content.fitted {\n",
       "  /* fitted */\n",
       "  background-color: var(--sklearn-color-fitted-level-0);\n",
       "}\n",
       "\n",
       "#sk-container-id-1 div.sk-toggleable__content pre {\n",
       "  margin: 0.2em;\n",
       "  border-radius: 0.25em;\n",
       "  color: var(--sklearn-color-text);\n",
       "  /* unfitted */\n",
       "  background-color: var(--sklearn-color-unfitted-level-0);\n",
       "}\n",
       "\n",
       "#sk-container-id-1 div.sk-toggleable__content.fitted pre {\n",
       "  /* unfitted */\n",
       "  background-color: var(--sklearn-color-fitted-level-0);\n",
       "}\n",
       "\n",
       "#sk-container-id-1 input.sk-toggleable__control:checked~div.sk-toggleable__content {\n",
       "  /* Expand drop-down */\n",
       "  max-height: 200px;\n",
       "  max-width: 100%;\n",
       "  overflow: auto;\n",
       "}\n",
       "\n",
       "#sk-container-id-1 input.sk-toggleable__control:checked~label.sk-toggleable__label-arrow:before {\n",
       "  content: \"▾\";\n",
       "}\n",
       "\n",
       "/* Pipeline/ColumnTransformer-specific style */\n",
       "\n",
       "#sk-container-id-1 div.sk-label input.sk-toggleable__control:checked~label.sk-toggleable__label {\n",
       "  color: var(--sklearn-color-text);\n",
       "  background-color: var(--sklearn-color-unfitted-level-2);\n",
       "}\n",
       "\n",
       "#sk-container-id-1 div.sk-label.fitted input.sk-toggleable__control:checked~label.sk-toggleable__label {\n",
       "  background-color: var(--sklearn-color-fitted-level-2);\n",
       "}\n",
       "\n",
       "/* Estimator-specific style */\n",
       "\n",
       "/* Colorize estimator box */\n",
       "#sk-container-id-1 div.sk-estimator input.sk-toggleable__control:checked~label.sk-toggleable__label {\n",
       "  /* unfitted */\n",
       "  background-color: var(--sklearn-color-unfitted-level-2);\n",
       "}\n",
       "\n",
       "#sk-container-id-1 div.sk-estimator.fitted input.sk-toggleable__control:checked~label.sk-toggleable__label {\n",
       "  /* fitted */\n",
       "  background-color: var(--sklearn-color-fitted-level-2);\n",
       "}\n",
       "\n",
       "#sk-container-id-1 div.sk-label label.sk-toggleable__label,\n",
       "#sk-container-id-1 div.sk-label label {\n",
       "  /* The background is the default theme color */\n",
       "  color: var(--sklearn-color-text-on-default-background);\n",
       "}\n",
       "\n",
       "/* On hover, darken the color of the background */\n",
       "#sk-container-id-1 div.sk-label:hover label.sk-toggleable__label {\n",
       "  color: var(--sklearn-color-text);\n",
       "  background-color: var(--sklearn-color-unfitted-level-2);\n",
       "}\n",
       "\n",
       "/* Label box, darken color on hover, fitted */\n",
       "#sk-container-id-1 div.sk-label.fitted:hover label.sk-toggleable__label.fitted {\n",
       "  color: var(--sklearn-color-text);\n",
       "  background-color: var(--sklearn-color-fitted-level-2);\n",
       "}\n",
       "\n",
       "/* Estimator label */\n",
       "\n",
       "#sk-container-id-1 div.sk-label label {\n",
       "  font-family: monospace;\n",
       "  font-weight: bold;\n",
       "  display: inline-block;\n",
       "  line-height: 1.2em;\n",
       "}\n",
       "\n",
       "#sk-container-id-1 div.sk-label-container {\n",
       "  text-align: center;\n",
       "}\n",
       "\n",
       "/* Estimator-specific */\n",
       "#sk-container-id-1 div.sk-estimator {\n",
       "  font-family: monospace;\n",
       "  border: 1px dotted var(--sklearn-color-border-box);\n",
       "  border-radius: 0.25em;\n",
       "  box-sizing: border-box;\n",
       "  margin-bottom: 0.5em;\n",
       "  /* unfitted */\n",
       "  background-color: var(--sklearn-color-unfitted-level-0);\n",
       "}\n",
       "\n",
       "#sk-container-id-1 div.sk-estimator.fitted {\n",
       "  /* fitted */\n",
       "  background-color: var(--sklearn-color-fitted-level-0);\n",
       "}\n",
       "\n",
       "/* on hover */\n",
       "#sk-container-id-1 div.sk-estimator:hover {\n",
       "  /* unfitted */\n",
       "  background-color: var(--sklearn-color-unfitted-level-2);\n",
       "}\n",
       "\n",
       "#sk-container-id-1 div.sk-estimator.fitted:hover {\n",
       "  /* fitted */\n",
       "  background-color: var(--sklearn-color-fitted-level-2);\n",
       "}\n",
       "\n",
       "/* Specification for estimator info (e.g. \"i\" and \"?\") */\n",
       "\n",
       "/* Common style for \"i\" and \"?\" */\n",
       "\n",
       ".sk-estimator-doc-link,\n",
       "a:link.sk-estimator-doc-link,\n",
       "a:visited.sk-estimator-doc-link {\n",
       "  float: right;\n",
       "  font-size: smaller;\n",
       "  line-height: 1em;\n",
       "  font-family: monospace;\n",
       "  background-color: var(--sklearn-color-background);\n",
       "  border-radius: 1em;\n",
       "  height: 1em;\n",
       "  width: 1em;\n",
       "  text-decoration: none !important;\n",
       "  margin-left: 1ex;\n",
       "  /* unfitted */\n",
       "  border: var(--sklearn-color-unfitted-level-1) 1pt solid;\n",
       "  color: var(--sklearn-color-unfitted-level-1);\n",
       "}\n",
       "\n",
       ".sk-estimator-doc-link.fitted,\n",
       "a:link.sk-estimator-doc-link.fitted,\n",
       "a:visited.sk-estimator-doc-link.fitted {\n",
       "  /* fitted */\n",
       "  border: var(--sklearn-color-fitted-level-1) 1pt solid;\n",
       "  color: var(--sklearn-color-fitted-level-1);\n",
       "}\n",
       "\n",
       "/* On hover */\n",
       "div.sk-estimator:hover .sk-estimator-doc-link:hover,\n",
       ".sk-estimator-doc-link:hover,\n",
       "div.sk-label-container:hover .sk-estimator-doc-link:hover,\n",
       ".sk-estimator-doc-link:hover {\n",
       "  /* unfitted */\n",
       "  background-color: var(--sklearn-color-unfitted-level-3);\n",
       "  color: var(--sklearn-color-background);\n",
       "  text-decoration: none;\n",
       "}\n",
       "\n",
       "div.sk-estimator.fitted:hover .sk-estimator-doc-link.fitted:hover,\n",
       ".sk-estimator-doc-link.fitted:hover,\n",
       "div.sk-label-container:hover .sk-estimator-doc-link.fitted:hover,\n",
       ".sk-estimator-doc-link.fitted:hover {\n",
       "  /* fitted */\n",
       "  background-color: var(--sklearn-color-fitted-level-3);\n",
       "  color: var(--sklearn-color-background);\n",
       "  text-decoration: none;\n",
       "}\n",
       "\n",
       "/* Span, style for the box shown on hovering the info icon */\n",
       ".sk-estimator-doc-link span {\n",
       "  display: none;\n",
       "  z-index: 9999;\n",
       "  position: relative;\n",
       "  font-weight: normal;\n",
       "  right: .2ex;\n",
       "  padding: .5ex;\n",
       "  margin: .5ex;\n",
       "  width: min-content;\n",
       "  min-width: 20ex;\n",
       "  max-width: 50ex;\n",
       "  color: var(--sklearn-color-text);\n",
       "  box-shadow: 2pt 2pt 4pt #999;\n",
       "  /* unfitted */\n",
       "  background: var(--sklearn-color-unfitted-level-0);\n",
       "  border: .5pt solid var(--sklearn-color-unfitted-level-3);\n",
       "}\n",
       "\n",
       ".sk-estimator-doc-link.fitted span {\n",
       "  /* fitted */\n",
       "  background: var(--sklearn-color-fitted-level-0);\n",
       "  border: var(--sklearn-color-fitted-level-3);\n",
       "}\n",
       "\n",
       ".sk-estimator-doc-link:hover span {\n",
       "  display: block;\n",
       "}\n",
       "\n",
       "/* \"?\"-specific style due to the `<a>` HTML tag */\n",
       "\n",
       "#sk-container-id-1 a.estimator_doc_link {\n",
       "  float: right;\n",
       "  font-size: 1rem;\n",
       "  line-height: 1em;\n",
       "  font-family: monospace;\n",
       "  background-color: var(--sklearn-color-background);\n",
       "  border-radius: 1rem;\n",
       "  height: 1rem;\n",
       "  width: 1rem;\n",
       "  text-decoration: none;\n",
       "  /* unfitted */\n",
       "  color: var(--sklearn-color-unfitted-level-1);\n",
       "  border: var(--sklearn-color-unfitted-level-1) 1pt solid;\n",
       "}\n",
       "\n",
       "#sk-container-id-1 a.estimator_doc_link.fitted {\n",
       "  /* fitted */\n",
       "  border: var(--sklearn-color-fitted-level-1) 1pt solid;\n",
       "  color: var(--sklearn-color-fitted-level-1);\n",
       "}\n",
       "\n",
       "/* On hover */\n",
       "#sk-container-id-1 a.estimator_doc_link:hover {\n",
       "  /* unfitted */\n",
       "  background-color: var(--sklearn-color-unfitted-level-3);\n",
       "  color: var(--sklearn-color-background);\n",
       "  text-decoration: none;\n",
       "}\n",
       "\n",
       "#sk-container-id-1 a.estimator_doc_link.fitted:hover {\n",
       "  /* fitted */\n",
       "  background-color: var(--sklearn-color-fitted-level-3);\n",
       "}\n",
       "</style><div id=\"sk-container-id-1\" class=\"sk-top-container\"><div class=\"sk-text-repr-fallback\"><pre>LogisticRegression(C=0.1, max_iter=1000)</pre><b>In a Jupyter environment, please rerun this cell to show the HTML representation or trust the notebook. <br />On GitHub, the HTML representation is unable to render, please try loading this page with nbviewer.org.</b></div><div class=\"sk-container\" hidden><div class=\"sk-item\"><div class=\"sk-estimator fitted sk-toggleable\"><input class=\"sk-toggleable__control sk-hidden--visually\" id=\"sk-estimator-id-1\" type=\"checkbox\" checked><label for=\"sk-estimator-id-1\" class=\"sk-toggleable__label fitted sk-toggleable__label-arrow fitted\">&nbsp;&nbsp;LogisticRegression<a class=\"sk-estimator-doc-link fitted\" rel=\"noreferrer\" target=\"_blank\" href=\"https://scikit-learn.org/1.5/modules/generated/sklearn.linear_model.LogisticRegression.html\">?<span>Documentation for LogisticRegression</span></a><span class=\"sk-estimator-doc-link fitted\">i<span>Fitted</span></span></label><div class=\"sk-toggleable__content fitted\"><pre>LogisticRegression(C=0.1, max_iter=1000)</pre></div> </div></div></div></div>"
      ],
      "text/plain": [
       "LogisticRegression(C=0.1, max_iter=1000)"
      ]
     },
     "execution_count": 24,
     "metadata": {},
     "output_type": "execute_result"
    }
   ],
   "source": [
    "# Regresión logística:\n",
    "\n",
    "from sklearn.linear_model import LogisticRegression\n",
    "model0 = LogisticRegression(max_iter=1000, C=0.1) # C: factor de regularización. Cuanto más bajo, más \"poda\" (al revés que en Keras)\n",
    "model0.fit(X_tr, y_tr)"
   ]
  },
  {
   "cell_type": "markdown",
   "metadata": {
    "id": "0aXhGojOGiSk"
   },
   "source": [
    "Scores en training, validación y test:"
   ]
  },
  {
   "cell_type": "code",
   "execution_count": 25,
   "metadata": {
    "colab": {
     "base_uri": "https://localhost:8080/"
    },
    "executionInfo": {
     "elapsed": 9,
     "status": "ok",
     "timestamp": 1734024357594,
     "user": {
      "displayName": "SMI",
      "userId": "03894129457800149408"
     },
     "user_tz": -60
    },
    "id": "EdiUCuZiGlFb",
    "outputId": "50e7f0d2-8351-4818-f661-714a3ab28ff3"
   },
   "outputs": [
    {
     "data": {
      "text/plain": [
       "(0.8388888888888889, 0.7092592592592593, 0.74)"
      ]
     },
     "execution_count": 25,
     "metadata": {},
     "output_type": "execute_result"
    }
   ],
   "source": [
    "model0.score(X_tr, y_tr), model0.score(X_val, y_val), model0.score(X_test, y_test)\n",
    "model0.score(X_tr, y_tr), model0.score(X_val, y_val), model0.score(X_test, y_test)"
   ]
  },
  {
   "cell_type": "code",
   "execution_count": 26,
   "metadata": {
    "colab": {
     "base_uri": "https://localhost:8080/"
    },
    "executionInfo": {
     "elapsed": 6,
     "status": "ok",
     "timestamp": 1734024357594,
     "user": {
      "displayName": "SMI",
      "userId": "03894129457800149408"
     },
     "user_tz": -60
    },
    "id": "9U_BCkVKFcOr",
    "outputId": "a1e84d40-3113-4149-abd0-b5bac7c1980b"
   },
   "outputs": [
    {
     "data": {
      "text/plain": [
       "array([[0.8427694 , 0.1572306 ],\n",
       "       [0.6375743 , 0.3624257 ],\n",
       "       [0.10221432, 0.89778568],\n",
       "       [0.50367547, 0.49632453],\n",
       "       [0.29887079, 0.70112921]])"
      ]
     },
     "execution_count": 26,
     "metadata": {},
     "output_type": "execute_result"
    }
   ],
   "source": [
    "probs_test = model0.predict_proba(X_test)\n",
    "probs_test[:5]"
   ]
  },
  {
   "cell_type": "code",
   "execution_count": 27,
   "metadata": {
    "executionInfo": {
     "elapsed": 6,
     "status": "ok",
     "timestamp": 1734024357595,
     "user": {
      "displayName": "SMI",
      "userId": "03894129457800149408"
     },
     "user_tz": -60
    },
    "id": "2pXYZAh0FjUm"
   },
   "outputs": [],
   "source": [
    "probs_test_male = probs_test[:,1] # segunda columna"
   ]
  },
  {
   "cell_type": "code",
   "execution_count": 28,
   "metadata": {
    "executionInfo": {
     "elapsed": 6,
     "status": "ok",
     "timestamp": 1734024357595,
     "user": {
      "displayName": "SMI",
      "userId": "03894129457800149408"
     },
     "user_tz": -60
    },
    "id": "MAhHIBk2Ts7I"
   },
   "outputs": [],
   "source": [
    "from funciones_auxiliares import analisis_roc, plot_confusion_matrix"
   ]
  },
  {
   "cell_type": "code",
   "execution_count": 29,
   "metadata": {
    "colab": {
     "base_uri": "https://localhost:8080/",
     "height": 480
    },
    "executionInfo": {
     "elapsed": 584,
     "status": "ok",
     "timestamp": 1734024358173,
     "user": {
      "displayName": "SMI",
      "userId": "03894129457800149408"
     },
     "user_tz": -60
    },
    "id": "MEtBFncUFVHt",
    "outputId": "d1b92950-ed8e-491f-e8bd-dd1db319914f"
   },
   "outputs": [
    {
     "data": {
      "image/png": "[encoded data removed]",
      "text/plain": [
       "<Figure size 640x480 with 1 Axes>"
      ]
     },
     "metadata": {},
     "output_type": "display_data"
    }
   ],
   "source": [
    "analisis_roc(y=y_test, positive_class_scores=probs_test_male, POSITIVE_CLASS=1)"
   ]
  },
  {
   "cell_type": "code",
   "execution_count": 30,
   "metadata": {
    "colab": {
     "base_uri": "https://localhost:8080/"
    },
    "executionInfo": {
     "elapsed": 7,
     "status": "ok",
     "timestamp": 1734024358173,
     "user": {
      "displayName": "SMI",
      "userId": "03894129457800149408"
     },
     "user_tz": -60
    },
    "id": "gnRU0mtaFxM0",
    "outputId": "800fce4b-52a9-4db8-f225-38e088a32b2a"
   },
   "outputs": [
    {
     "data": {
      "text/plain": [
       "array([0, 0, 1, 0, 1])"
      ]
     },
     "execution_count": 30,
     "metadata": {},
     "output_type": "execute_result"
    }
   ],
   "source": [
    "# clases predichas en test:\n",
    "\n",
    "predicciones_test = model0.predict(X_test)\n",
    "predicciones_test[:5]"
   ]
  },
  {
   "cell_type": "code",
   "execution_count": 31,
   "metadata": {
    "colab": {
     "base_uri": "https://localhost:8080/",
     "height": 539
    },
    "executionInfo": {
     "elapsed": 307,
     "status": "ok",
     "timestamp": 1734024358476,
     "user": {
      "displayName": "SMI",
      "userId": "03894129457800149408"
     },
     "user_tz": -60
    },
    "id": "71tJS5ARFt4U",
    "outputId": "4dbc790f-4a2f-41ac-d7ce-ad644cc462df"
   },
   "outputs": [
    {
     "name": "stdout",
     "output_type": "stream",
     "text": [
      "Confusion matrix, without normalization\n",
      "[[74 26]\n",
      " [26 74]]\n"
     ]
    },
    {
     "data": {
      "image/png": "[encoded data removed]",
      "text/plain": [
       "<Figure size 640x480 with 2 Axes>"
      ]
     },
     "metadata": {},
     "output_type": "display_data"
    }
   ],
   "source": [
    "plot_confusion_matrix(y=y_test, y_pred=predicciones_test)"
   ]
  },
  {
   "cell_type": "markdown",
   "metadata": {
    "id": "5DEL9nkdMh1r"
   },
   "source": [
    "## **Implementación en Keras de un modelo que clasifique una cara en gris en female / male**"
   ]
  },
  {
   "cell_type": "code",
   "execution_count": 32,
   "metadata": {
    "colab": {
     "base_uri": "https://localhost:8080/"
    },
    "executionInfo": {
     "elapsed": 10,
     "status": "ok",
     "timestamp": 1734024358476,
     "user": {
      "displayName": "SMI",
      "userId": "03894129457800149408"
     },
     "user_tz": -60
    },
    "id": "77XP4HfF_fEF",
    "outputId": "e5f00af6-07b3-4ae0-fa89-a46561eb130c"
   },
   "outputs": [
    {
     "data": {
      "text/plain": [
       "(2000, 625)"
      ]
     },
     "execution_count": 32,
     "metadata": {},
     "output_type": "execute_result"
    }
   ],
   "source": [
    "X.shape"
   ]
  },
  {
   "cell_type": "code",
   "execution_count": 33,
   "metadata": {
    "colab": {
     "base_uri": "https://localhost:8080/"
    },
    "executionInfo": {
     "elapsed": 7,
     "status": "ok",
     "timestamp": 1734024358476,
     "user": {
      "displayName": "SMI",
      "userId": "03894129457800149408"
     },
     "user_tz": -60
    },
    "id": "o53hQSf-Ts7e",
    "outputId": "c663faab-2f7b-4255-ea95-c24ec96e6223"
   },
   "outputs": [
    {
     "name": "stderr",
     "output_type": "stream",
     "text": [
      "/home/tomas/venv/lib/python3.12/site-packages/keras/src/layers/regularization/dropout.py:42: UserWarning: Do not pass an `input_shape`/`input_dim` argument to a layer. When using Sequential models, prefer using an `Input(shape)` object as the first layer in the model instead.\n",
      "  super().__init__(**kwargs)\n",
      "I0000 00:00:1734961390.494387   23586 gpu_device.cc:2022] Created device /job:localhost/replica:0/task:0/device:GPU:0 with 5713 MB memory:  -> device: 0, name: NVIDIA GeForce RTX 4070 Laptop GPU, pci bus id: 0000:01:00.0, compute capability: 8.9\n"
     ]
    }
   ],
   "source": [
    "# Definir modelo con 1 neurona de salida\n",
    "\n",
    "from keras.models import Sequential\n",
    "from keras.layers import Dense, Dropout\n",
    "from keras.regularizers import L1, L2, L1L2\n",
    "from keras.optimizers import Adam\n",
    "\n",
    "model = Sequential()\n",
    "model.add(Dropout(rate=0.2, input_shape=(X_tr.shape[1],)))\n",
    "# Loss: entropía + 0.002*(|w0| + |w1| + ... en capa densa 1) + 0.01*(|w0|^2 + |w1|^2 + ... en capa densa 2)\n",
    "model.add(Dense(5, activation='relu', # \"primera capa densa\"\n",
    "                #input_shape=(X_tr.shape[1],),\n",
    "                #kernel_regularizer=L1(0.002)\n",
    "                ))\n",
    "#model.add(Dense(5, activation='relu',\n",
    "#                kernel_regularizer=L2(0.01)\n",
    "#                ))\n",
    "model.add(Dense(1, activation='sigmoid'))\n",
    "\n",
    "model.compile(loss=\"binary_crossentropy\", optimizer=Adam(0.0001),\n",
    "              #optimizer=\"adam\",\n",
    "              metrics=[\"accuracy\"])"
   ]
  },
  {
   "cell_type": "code",
   "execution_count": 34,
   "metadata": {
    "colab": {
     "base_uri": "https://localhost:8080/",
     "height": 230
    },
    "executionInfo": {
     "elapsed": 263,
     "status": "ok",
     "timestamp": 1734024358733,
     "user": {
      "displayName": "SMI",
      "userId": "03894129457800149408"
     },
     "user_tz": -60
    },
    "id": "h3FsJbdRAAsJ",
    "outputId": "e3dfa815-23dd-49af-9529-bb5108d3aaa4"
   },
   "outputs": [
    {
     "data": {
      "text/html": [
       "<pre style=\"white-space:pre;overflow-x:auto;line-height:normal;font-family:Menlo,'DejaVu Sans Mono',consolas,'Courier New',monospace\"><span style=\"font-weight: bold\">Model: \"sequential\"</span>\n",
       "</pre>\n"
      ],
      "text/plain": [
       "\u001b[1mModel: \"sequential\"\u001b[0m\n"
      ]
     },
     "metadata": {},
     "output_type": "display_data"
    },
    {
     "data": {
      "text/html": [
       "<pre style=\"white-space:pre;overflow-x:auto;line-height:normal;font-family:Menlo,'DejaVu Sans Mono',consolas,'Courier New',monospace\">┏━━━━━━━━━━━━━━━━━━━━━━━━━━━━━━━━━┳━━━━━━━━━━━━━━━━━━━━━━━━┳━━━━━━━━━━━━━━━┓\n",
       "┃<span style=\"font-weight: bold\"> Layer (type)                    </span>┃<span style=\"font-weight: bold\"> Output Shape           </span>┃<span style=\"font-weight: bold\">       Param # </span>┃\n",
       "┡━━━━━━━━━━━━━━━━━━━━━━━━━━━━━━━━━╇━━━━━━━━━━━━━━━━━━━━━━━━╇━━━━━━━━━━━━━━━┩\n",
       "│ dropout (<span style=\"color: #0087ff; text-decoration-color: #0087ff\">Dropout</span>)               │ (<span style=\"color: #00d7ff; text-decoration-color: #00d7ff\">None</span>, <span style=\"color: #00af00; text-decoration-color: #00af00\">625</span>)            │             <span style=\"color: #00af00; text-decoration-color: #00af00\">0</span> │\n",
       "├─────────────────────────────────┼────────────────────────┼───────────────┤\n",
       "│ dense (<span style=\"color: #0087ff; text-decoration-color: #0087ff\">Dense</span>)                   │ (<span style=\"color: #00d7ff; text-decoration-color: #00d7ff\">None</span>, <span style=\"color: #00af00; text-decoration-color: #00af00\">5</span>)              │         <span style=\"color: #00af00; text-decoration-color: #00af00\">3,130</span> │\n",
       "├─────────────────────────────────┼────────────────────────┼───────────────┤\n",
       "│ dense_1 (<span style=\"color: #0087ff; text-decoration-color: #0087ff\">Dense</span>)                 │ (<span style=\"color: #00d7ff; text-decoration-color: #00d7ff\">None</span>, <span style=\"color: #00af00; text-decoration-color: #00af00\">1</span>)              │             <span style=\"color: #00af00; text-decoration-color: #00af00\">6</span> │\n",
       "└─────────────────────────────────┴────────────────────────┴───────────────┘\n",
       "</pre>\n"
      ],
      "text/plain": [
       "┏━━━━━━━━━━━━━━━━━━━━━━━━━━━━━━━━━┳━━━━━━━━━━━━━━━━━━━━━━━━┳━━━━━━━━━━━━━━━┓\n",
       "┃\u001b[1m \u001b[0m\u001b[1mLayer (type)                   \u001b[0m\u001b[1m \u001b[0m┃\u001b[1m \u001b[0m\u001b[1mOutput Shape          \u001b[0m\u001b[1m \u001b[0m┃\u001b[1m \u001b[0m\u001b[1m      Param #\u001b[0m\u001b[1m \u001b[0m┃\n",
       "┡━━━━━━━━━━━━━━━━━━━━━━━━━━━━━━━━━╇━━━━━━━━━━━━━━━━━━━━━━━━╇━━━━━━━━━━━━━━━┩\n",
       "│ dropout (\u001b[38;5;33mDropout\u001b[0m)               │ (\u001b[38;5;45mNone\u001b[0m, \u001b[38;5;34m625\u001b[0m)            │             \u001b[38;5;34m0\u001b[0m │\n",
       "├─────────────────────────────────┼────────────────────────┼───────────────┤\n",
       "│ dense (\u001b[38;5;33mDense\u001b[0m)                   │ (\u001b[38;5;45mNone\u001b[0m, \u001b[38;5;34m5\u001b[0m)              │         \u001b[38;5;34m3,130\u001b[0m │\n",
       "├─────────────────────────────────┼────────────────────────┼───────────────┤\n",
       "│ dense_1 (\u001b[38;5;33mDense\u001b[0m)                 │ (\u001b[38;5;45mNone\u001b[0m, \u001b[38;5;34m1\u001b[0m)              │             \u001b[38;5;34m6\u001b[0m │\n",
       "└─────────────────────────────────┴────────────────────────┴───────────────┘\n"
      ]
     },
     "metadata": {},
     "output_type": "display_data"
    },
    {
     "data": {
      "text/html": [
       "<pre style=\"white-space:pre;overflow-x:auto;line-height:normal;font-family:Menlo,'DejaVu Sans Mono',consolas,'Courier New',monospace\"><span style=\"font-weight: bold\"> Total params: </span><span style=\"color: #00af00; text-decoration-color: #00af00\">3,136</span> (12.25 KB)\n",
       "</pre>\n"
      ],
      "text/plain": [
       "\u001b[1m Total params: \u001b[0m\u001b[38;5;34m3,136\u001b[0m (12.25 KB)\n"
      ]
     },
     "metadata": {},
     "output_type": "display_data"
    },
    {
     "data": {
      "text/html": [
       "<pre style=\"white-space:pre;overflow-x:auto;line-height:normal;font-family:Menlo,'DejaVu Sans Mono',consolas,'Courier New',monospace\"><span style=\"font-weight: bold\"> Trainable params: </span><span style=\"color: #00af00; text-decoration-color: #00af00\">3,136</span> (12.25 KB)\n",
       "</pre>\n"
      ],
      "text/plain": [
       "\u001b[1m Trainable params: \u001b[0m\u001b[38;5;34m3,136\u001b[0m (12.25 KB)\n"
      ]
     },
     "metadata": {},
     "output_type": "display_data"
    },
    {
     "data": {
      "text/html": [
       "<pre style=\"white-space:pre;overflow-x:auto;line-height:normal;font-family:Menlo,'DejaVu Sans Mono',consolas,'Courier New',monospace\"><span style=\"font-weight: bold\"> Non-trainable params: </span><span style=\"color: #00af00; text-decoration-color: #00af00\">0</span> (0.00 B)\n",
       "</pre>\n"
      ],
      "text/plain": [
       "\u001b[1m Non-trainable params: \u001b[0m\u001b[38;5;34m0\u001b[0m (0.00 B)\n"
      ]
     },
     "metadata": {},
     "output_type": "display_data"
    }
   ],
   "source": [
    "model.summary()"
   ]
  },
  {
   "cell_type": "code",
   "execution_count": 35,
   "metadata": {
    "colab": {
     "base_uri": "https://localhost:8080/",
     "height": 464
    },
    "executionInfo": {
     "elapsed": 262,
     "status": "ok",
     "timestamp": 1734024358734,
     "user": {
      "displayName": "SMI",
      "userId": "03894129457800149408"
     },
     "user_tz": -60
    },
    "id": "jUWwkr5Q_fcB",
    "outputId": "462f6755-a6fa-4336-d47f-a2e4f66ae960"
   },
   "outputs": [
    {
     "data": {
      "image/svg+xml": [
       "<svg xmlns=\"http://www.w3.org/2000/svg\" xmlns:xlink=\"http://www.w3.org/1999/xlink\" width=\"1233pt\" height=\"922pt\" viewBox=\"0.00 0.00 444.00 332.00\">\n",
       "<g id=\"graph0\" class=\"graph\" transform=\"scale(2.78 2.78) rotate(0) translate(4 328)\">\n",
       "<title>G</title>\n",
       "<polygon fill=\"white\" stroke=\"transparent\" points=\"-4,4 -4,-328 440,-328 440,4 -4,4\"/>\n",
       "<!-- 135170923015072 -->\n",
       "<g id=\"node1\" class=\"node\">\n",
       "<title>135170923015072</title>\n",
       "<polygon fill=\"none\" stroke=\"black\" points=\"0,-240.5 0,-323.5 436,-323.5 436,-240.5 0,-240.5\"/>\n",
       "<polygon fill=\"black\" stroke=\"transparent\" points=\"0,-240.5 0,-323.5 436,-323.5 436,-240.5 0,-240.5\"/>\n",
       "<polygon fill=\"black\" stroke=\"transparent\" points=\"2,-281 2,-321 434,-321 434,-281 2,-281\"/>\n",
       "<polygon fill=\"none\" stroke=\"black\" points=\"2,-281 2,-321 434,-321 434,-281 2,-281\"/>\n",
       "<text text-anchor=\"start\" x=\"140.5\" y=\"-298.2\" font-family=\"Helvetica,sans-Serif\" font-weight=\"bold\" font-size=\"16.00\" fill=\"white\">dropout</text>\n",
       "<text text-anchor=\"start\" x=\"213.5\" y=\"-298.2\" font-family=\"Helvetica,sans-Serif\" font-size=\"16.00\" fill=\"white\"> (Dropout)</text>\n",
       "<polygon fill=\"white\" stroke=\"transparent\" points=\"2,-242 2,-279 211,-279 211,-242 2,-242\"/>\n",
       "<polygon fill=\"none\" stroke=\"black\" points=\"2,-242 2,-279 211,-279 211,-242 2,-242\"/>\n",
       "<text text-anchor=\"start\" x=\"13\" y=\"-257.8\" font-family=\"Helvetica,sans-Serif\" font-size=\"14.00\">Input shape: </text>\n",
       "<text text-anchor=\"start\" x=\"106\" y=\"-257.8\" font-family=\"Helvetica,sans-Serif\" font-weight=\"bold\" font-size=\"14.00\">(None, 625)</text>\n",
       "<polygon fill=\"white\" stroke=\"transparent\" points=\"213,-242 213,-279 434,-279 434,-242 213,-242\"/>\n",
       "<polygon fill=\"none\" stroke=\"black\" points=\"213,-242 213,-279 434,-279 434,-242 213,-242\"/>\n",
       "<text text-anchor=\"start\" x=\"224\" y=\"-257.8\" font-family=\"Helvetica,sans-Serif\" font-size=\"14.00\">Output shape: </text>\n",
       "<text text-anchor=\"start\" x=\"329\" y=\"-257.8\" font-family=\"Helvetica,sans-Serif\" font-weight=\"bold\" font-size=\"14.00\">(None, 625)</text>\n",
       "</g>\n",
       "<!-- 135170923374272 -->\n",
       "<g id=\"node2\" class=\"node\">\n",
       "<title>135170923374272</title>\n",
       "<polygon fill=\"none\" stroke=\"black\" points=\"9.5,-120.5 9.5,-203.5 426.5,-203.5 426.5,-120.5 9.5,-120.5\"/>\n",
       "<polygon fill=\"black\" stroke=\"transparent\" points=\"9.5,-120.5 9.5,-203.5 426.5,-203.5 426.5,-120.5 9.5,-120.5\"/>\n",
       "<polygon fill=\"black\" stroke=\"transparent\" points=\"12,-161 12,-201 425,-201 425,-161 12,-161\"/>\n",
       "<polygon fill=\"none\" stroke=\"black\" points=\"12,-161 12,-201 425,-201 425,-161 12,-161\"/>\n",
       "<text text-anchor=\"start\" x=\"157.5\" y=\"-178.2\" font-family=\"Helvetica,sans-Serif\" font-weight=\"bold\" font-size=\"16.00\" fill=\"white\">dense</text>\n",
       "<text text-anchor=\"start\" x=\"211.5\" y=\"-178.2\" font-family=\"Helvetica,sans-Serif\" font-size=\"16.00\" fill=\"white\"> (Dense)</text>\n",
       "<polygon fill=\"white\" stroke=\"transparent\" points=\"12,-122 12,-159 221,-159 221,-122 12,-122\"/>\n",
       "<polygon fill=\"none\" stroke=\"black\" points=\"12,-122 12,-159 221,-159 221,-122 12,-122\"/>\n",
       "<text text-anchor=\"start\" x=\"23\" y=\"-137.8\" font-family=\"Helvetica,sans-Serif\" font-size=\"14.00\">Input shape: </text>\n",
       "<text text-anchor=\"start\" x=\"116\" y=\"-137.8\" font-family=\"Helvetica,sans-Serif\" font-weight=\"bold\" font-size=\"14.00\">(None, 625)</text>\n",
       "<polygon fill=\"white\" stroke=\"transparent\" points=\"223,-122 223,-159 425,-159 425,-122 223,-122\"/>\n",
       "<polygon fill=\"none\" stroke=\"black\" points=\"223,-122 223,-159 425,-159 425,-122 223,-122\"/>\n",
       "<text text-anchor=\"start\" x=\"234\" y=\"-137.8\" font-family=\"Helvetica,sans-Serif\" font-size=\"14.00\">Output shape: </text>\n",
       "<text text-anchor=\"start\" x=\"339\" y=\"-137.8\" font-family=\"Helvetica,sans-Serif\" font-weight=\"bold\" font-size=\"14.00\">(None, 5)</text>\n",
       "</g>\n",
       "<!-- 135170923015072&#45;&gt;135170923374272 -->\n",
       "<g id=\"edge1\" class=\"edge\">\n",
       "<title>135170923015072-&gt;135170923374272</title>\n",
       "<path fill=\"none\" stroke=\"black\" stroke-width=\"2\" d=\"M218,-240.37C218,-240.37 218,-213.56 218,-213.56\"/>\n",
       "<polygon fill=\"black\" stroke=\"black\" stroke-width=\"2\" points=\"221.5,-213.56 218,-203.56 214.5,-213.56 221.5,-213.56\"/>\n",
       "</g>\n",
       "<!-- 135170923368752 -->\n",
       "<g id=\"node3\" class=\"node\">\n",
       "<title>135170923368752</title>\n",
       "<polygon fill=\"none\" stroke=\"black\" points=\"19,-0.5 19,-83.5 417,-83.5 417,-0.5 19,-0.5\"/>\n",
       "<polygon fill=\"black\" stroke=\"transparent\" points=\"19,-0.5 19,-83.5 417,-83.5 417,-0.5 19,-0.5\"/>\n",
       "<polygon fill=\"black\" stroke=\"transparent\" points=\"21,-41 21,-81 415,-81 415,-41 21,-41\"/>\n",
       "<polygon fill=\"none\" stroke=\"black\" points=\"21,-41 21,-81 415,-81 415,-41 21,-41\"/>\n",
       "<text text-anchor=\"start\" x=\"147.5\" y=\"-58.2\" font-family=\"Helvetica,sans-Serif\" font-weight=\"bold\" font-size=\"16.00\" fill=\"white\">dense_1</text>\n",
       "<text text-anchor=\"start\" x=\"220.5\" y=\"-58.2\" font-family=\"Helvetica,sans-Serif\" font-size=\"16.00\" fill=\"white\"> (Dense)</text>\n",
       "<polygon fill=\"white\" stroke=\"transparent\" points=\"21,-2 21,-39 211,-39 211,-2 21,-2\"/>\n",
       "<polygon fill=\"none\" stroke=\"black\" points=\"21,-2 21,-39 211,-39 211,-2 21,-2\"/>\n",
       "<text text-anchor=\"start\" x=\"32\" y=\"-17.8\" font-family=\"Helvetica,sans-Serif\" font-size=\"14.00\">Input shape: </text>\n",
       "<text text-anchor=\"start\" x=\"125\" y=\"-17.8\" font-family=\"Helvetica,sans-Serif\" font-weight=\"bold\" font-size=\"14.00\">(None, 5)</text>\n",
       "<polygon fill=\"white\" stroke=\"transparent\" points=\"213,-2 213,-39 415,-39 415,-2 213,-2\"/>\n",
       "<polygon fill=\"none\" stroke=\"black\" points=\"213,-2 213,-39 415,-39 415,-2 213,-2\"/>\n",
       "<text text-anchor=\"start\" x=\"224\" y=\"-17.8\" font-family=\"Helvetica,sans-Serif\" font-size=\"14.00\">Output shape: </text>\n",
       "<text text-anchor=\"start\" x=\"329\" y=\"-17.8\" font-family=\"Helvetica,sans-Serif\" font-weight=\"bold\" font-size=\"14.00\">(None, 1)</text>\n",
       "</g>\n",
       "<!-- 135170923374272&#45;&gt;135170923368752 -->\n",
       "<g id=\"edge2\" class=\"edge\">\n",
       "<title>135170923374272-&gt;135170923368752</title>\n",
       "<path fill=\"none\" stroke=\"black\" stroke-width=\"2\" d=\"M218,-120.37C218,-120.37 218,-93.56 218,-93.56\"/>\n",
       "<polygon fill=\"black\" stroke=\"black\" stroke-width=\"2\" points=\"221.5,-93.56 218,-83.56 214.5,-93.56 221.5,-93.56\"/>\n",
       "</g>\n",
       "</g>\n",
       "</svg>"
      ],
      "text/plain": [
       "<IPython.core.display.SVG object>"
      ]
     },
     "metadata": {},
     "output_type": "display_data"
    }
   ],
   "source": [
    "display_model(model)"
   ]
  },
  {
   "cell_type": "markdown",
   "metadata": {
    "id": "MFUy_3-lAwU9"
   },
   "source": [
    "## **Entrenamiento del modelo**"
   ]
  },
  {
   "cell_type": "code",
   "execution_count": 36,
   "metadata": {
    "executionInfo": {
     "elapsed": 6,
     "status": "ok",
     "timestamp": 1734024358734,
     "user": {
      "displayName": "SMI",
      "userId": "03894129457800149408"
     },
     "user_tz": -60
    },
    "id": "1nn0EvVaAx13"
   },
   "outputs": [],
   "source": [
    "from keras.callbacks import ModelCheckpoint\n",
    "\n",
    "serie_tr_acc = []\n",
    "serie_val_acc = []\n",
    "serie_tr_loss  = []\n",
    "serie_val_loss = []\n",
    "\n",
    "epochs = 500\n",
    "\n",
    "modelpath=\"best_model.keras\"\n",
    "\n",
    "checkpoint = ModelCheckpoint(modelpath, monitor='val_accuracy', verbose=1,\n",
    "                             save_best_only=True,\n",
    "                             mode='max') # graba sólo los que mejoran en validación\n",
    "callbacks_list = [checkpoint]"
   ]
  },
  {
   "cell_type": "code",
   "execution_count": 37,
   "metadata": {
    "executionInfo": {
     "elapsed": 5,
     "status": "ok",
     "timestamp": 1734024358734,
     "user": {
      "displayName": "SMI",
      "userId": "03894129457800149408"
     },
     "user_tz": -60
    },
    "id": "7XLDZSDIAx6C"
   },
   "outputs": [],
   "source": [
    "from IPython.display import clear_output"
   ]
  },
  {
   "cell_type": "code",
   "execution_count": 38,
   "metadata": {
    "colab": {
     "base_uri": "https://localhost:8080/",
     "height": 427
    },
    "executionInfo": {
     "elapsed": 461589,
     "status": "ok",
     "timestamp": 1734024820318,
     "user": {
      "displayName": "SMI",
      "userId": "03894129457800149408"
     },
     "user_tz": -60
    },
    "id": "sQGhpc2WAyDM",
    "outputId": "0dd920b1-3319-4837-bc17-2dbc28e27563"
   },
   "outputs": [
    {
     "data": {
      "image/png": "[encoded data removed]",
      "text/plain": [
       "<Figure size 1000x400 with 2 Axes>"
      ]
     },
     "metadata": {},
     "output_type": "display_data"
    }
   ],
   "source": [
    "for e in range(epochs):\n",
    "    history = model.fit(X_tr, y_tr, epochs=1, batch_size=32, callbacks=callbacks_list,\n",
    "                        verbose=10, validation_data=(X_val,y_val))\n",
    "\n",
    "    serie_tr_acc.append(history.history['accuracy'][0])\n",
    "    serie_val_acc.append(history.history['val_accuracy'][0])\n",
    "    serie_tr_loss.append(history.history['loss'][0])\n",
    "    serie_val_loss.append(history.history['val_loss'][0])\n",
    "\n",
    "    if len(serie_tr_acc) % 2 == 0:\n",
    "        clear_output()\n",
    "    grafica_entrenamiento(serie_tr_acc, serie_val_acc, serie_tr_loss, serie_val_loss)"
   ]
  },
  {
   "cell_type": "markdown",
   "metadata": {
    "id": "ROW4nkrbA0bF"
   },
   "source": [
    "Recupero el mejor modelo (punto rojo), que está grabado en el fichero dado por la variable modelpath:"
   ]
  },
  {
   "cell_type": "code",
   "execution_count": 39,
   "metadata": {
    "colab": {
     "base_uri": "https://localhost:8080/",
     "height": 36
    },
    "executionInfo": {
     "elapsed": 7,
     "status": "ok",
     "timestamp": 1734024820318,
     "user": {
      "displayName": "SMI",
      "userId": "03894129457800149408"
     },
     "user_tz": -60
    },
    "id": "oedaHIYpA-tf",
    "outputId": "db243832-15e1-44c0-ab81-82eb7f629a83"
   },
   "outputs": [
    {
     "data": {
      "text/plain": [
       "'best_model.keras'"
      ]
     },
     "execution_count": 39,
     "metadata": {},
     "output_type": "execute_result"
    }
   ],
   "source": [
    "modelpath"
   ]
  },
  {
   "cell_type": "code",
   "execution_count": 40,
   "metadata": {
    "executionInfo": {
     "elapsed": 411,
     "status": "ok",
     "timestamp": 1734024820724,
     "user": {
      "displayName": "SMI",
      "userId": "03894129457800149408"
     },
     "user_tz": -60
    },
    "id": "ZiJkL1mIAyGh"
   },
   "outputs": [],
   "source": [
    "from keras.models import load_model\n",
    "\n",
    "model = load_model(modelpath)"
   ]
  },
  {
   "cell_type": "markdown",
   "metadata": {
    "id": "jh_MIdQQBDbb"
   },
   "source": [
    "## **Análisis de los resultados del modelo**"
   ]
  },
  {
   "cell_type": "code",
   "execution_count": 41,
   "metadata": {
    "colab": {
     "base_uri": "https://localhost:8080/"
    },
    "executionInfo": {
     "elapsed": 7,
     "status": "ok",
     "timestamp": 1734024820724,
     "user": {
      "displayName": "SMI",
      "userId": "03894129457800149408"
     },
     "user_tz": -60
    },
    "id": "yt5LDI7zAyL-",
    "outputId": "78d048b0-31cd-40c2-abf8-5e367739d48d"
   },
   "outputs": [
    {
     "name": "stdout",
     "output_type": "stream",
     "text": [
      "\u001b[1m7/7\u001b[0m \u001b[32m━━━━━━━━━━━━━━━━━━━━\u001b[0m\u001b[37m\u001b[0m \u001b[1m0s\u001b[0m 23ms/step\n"
     ]
    },
    {
     "data": {
      "text/plain": [
       "array([0.14517824, 0.32377404, 0.95726585, 0.3913917 , 0.4461493 ],\n",
       "      dtype=float32)"
      ]
     },
     "execution_count": 41,
     "metadata": {},
     "output_type": "execute_result"
    }
   ],
   "source": [
    "probs_predicciones_test = model.predict(X_test).flatten()\n",
    "probs_predicciones_test[:5]"
   ]
  },
  {
   "cell_type": "markdown",
   "metadata": {
    "id": "Khjr1htMENz_"
   },
   "source": [
    "**Score (tasa de acierto, \"accuracy\") en test:**"
   ]
  },
  {
   "cell_type": "code",
   "execution_count": 42,
   "metadata": {
    "colab": {
     "base_uri": "https://localhost:8080/"
    },
    "executionInfo": {
     "elapsed": 6,
     "status": "ok",
     "timestamp": 1734024820724,
     "user": {
      "displayName": "SMI",
      "userId": "03894129457800149408"
     },
     "user_tz": -60
    },
    "id": "o3nVyzXHAyUI",
    "outputId": "9b83826a-f359-4ce9-c8d2-035de9855c09"
   },
   "outputs": [
    {
     "data": {
      "text/plain": [
       "np.float64(0.735)"
      ]
     },
     "execution_count": 42,
     "metadata": {},
     "output_type": "execute_result"
    }
   ],
   "source": [
    "predicciones_test = np.round(probs_predicciones_test)\n",
    "\n",
    "np.mean(y_test == predicciones_test)"
   ]
  },
  {
   "cell_type": "markdown",
   "metadata": {
    "id": "sRBmQy3VETvu"
   },
   "source": [
    "Score en training:"
   ]
  },
  {
   "cell_type": "code",
   "execution_count": 43,
   "metadata": {
    "colab": {
     "base_uri": "https://localhost:8080/"
    },
    "executionInfo": {
     "elapsed": 4,
     "status": "ok",
     "timestamp": 1734024820724,
     "user": {
      "displayName": "SMI",
      "userId": "03894129457800149408"
     },
     "user_tz": -60
    },
    "id": "MsIR7nmOLn1k",
    "outputId": "f1b0eaca-3e4c-44fe-b0ce-c8c8f0d13822"
   },
   "outputs": [
    {
     "name": "stdout",
     "output_type": "stream",
     "text": [
      "\u001b[1m40/40\u001b[0m \u001b[32m━━━━━━━━━━━━━━━━━━━━\u001b[0m\u001b[37m\u001b[0m \u001b[1m0s\u001b[0m 2ms/step\n"
     ]
    },
    {
     "data": {
      "text/plain": [
       "np.float64(0.8214285714285714)"
      ]
     },
     "execution_count": 43,
     "metadata": {},
     "output_type": "execute_result"
    }
   ],
   "source": [
    "np.mean(y_tr == np.round(model.predict(X_tr).flatten()))"
   ]
  },
  {
   "cell_type": "markdown",
   "metadata": {
    "id": "iEABDh3FEXRS"
   },
   "source": [
    "Score en validación:"
   ]
  },
  {
   "cell_type": "code",
   "execution_count": 44,
   "metadata": {
    "colab": {
     "base_uri": "https://localhost:8080/"
    },
    "executionInfo": {
     "elapsed": 366,
     "status": "ok",
     "timestamp": 1734024821088,
     "user": {
      "displayName": "SMI",
      "userId": "03894129457800149408"
     },
     "user_tz": -60
    },
    "id": "eOCoaIcQLn5e",
    "outputId": "6b4be915-e9b5-48ca-9d72-aa70d75fbe0c"
   },
   "outputs": [
    {
     "name": "stdout",
     "output_type": "stream",
     "text": [
      "\u001b[1m17/17\u001b[0m \u001b[32m━━━━━━━━━━━━━━━━━━━━\u001b[0m\u001b[37m\u001b[0m \u001b[1m0s\u001b[0m 7ms/step\n"
     ]
    },
    {
     "data": {
      "text/plain": [
       "np.float64(0.7148148148148148)"
      ]
     },
     "execution_count": 44,
     "metadata": {},
     "output_type": "execute_result"
    }
   ],
   "source": [
    "np.mean(y_val == np.round(model.predict(X_val).flatten()))"
   ]
  },
  {
   "cell_type": "code",
   "execution_count": 45,
   "metadata": {
    "colab": {
     "base_uri": "https://localhost:8080/",
     "height": 480
    },
    "executionInfo": {
     "elapsed": 433,
     "status": "ok",
     "timestamp": 1734024821519,
     "user": {
      "displayName": "SMI",
      "userId": "03894129457800149408"
     },
     "user_tz": -60
    },
    "id": "XAG8UeqCEkSp",
    "outputId": "685436a4-3823-45b1-ce9a-ebea0a5ff375"
   },
   "outputs": [
    {
     "data": {
      "image/png": "[encoded data removed]",
      "text/plain": [
       "<Figure size 640x480 with 1 Axes>"
      ]
     },
     "metadata": {},
     "output_type": "display_data"
    }
   ],
   "source": [
    "analisis_roc(y=y_test, positive_class_scores=probs_predicciones_test, POSITIVE_CLASS=1)"
   ]
  },
  {
   "cell_type": "code",
   "execution_count": 46,
   "metadata": {
    "colab": {
     "base_uri": "https://localhost:8080/",
     "height": 539
    },
    "executionInfo": {
     "elapsed": 318,
     "status": "ok",
     "timestamp": 1734024821834,
     "user": {
      "displayName": "SMI",
      "userId": "03894129457800149408"
     },
     "user_tz": -60
    },
    "id": "O5l5c-8dEtU-",
    "outputId": "da5fbc9b-a830-4287-baa0-1c895a04d395"
   },
   "outputs": [
    {
     "name": "stdout",
     "output_type": "stream",
     "text": [
      "Confusion matrix, without normalization\n",
      "[[78 22]\n",
      " [31 69]]\n"
     ]
    },
    {
     "data": {
      "image/png": "[encoded data removed]",
      "text/plain": [
       "<Figure size 640x480 with 2 Axes>"
      ]
     },
     "metadata": {},
     "output_type": "display_data"
    }
   ],
   "source": [
    "plot_confusion_matrix(y=y_test, y_pred=predicciones_test)"
   ]
  },
  {
   "cell_type": "code",
   "execution_count": null,
   "metadata": {
    "executionInfo": {
     "elapsed": 3,
     "status": "ok",
     "timestamp": 1734024821834,
     "user": {
      "displayName": "SMI",
      "userId": "03894129457800149408"
     },
     "user_tz": -60
    },
    "id": "1wQ4Yxz1FI1I"
   },
   "outputs": [],
   "source": []
  }
 ],
 "metadata": {
  "colab": {
   "provenance": []
  },
  "kernelspec": {
   "display_name": "Python 3 (ipykernel)",
   "language": "python",
   "name": "python3"
  },
  "language_info": {
   "codemirror_mode": {
    "name": "ipython",
    "version": 3
   },
   "file_extension": ".py",
   "mimetype": "text/x-python",
   "name": "python",
   "nbconvert_exporter": "python",
   "pygments_lexer": "ipython3",
   "version": "3.12.3"
  }
 },
 "nbformat": 4,
 "nbformat_minor": 0
}
